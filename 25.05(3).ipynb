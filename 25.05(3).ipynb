{
 "cells": [
  {
   "cell_type": "code",
   "execution_count": 1,
   "id": "a6d514a4-0b2a-45b2-a7ef-1db650db285a",
   "metadata": {},
   "outputs": [
    {
     "name": "stderr",
     "output_type": "stream",
     "text": [
      "C:\\Users\\Sony\\anaconda3\\lib\\site-packages\\numpy\\_distributor_init.py:32: UserWarning: loaded more than 1 DLL from .libs:\n",
      "C:\\Users\\Sony\\anaconda3\\lib\\site-packages\\numpy\\.libs\\libopenblas.GK7GX5KEQ4F6UYO3P26ULGBQYHGQO7J4.gfortran-win_amd64.dll\n",
      "C:\\Users\\Sony\\anaconda3\\lib\\site-packages\\numpy\\.libs\\libopenblas.XWYDX2IKJW2NMTWSFYNGFUWKQU3LYTCZ.gfortran-win_amd64.dll\n",
      "  stacklevel=1)\n"
     ]
    }
   ],
   "source": [
    "import pandas as pd\n",
    "#import seaborn as sns\n",
    "import numpy as np\n",
    "import shap\n"
   ]
  },
  {
   "cell_type": "code",
   "execution_count": 2,
   "id": "0415d86e",
   "metadata": {},
   "outputs": [],
   "source": [
    "df = pd.read_csv('v6_data(1).csv', index_col=0)"
   ]
  },
  {
   "cell_type": "code",
   "execution_count": 3,
   "id": "27dc65c1",
   "metadata": {},
   "outputs": [
    {
     "data": {
      "text/html": [
       "<div>\n",
       "<style scoped>\n",
       "    .dataframe tbody tr th:only-of-type {\n",
       "        vertical-align: middle;\n",
       "    }\n",
       "\n",
       "    .dataframe tbody tr th {\n",
       "        vertical-align: top;\n",
       "    }\n",
       "\n",
       "    .dataframe thead th {\n",
       "        text-align: right;\n",
       "    }\n",
       "</style>\n",
       "<table border=\"1\" class=\"dataframe\">\n",
       "  <thead>\n",
       "    <tr style=\"text-align: right;\">\n",
       "      <th></th>\n",
       "      <th>baths</th>\n",
       "      <th>fireplace</th>\n",
       "      <th>sqft</th>\n",
       "      <th>beds</th>\n",
       "      <th>stories</th>\n",
       "      <th>target</th>\n",
       "      <th>pool</th>\n",
       "      <th>raiting_school</th>\n",
       "      <th>distance_school</th>\n",
       "      <th>year_built</th>\n",
       "      <th>...</th>\n",
       "      <th>pop_5kk+</th>\n",
       "      <th>pop_1kk+</th>\n",
       "      <th>heating_count</th>\n",
       "      <th>cooling_count</th>\n",
       "      <th>parking_count</th>\n",
       "      <th>Rank_2021</th>\n",
       "      <th>Rank_2010</th>\n",
       "      <th>population2021</th>\n",
       "      <th>population2010</th>\n",
       "      <th>changes</th>\n",
       "    </tr>\n",
       "  </thead>\n",
       "  <tbody>\n",
       "    <tr>\n",
       "      <th>1</th>\n",
       "      <td>2.0</td>\n",
       "      <td>1.0</td>\n",
       "      <td>3000.0</td>\n",
       "      <td>3.0</td>\n",
       "      <td>1.0</td>\n",
       "      <td>2895000.0</td>\n",
       "      <td>1.0</td>\n",
       "      <td>6.666667</td>\n",
       "      <td>1.960000</td>\n",
       "      <td>1961.0</td>\n",
       "      <td>...</td>\n",
       "      <td>0.0</td>\n",
       "      <td>0.0</td>\n",
       "      <td>1.0</td>\n",
       "      <td>1.0</td>\n",
       "      <td>1.0</td>\n",
       "      <td>1.0</td>\n",
       "      <td>1.0</td>\n",
       "      <td>39237836</td>\n",
       "      <td>37253956</td>\n",
       "      <td>5.30</td>\n",
       "    </tr>\n",
       "    <tr>\n",
       "      <th>2</th>\n",
       "      <td>8.0</td>\n",
       "      <td>1.0</td>\n",
       "      <td>6457.0</td>\n",
       "      <td>5.0</td>\n",
       "      <td>3.0</td>\n",
       "      <td>2395000.0</td>\n",
       "      <td>0.0</td>\n",
       "      <td>9.250000</td>\n",
       "      <td>0.752500</td>\n",
       "      <td>2006.0</td>\n",
       "      <td>...</td>\n",
       "      <td>0.0</td>\n",
       "      <td>0.0</td>\n",
       "      <td>1.0</td>\n",
       "      <td>1.0</td>\n",
       "      <td>1.0</td>\n",
       "      <td>2.0</td>\n",
       "      <td>2.0</td>\n",
       "      <td>29527941</td>\n",
       "      <td>25145561</td>\n",
       "      <td>17.40</td>\n",
       "    </tr>\n",
       "    <tr>\n",
       "      <th>3</th>\n",
       "      <td>3.0</td>\n",
       "      <td>0.0</td>\n",
       "      <td>2839.0</td>\n",
       "      <td>4.0</td>\n",
       "      <td>1.0</td>\n",
       "      <td>525000.0</td>\n",
       "      <td>1.0</td>\n",
       "      <td>7.333333</td>\n",
       "      <td>2.040000</td>\n",
       "      <td>1996.0</td>\n",
       "      <td>...</td>\n",
       "      <td>0.0</td>\n",
       "      <td>1.0</td>\n",
       "      <td>1.0</td>\n",
       "      <td>1.0</td>\n",
       "      <td>2.0</td>\n",
       "      <td>3.0</td>\n",
       "      <td>4.0</td>\n",
       "      <td>21781128</td>\n",
       "      <td>18801310</td>\n",
       "      <td>15.85</td>\n",
       "    </tr>\n",
       "    <tr>\n",
       "      <th>4</th>\n",
       "      <td>4.0</td>\n",
       "      <td>1.0</td>\n",
       "      <td>3080.0</td>\n",
       "      <td>4.0</td>\n",
       "      <td>2.0</td>\n",
       "      <td>365000.0</td>\n",
       "      <td>0.0</td>\n",
       "      <td>7.000000</td>\n",
       "      <td>1.935000</td>\n",
       "      <td>2016.0</td>\n",
       "      <td>...</td>\n",
       "      <td>0.0</td>\n",
       "      <td>0.0</td>\n",
       "      <td>1.0</td>\n",
       "      <td>1.0</td>\n",
       "      <td>1.0</td>\n",
       "      <td>2.0</td>\n",
       "      <td>2.0</td>\n",
       "      <td>29527941</td>\n",
       "      <td>25145561</td>\n",
       "      <td>17.40</td>\n",
       "    </tr>\n",
       "    <tr>\n",
       "      <th>6</th>\n",
       "      <td>4.0</td>\n",
       "      <td>1.0</td>\n",
       "      <td>3645.0</td>\n",
       "      <td>4.0</td>\n",
       "      <td>2.0</td>\n",
       "      <td>499007.0</td>\n",
       "      <td>0.0</td>\n",
       "      <td>8.333333</td>\n",
       "      <td>3.213333</td>\n",
       "      <td>2019.0</td>\n",
       "      <td>...</td>\n",
       "      <td>0.0</td>\n",
       "      <td>0.0</td>\n",
       "      <td>1.0</td>\n",
       "      <td>1.0</td>\n",
       "      <td>1.0</td>\n",
       "      <td>2.0</td>\n",
       "      <td>2.0</td>\n",
       "      <td>29527941</td>\n",
       "      <td>25145561</td>\n",
       "      <td>17.40</td>\n",
       "    </tr>\n",
       "  </tbody>\n",
       "</table>\n",
       "<p>5 rows × 27 columns</p>\n",
       "</div>"
      ],
      "text/plain": [
       "   baths  fireplace    sqft  beds  stories     target  pool  raiting_school  \\\n",
       "1    2.0        1.0  3000.0   3.0      1.0  2895000.0   1.0        6.666667   \n",
       "2    8.0        1.0  6457.0   5.0      3.0  2395000.0   0.0        9.250000   \n",
       "3    3.0        0.0  2839.0   4.0      1.0   525000.0   1.0        7.333333   \n",
       "4    4.0        1.0  3080.0   4.0      2.0   365000.0   0.0        7.000000   \n",
       "6    4.0        1.0  3645.0   4.0      2.0   499007.0   0.0        8.333333   \n",
       "\n",
       "   distance_school  year_built  ...  pop_5kk+  pop_1kk+  heating_count  \\\n",
       "1         1.960000      1961.0  ...       0.0       0.0            1.0   \n",
       "2         0.752500      2006.0  ...       0.0       0.0            1.0   \n",
       "3         2.040000      1996.0  ...       0.0       1.0            1.0   \n",
       "4         1.935000      2016.0  ...       0.0       0.0            1.0   \n",
       "6         3.213333      2019.0  ...       0.0       0.0            1.0   \n",
       "\n",
       "   cooling_count  parking_count  Rank_2021  Rank_2010  population2021  \\\n",
       "1            1.0            1.0        1.0        1.0        39237836   \n",
       "2            1.0            1.0        2.0        2.0        29527941   \n",
       "3            1.0            2.0        3.0        4.0        21781128   \n",
       "4            1.0            1.0        2.0        2.0        29527941   \n",
       "6            1.0            1.0        2.0        2.0        29527941   \n",
       "\n",
       "   population2010  changes  \n",
       "1        37253956     5.30  \n",
       "2        25145561    17.40  \n",
       "3        18801310    15.85  \n",
       "4        25145561    17.40  \n",
       "6        25145561    17.40  \n",
       "\n",
       "[5 rows x 27 columns]"
      ]
     },
     "execution_count": 3,
     "metadata": {},
     "output_type": "execute_result"
    }
   ],
   "source": [
    "df.head()"
   ]
  },
  {
   "cell_type": "code",
   "execution_count": 4,
   "id": "76517393-4841-464a-8f82-c6a26ffd42ba",
   "metadata": {},
   "outputs": [],
   "source": [
    "#df.drop(columns=[\"status\",'propertyType','street','homeFacts','city','zipcode','state','heating','cooling','parking'],inplace=True)"
   ]
  },
  {
   "cell_type": "code",
   "execution_count": 4,
   "id": "73b1278e-8a65-4bb9-8bd8-07947d1685a6",
   "metadata": {},
   "outputs": [
    {
     "data": {
      "text/html": [
       "<div>\n",
       "<style scoped>\n",
       "    .dataframe tbody tr th:only-of-type {\n",
       "        vertical-align: middle;\n",
       "    }\n",
       "\n",
       "    .dataframe tbody tr th {\n",
       "        vertical-align: top;\n",
       "    }\n",
       "\n",
       "    .dataframe thead th {\n",
       "        text-align: right;\n",
       "    }\n",
       "</style>\n",
       "<table border=\"1\" class=\"dataframe\">\n",
       "  <thead>\n",
       "    <tr style=\"text-align: right;\">\n",
       "      <th></th>\n",
       "      <th>1</th>\n",
       "      <th>2</th>\n",
       "    </tr>\n",
       "  </thead>\n",
       "  <tbody>\n",
       "    <tr>\n",
       "      <th>baths</th>\n",
       "      <td>2.000000e+00</td>\n",
       "      <td>8.000000e+00</td>\n",
       "    </tr>\n",
       "    <tr>\n",
       "      <th>fireplace</th>\n",
       "      <td>1.000000e+00</td>\n",
       "      <td>1.000000e+00</td>\n",
       "    </tr>\n",
       "    <tr>\n",
       "      <th>sqft</th>\n",
       "      <td>3.000000e+03</td>\n",
       "      <td>6.457000e+03</td>\n",
       "    </tr>\n",
       "    <tr>\n",
       "      <th>beds</th>\n",
       "      <td>3.000000e+00</td>\n",
       "      <td>5.000000e+00</td>\n",
       "    </tr>\n",
       "    <tr>\n",
       "      <th>stories</th>\n",
       "      <td>1.000000e+00</td>\n",
       "      <td>3.000000e+00</td>\n",
       "    </tr>\n",
       "    <tr>\n",
       "      <th>target</th>\n",
       "      <td>2.895000e+06</td>\n",
       "      <td>2.395000e+06</td>\n",
       "    </tr>\n",
       "    <tr>\n",
       "      <th>pool</th>\n",
       "      <td>1.000000e+00</td>\n",
       "      <td>0.000000e+00</td>\n",
       "    </tr>\n",
       "    <tr>\n",
       "      <th>raiting_school</th>\n",
       "      <td>6.666667e+00</td>\n",
       "      <td>9.250000e+00</td>\n",
       "    </tr>\n",
       "    <tr>\n",
       "      <th>distance_school</th>\n",
       "      <td>1.960000e+00</td>\n",
       "      <td>7.525000e-01</td>\n",
       "    </tr>\n",
       "    <tr>\n",
       "      <th>year_built</th>\n",
       "      <td>1.961000e+03</td>\n",
       "      <td>2.006000e+03</td>\n",
       "    </tr>\n",
       "    <tr>\n",
       "      <th>remodeled_year</th>\n",
       "      <td>1.967000e+03</td>\n",
       "      <td>2.006000e+03</td>\n",
       "    </tr>\n",
       "    <tr>\n",
       "      <th>lotsize</th>\n",
       "      <td>8.626000e+03</td>\n",
       "      <td>8.220000e+03</td>\n",
       "    </tr>\n",
       "    <tr>\n",
       "      <th>heating_bool</th>\n",
       "      <td>1.000000e+00</td>\n",
       "      <td>1.000000e+00</td>\n",
       "    </tr>\n",
       "    <tr>\n",
       "      <th>parking_bool</th>\n",
       "      <td>1.000000e+00</td>\n",
       "      <td>1.000000e+00</td>\n",
       "    </tr>\n",
       "    <tr>\n",
       "      <th>cooling_bool</th>\n",
       "      <td>1.000000e+00</td>\n",
       "      <td>1.000000e+00</td>\n",
       "    </tr>\n",
       "    <tr>\n",
       "      <th>is_expensive</th>\n",
       "      <td>1.000000e+00</td>\n",
       "      <td>0.000000e+00</td>\n",
       "    </tr>\n",
       "    <tr>\n",
       "      <th>pop_1m+</th>\n",
       "      <td>1.000000e+00</td>\n",
       "      <td>1.000000e+00</td>\n",
       "    </tr>\n",
       "    <tr>\n",
       "      <th>pop_5kk+</th>\n",
       "      <td>0.000000e+00</td>\n",
       "      <td>0.000000e+00</td>\n",
       "    </tr>\n",
       "    <tr>\n",
       "      <th>pop_1kk+</th>\n",
       "      <td>0.000000e+00</td>\n",
       "      <td>0.000000e+00</td>\n",
       "    </tr>\n",
       "    <tr>\n",
       "      <th>heating_count</th>\n",
       "      <td>1.000000e+00</td>\n",
       "      <td>1.000000e+00</td>\n",
       "    </tr>\n",
       "    <tr>\n",
       "      <th>cooling_count</th>\n",
       "      <td>1.000000e+00</td>\n",
       "      <td>1.000000e+00</td>\n",
       "    </tr>\n",
       "    <tr>\n",
       "      <th>parking_count</th>\n",
       "      <td>1.000000e+00</td>\n",
       "      <td>1.000000e+00</td>\n",
       "    </tr>\n",
       "    <tr>\n",
       "      <th>Rank_2021</th>\n",
       "      <td>1.000000e+00</td>\n",
       "      <td>2.000000e+00</td>\n",
       "    </tr>\n",
       "    <tr>\n",
       "      <th>Rank_2010</th>\n",
       "      <td>1.000000e+00</td>\n",
       "      <td>2.000000e+00</td>\n",
       "    </tr>\n",
       "    <tr>\n",
       "      <th>population2021</th>\n",
       "      <td>3.923784e+07</td>\n",
       "      <td>2.952794e+07</td>\n",
       "    </tr>\n",
       "    <tr>\n",
       "      <th>population2010</th>\n",
       "      <td>3.725396e+07</td>\n",
       "      <td>2.514556e+07</td>\n",
       "    </tr>\n",
       "    <tr>\n",
       "      <th>changes</th>\n",
       "      <td>5.300000e+00</td>\n",
       "      <td>1.740000e+01</td>\n",
       "    </tr>\n",
       "  </tbody>\n",
       "</table>\n",
       "</div>"
      ],
      "text/plain": [
       "                            1             2\n",
       "baths            2.000000e+00  8.000000e+00\n",
       "fireplace        1.000000e+00  1.000000e+00\n",
       "sqft             3.000000e+03  6.457000e+03\n",
       "beds             3.000000e+00  5.000000e+00\n",
       "stories          1.000000e+00  3.000000e+00\n",
       "target           2.895000e+06  2.395000e+06\n",
       "pool             1.000000e+00  0.000000e+00\n",
       "raiting_school   6.666667e+00  9.250000e+00\n",
       "distance_school  1.960000e+00  7.525000e-01\n",
       "year_built       1.961000e+03  2.006000e+03\n",
       "remodeled_year   1.967000e+03  2.006000e+03\n",
       "lotsize          8.626000e+03  8.220000e+03\n",
       "heating_bool     1.000000e+00  1.000000e+00\n",
       "parking_bool     1.000000e+00  1.000000e+00\n",
       "cooling_bool     1.000000e+00  1.000000e+00\n",
       "is_expensive     1.000000e+00  0.000000e+00\n",
       "pop_1m+          1.000000e+00  1.000000e+00\n",
       "pop_5kk+         0.000000e+00  0.000000e+00\n",
       "pop_1kk+         0.000000e+00  0.000000e+00\n",
       "heating_count    1.000000e+00  1.000000e+00\n",
       "cooling_count    1.000000e+00  1.000000e+00\n",
       "parking_count    1.000000e+00  1.000000e+00\n",
       "Rank_2021        1.000000e+00  2.000000e+00\n",
       "Rank_2010        1.000000e+00  2.000000e+00\n",
       "population2021   3.923784e+07  2.952794e+07\n",
       "population2010   3.725396e+07  2.514556e+07\n",
       "changes          5.300000e+00  1.740000e+01"
      ]
     },
     "execution_count": 4,
     "metadata": {},
     "output_type": "execute_result"
    }
   ],
   "source": [
    "df.head(2).T"
   ]
  },
  {
   "cell_type": "code",
   "execution_count": 37,
   "id": "436ca505-b2d8-454e-80e4-6e7b3553b826",
   "metadata": {},
   "outputs": [],
   "source": [
    "categorical_features = ['fireplace','stories','pool','heating_bool','parking_bool','cooling_bool',\n",
    "                        'is_expensive','pop_1m+','pop_5kk+','pop_1kk+','Rank_2021','Rank_2010']\n",
    "\n",
    "continious_features = ['baths', 'sqft', 'beds','raiting_school', 'distance_school','year_built','remodeled_year','lotsize'\n",
    "                       , 'heating_count','cooling_count','parking_count','population2010','population2021','changes']\n",
    "features = categorical_features+ continious_features"
   ]
  },
  {
   "cell_type": "code",
   "execution_count": 7,
   "id": "ef3ef0f7",
   "metadata": {},
   "outputs": [
    {
     "name": "stdout",
     "output_type": "stream",
     "text": [
      "<class 'pandas.core.frame.DataFrame'>\n",
      "Int64Index: 73233 entries, 1 to 109596\n",
      "Data columns (total 27 columns):\n",
      " #   Column           Non-Null Count  Dtype  \n",
      "---  ------           --------------  -----  \n",
      " 0   baths            73233 non-null  float64\n",
      " 1   fireplace        73233 non-null  float64\n",
      " 2   sqft             73233 non-null  float64\n",
      " 3   beds             73233 non-null  float64\n",
      " 4   stories          73233 non-null  float64\n",
      " 5   target           73233 non-null  float64\n",
      " 6   pool             73233 non-null  float64\n",
      " 7   raiting_school   73233 non-null  float64\n",
      " 8   distance_school  73233 non-null  float64\n",
      " 9   year_built       73233 non-null  float64\n",
      " 10  remodeled_year   73233 non-null  float64\n",
      " 11  lotsize          73233 non-null  float64\n",
      " 12  heating_bool     73233 non-null  int64  \n",
      " 13  parking_bool     73233 non-null  int64  \n",
      " 14  cooling_bool     73233 non-null  int64  \n",
      " 15  is_expensive     73233 non-null  float64\n",
      " 16  pop_1m+          73233 non-null  float64\n",
      " 17  pop_5kk+         73233 non-null  float64\n",
      " 18  pop_1kk+         73233 non-null  float64\n",
      " 19  heating_count    73233 non-null  float64\n",
      " 20  cooling_count    73233 non-null  float64\n",
      " 21  parking_count    73233 non-null  float64\n",
      " 22  Rank_2021        73233 non-null  float64\n",
      " 23  Rank_2010        73233 non-null  float64\n",
      " 24  population2021   73233 non-null  int64  \n",
      " 25  population2010   73233 non-null  int64  \n",
      " 26  changes          73233 non-null  float64\n",
      "dtypes: float64(22), int64(5)\n",
      "memory usage: 15.6 MB\n"
     ]
    }
   ],
   "source": [
    "df.info()"
   ]
  },
  {
   "cell_type": "code",
   "execution_count": 39,
   "id": "c2d91d36-ca3f-412c-887d-6ffaf495dd54",
   "metadata": {},
   "outputs": [],
   "source": [
    "X = df[categorical_features+continious_features]\n",
    "y = df.target"
   ]
  },
  {
   "cell_type": "code",
   "execution_count": 40,
   "id": "a44453e6",
   "metadata": {},
   "outputs": [],
   "source": [
    "\n",
    "from sklearn.model_selection import train_test_split"
   ]
  },
  {
   "cell_type": "code",
   "execution_count": 41,
   "id": "e5022bd8-e1fc-46ac-beb0-66e510effc37",
   "metadata": {},
   "outputs": [],
   "source": [
    "from sklearn.ensemble import HistGradientBoostingRegressor\n",
    "cat_feat_mask = [True]*len(categorical_features)+[False]*len(continious_features)"
   ]
  },
  {
   "cell_type": "code",
   "execution_count": 42,
   "id": "70baa0ab",
   "metadata": {},
   "outputs": [],
   "source": [
    "from sklearn.metrics import make_scorer, mean_absolute_percentage_error, mean_absolute_error\n",
    "\n",
    "mape = make_scorer(mean_absolute_percentage_error,greater_is_better=False)"
   ]
  },
  {
   "cell_type": "markdown",
   "id": "1d19b4dc",
   "metadata": {},
   "source": [
    "## HistGradientBoostingRegressor\n"
   ]
  },
  {
   "cell_type": "code",
   "execution_count": 43,
   "id": "9b92466c-397b-486e-9dbd-365f65ae7203",
   "metadata": {},
   "outputs": [],
   "source": [
    "reg=HistGradientBoostingRegressor(verbose=3,random_state=42, categorical_features=cat_feat_mask,scoring=mape)"
   ]
  },
  {
   "cell_type": "code",
   "execution_count": 44,
   "id": "1692d4fe-74e7-4bf0-8cfe-4e0e060f111a",
   "metadata": {},
   "outputs": [],
   "source": [
    "X_train, X_test, y_train, y_test = train_test_split(X,y, test_size=0.2, random_state=43)"
   ]
  },
  {
   "cell_type": "code",
   "execution_count": 45,
   "id": "d2fe136b-d2b3-4525-aea8-600121cbc30d",
   "metadata": {},
   "outputs": [
    {
     "name": "stdout",
     "output_type": "stream",
     "text": [
      "Binning 0.011 GB of training data: 0.124 s\n",
      "Binning 0.001 GB of validation data: 0.006 s\n",
      "Fitting gradient boosted rounds:\n",
      "[1/100] 1 tree, 31 leaves, max depth = 8, train score: -1.41730, val score: -1.35637, in 0.030s\n",
      "[2/100] 1 tree, 31 leaves, max depth = 8, train score: -1.32322, val score: -1.26301, in 0.037s\n",
      "[3/100] 1 tree, 31 leaves, max depth = 7, train score: -1.23467, val score: -1.17728, in 0.034s\n",
      "[4/100] 1 tree, 31 leaves, max depth = 8, train score: -1.15735, val score: -1.10225, in 0.037s\n",
      "[5/100] 1 tree, 31 leaves, max depth = 9, train score: -1.09151, val score: -1.03665, in 0.039s\n",
      "[6/100] "
     ]
    },
    {
     "name": "stderr",
     "output_type": "stream",
     "text": [
      "C:\\Users\\Sony\\anaconda3\\lib\\site-packages\\sklearn\\base.py:451: UserWarning: X does not have valid feature names, but HistGradientBoostingRegressor was fitted with feature names\n",
      "  \"X does not have valid feature names, but\"\n",
      "C:\\Users\\Sony\\anaconda3\\lib\\site-packages\\sklearn\\base.py:451: UserWarning: X does not have valid feature names, but HistGradientBoostingRegressor was fitted with feature names\n",
      "  \"X does not have valid feature names, but\"\n",
      "C:\\Users\\Sony\\anaconda3\\lib\\site-packages\\sklearn\\base.py:451: UserWarning: X does not have valid feature names, but HistGradientBoostingRegressor was fitted with feature names\n",
      "  \"X does not have valid feature names, but\"\n",
      "C:\\Users\\Sony\\anaconda3\\lib\\site-packages\\sklearn\\base.py:451: UserWarning: X does not have valid feature names, but HistGradientBoostingRegressor was fitted with feature names\n",
      "  \"X does not have valid feature names, but\"\n",
      "C:\\Users\\Sony\\anaconda3\\lib\\site-packages\\sklearn\\base.py:451: UserWarning: X does not have valid feature names, but HistGradientBoostingRegressor was fitted with feature names\n",
      "  \"X does not have valid feature names, but\"\n",
      "C:\\Users\\Sony\\anaconda3\\lib\\site-packages\\sklearn\\base.py:451: UserWarning: X does not have valid feature names, but HistGradientBoostingRegressor was fitted with feature names\n",
      "  \"X does not have valid feature names, but\"\n",
      "C:\\Users\\Sony\\anaconda3\\lib\\site-packages\\sklearn\\base.py:451: UserWarning: X does not have valid feature names, but HistGradientBoostingRegressor was fitted with feature names\n",
      "  \"X does not have valid feature names, but\"\n",
      "C:\\Users\\Sony\\anaconda3\\lib\\site-packages\\sklearn\\base.py:451: UserWarning: X does not have valid feature names, but HistGradientBoostingRegressor was fitted with feature names\n",
      "  \"X does not have valid feature names, but\"\n",
      "C:\\Users\\Sony\\anaconda3\\lib\\site-packages\\sklearn\\base.py:451: UserWarning: X does not have valid feature names, but HistGradientBoostingRegressor was fitted with feature names\n",
      "  \"X does not have valid feature names, but\"\n",
      "C:\\Users\\Sony\\anaconda3\\lib\\site-packages\\sklearn\\base.py:451: UserWarning: X does not have valid feature names, but HistGradientBoostingRegressor was fitted with feature names\n",
      "  \"X does not have valid feature names, but\"\n",
      "C:\\Users\\Sony\\anaconda3\\lib\\site-packages\\sklearn\\base.py:451: UserWarning: X does not have valid feature names, but HistGradientBoostingRegressor was fitted with feature names\n",
      "  \"X does not have valid feature names, but\"\n",
      "C:\\Users\\Sony\\anaconda3\\lib\\site-packages\\sklearn\\base.py:451: UserWarning: X does not have valid feature names, but HistGradientBoostingRegressor was fitted with feature names\n",
      "  \"X does not have valid feature names, but\"\n"
     ]
    },
    {
     "name": "stdout",
     "output_type": "stream",
     "text": [
      "1 tree, 31 leaves, max depth = 7, train score: -1.02892, val score: -0.97751, in 0.043s\n",
      "[7/100] 1 tree, 31 leaves, max depth = 8, train score: -0.97487, val score: -0.92529, in 0.040s\n",
      "[8/100] 1 tree, 31 leaves, max depth = 8, train score: -0.92378, val score: -0.87578, in 0.044s\n",
      "[9/100] 1 tree, 31 leaves, max depth = 9, train score: -0.87917, val score: -0.83330, in 0.045s\n",
      "[10/100] "
     ]
    },
    {
     "name": "stderr",
     "output_type": "stream",
     "text": [
      "C:\\Users\\Sony\\anaconda3\\lib\\site-packages\\sklearn\\base.py:451: UserWarning: X does not have valid feature names, but HistGradientBoostingRegressor was fitted with feature names\n",
      "  \"X does not have valid feature names, but\"\n",
      "C:\\Users\\Sony\\anaconda3\\lib\\site-packages\\sklearn\\base.py:451: UserWarning: X does not have valid feature names, but HistGradientBoostingRegressor was fitted with feature names\n",
      "  \"X does not have valid feature names, but\"\n",
      "C:\\Users\\Sony\\anaconda3\\lib\\site-packages\\sklearn\\base.py:451: UserWarning: X does not have valid feature names, but HistGradientBoostingRegressor was fitted with feature names\n",
      "  \"X does not have valid feature names, but\"\n",
      "C:\\Users\\Sony\\anaconda3\\lib\\site-packages\\sklearn\\base.py:451: UserWarning: X does not have valid feature names, but HistGradientBoostingRegressor was fitted with feature names\n",
      "  \"X does not have valid feature names, but\"\n",
      "C:\\Users\\Sony\\anaconda3\\lib\\site-packages\\sklearn\\base.py:451: UserWarning: X does not have valid feature names, but HistGradientBoostingRegressor was fitted with feature names\n",
      "  \"X does not have valid feature names, but\"\n",
      "C:\\Users\\Sony\\anaconda3\\lib\\site-packages\\sklearn\\base.py:451: UserWarning: X does not have valid feature names, but HistGradientBoostingRegressor was fitted with feature names\n",
      "  \"X does not have valid feature names, but\"\n",
      "C:\\Users\\Sony\\anaconda3\\lib\\site-packages\\sklearn\\base.py:451: UserWarning: X does not have valid feature names, but HistGradientBoostingRegressor was fitted with feature names\n",
      "  \"X does not have valid feature names, but\"\n",
      "C:\\Users\\Sony\\anaconda3\\lib\\site-packages\\sklearn\\base.py:451: UserWarning: X does not have valid feature names, but HistGradientBoostingRegressor was fitted with feature names\n",
      "  \"X does not have valid feature names, but\"\n",
      "C:\\Users\\Sony\\anaconda3\\lib\\site-packages\\sklearn\\base.py:451: UserWarning: X does not have valid feature names, but HistGradientBoostingRegressor was fitted with feature names\n",
      "  \"X does not have valid feature names, but\"\n",
      "C:\\Users\\Sony\\anaconda3\\lib\\site-packages\\sklearn\\base.py:451: UserWarning: X does not have valid feature names, but HistGradientBoostingRegressor was fitted with feature names\n",
      "  \"X does not have valid feature names, but\"\n"
     ]
    },
    {
     "name": "stdout",
     "output_type": "stream",
     "text": [
      "1 tree, 31 leaves, max depth = 8, train score: -0.83855, val score: -0.79307, in 0.045s\n",
      "[11/100] 1 tree, 31 leaves, max depth = 9, train score: -0.80333, val score: -0.75960, in 0.047s\n",
      "[12/100] 1 tree, 31 leaves, max depth = 8, train score: -0.77375, val score: -0.73049, in 0.048s\n",
      "[13/100] 1 tree, 31 leaves, max depth = 11, train score: -0.74189, val score: -0.70061, in 0.052s\n",
      "[14/100] 1 tree, 31 leaves, max depth = 10, train score: -0.71851, val score: -0.67892, in 0.043s\n",
      "[15/100] "
     ]
    },
    {
     "name": "stderr",
     "output_type": "stream",
     "text": [
      "C:\\Users\\Sony\\anaconda3\\lib\\site-packages\\sklearn\\base.py:451: UserWarning: X does not have valid feature names, but HistGradientBoostingRegressor was fitted with feature names\n",
      "  \"X does not have valid feature names, but\"\n",
      "C:\\Users\\Sony\\anaconda3\\lib\\site-packages\\sklearn\\base.py:451: UserWarning: X does not have valid feature names, but HistGradientBoostingRegressor was fitted with feature names\n",
      "  \"X does not have valid feature names, but\"\n",
      "C:\\Users\\Sony\\anaconda3\\lib\\site-packages\\sklearn\\base.py:451: UserWarning: X does not have valid feature names, but HistGradientBoostingRegressor was fitted with feature names\n",
      "  \"X does not have valid feature names, but\"\n",
      "C:\\Users\\Sony\\anaconda3\\lib\\site-packages\\sklearn\\base.py:451: UserWarning: X does not have valid feature names, but HistGradientBoostingRegressor was fitted with feature names\n",
      "  \"X does not have valid feature names, but\"\n",
      "C:\\Users\\Sony\\anaconda3\\lib\\site-packages\\sklearn\\base.py:451: UserWarning: X does not have valid feature names, but HistGradientBoostingRegressor was fitted with feature names\n",
      "  \"X does not have valid feature names, but\"\n",
      "C:\\Users\\Sony\\anaconda3\\lib\\site-packages\\sklearn\\base.py:451: UserWarning: X does not have valid feature names, but HistGradientBoostingRegressor was fitted with feature names\n",
      "  \"X does not have valid feature names, but\"\n",
      "C:\\Users\\Sony\\anaconda3\\lib\\site-packages\\sklearn\\base.py:451: UserWarning: X does not have valid feature names, but HistGradientBoostingRegressor was fitted with feature names\n",
      "  \"X does not have valid feature names, but\"\n",
      "C:\\Users\\Sony\\anaconda3\\lib\\site-packages\\sklearn\\base.py:451: UserWarning: X does not have valid feature names, but HistGradientBoostingRegressor was fitted with feature names\n",
      "  \"X does not have valid feature names, but\"\n",
      "C:\\Users\\Sony\\anaconda3\\lib\\site-packages\\sklearn\\base.py:451: UserWarning: X does not have valid feature names, but HistGradientBoostingRegressor was fitted with feature names\n",
      "  \"X does not have valid feature names, but\"\n"
     ]
    },
    {
     "name": "stdout",
     "output_type": "stream",
     "text": [
      "1 tree, 31 leaves, max depth = 11, train score: -0.69771, val score: -0.65723, in 0.050s\n",
      "[16/100] 1 tree, 31 leaves, max depth = 10, train score: -0.67856, val score: -0.63976, in 0.053s\n",
      "[17/100] 1 tree, 31 leaves, max depth = 11, train score: -0.65809, val score: -0.62146, in 0.050s\n",
      "[18/100] 1 tree, 31 leaves, max depth = 9, train score: -0.64259, val score: -0.60454, in 0.061s\n",
      "[19/100] "
     ]
    },
    {
     "name": "stderr",
     "output_type": "stream",
     "text": [
      "C:\\Users\\Sony\\anaconda3\\lib\\site-packages\\sklearn\\base.py:451: UserWarning: X does not have valid feature names, but HistGradientBoostingRegressor was fitted with feature names\n",
      "  \"X does not have valid feature names, but\"\n",
      "C:\\Users\\Sony\\anaconda3\\lib\\site-packages\\sklearn\\base.py:451: UserWarning: X does not have valid feature names, but HistGradientBoostingRegressor was fitted with feature names\n",
      "  \"X does not have valid feature names, but\"\n",
      "C:\\Users\\Sony\\anaconda3\\lib\\site-packages\\sklearn\\base.py:451: UserWarning: X does not have valid feature names, but HistGradientBoostingRegressor was fitted with feature names\n",
      "  \"X does not have valid feature names, but\"\n",
      "C:\\Users\\Sony\\anaconda3\\lib\\site-packages\\sklearn\\base.py:451: UserWarning: X does not have valid feature names, but HistGradientBoostingRegressor was fitted with feature names\n",
      "  \"X does not have valid feature names, but\"\n",
      "C:\\Users\\Sony\\anaconda3\\lib\\site-packages\\sklearn\\base.py:451: UserWarning: X does not have valid feature names, but HistGradientBoostingRegressor was fitted with feature names\n",
      "  \"X does not have valid feature names, but\"\n",
      "C:\\Users\\Sony\\anaconda3\\lib\\site-packages\\sklearn\\base.py:451: UserWarning: X does not have valid feature names, but HistGradientBoostingRegressor was fitted with feature names\n",
      "  \"X does not have valid feature names, but\"\n",
      "C:\\Users\\Sony\\anaconda3\\lib\\site-packages\\sklearn\\base.py:451: UserWarning: X does not have valid feature names, but HistGradientBoostingRegressor was fitted with feature names\n",
      "  \"X does not have valid feature names, but\"\n"
     ]
    },
    {
     "name": "stdout",
     "output_type": "stream",
     "text": [
      "1 tree, 31 leaves, max depth = 9, train score: -0.62449, val score: -0.58778, in 0.056s\n",
      "[20/100] 1 tree, 31 leaves, max depth = 11, train score: -0.60906, val score: -0.57341, in 0.053s\n",
      "[21/100] 1 tree, 31 leaves, max depth = 11, train score: -0.59401, val score: -0.55999, in 0.048s\n",
      "[22/100] 1 tree, 31 leaves, max depth = 10, train score: -0.58697, val score: -0.54921, in 0.048s\n",
      "[23/100] "
     ]
    },
    {
     "name": "stderr",
     "output_type": "stream",
     "text": [
      "C:\\Users\\Sony\\anaconda3\\lib\\site-packages\\sklearn\\base.py:451: UserWarning: X does not have valid feature names, but HistGradientBoostingRegressor was fitted with feature names\n",
      "  \"X does not have valid feature names, but\"\n",
      "C:\\Users\\Sony\\anaconda3\\lib\\site-packages\\sklearn\\base.py:451: UserWarning: X does not have valid feature names, but HistGradientBoostingRegressor was fitted with feature names\n",
      "  \"X does not have valid feature names, but\"\n",
      "C:\\Users\\Sony\\anaconda3\\lib\\site-packages\\sklearn\\base.py:451: UserWarning: X does not have valid feature names, but HistGradientBoostingRegressor was fitted with feature names\n",
      "  \"X does not have valid feature names, but\"\n",
      "C:\\Users\\Sony\\anaconda3\\lib\\site-packages\\sklearn\\base.py:451: UserWarning: X does not have valid feature names, but HistGradientBoostingRegressor was fitted with feature names\n",
      "  \"X does not have valid feature names, but\"\n",
      "C:\\Users\\Sony\\anaconda3\\lib\\site-packages\\sklearn\\base.py:451: UserWarning: X does not have valid feature names, but HistGradientBoostingRegressor was fitted with feature names\n",
      "  \"X does not have valid feature names, but\"\n",
      "C:\\Users\\Sony\\anaconda3\\lib\\site-packages\\sklearn\\base.py:451: UserWarning: X does not have valid feature names, but HistGradientBoostingRegressor was fitted with feature names\n",
      "  \"X does not have valid feature names, but\"\n",
      "C:\\Users\\Sony\\anaconda3\\lib\\site-packages\\sklearn\\base.py:451: UserWarning: X does not have valid feature names, but HistGradientBoostingRegressor was fitted with feature names\n",
      "  \"X does not have valid feature names, but\"\n",
      "C:\\Users\\Sony\\anaconda3\\lib\\site-packages\\sklearn\\base.py:451: UserWarning: X does not have valid feature names, but HistGradientBoostingRegressor was fitted with feature names\n",
      "  \"X does not have valid feature names, but\"\n"
     ]
    },
    {
     "name": "stdout",
     "output_type": "stream",
     "text": [
      "1 tree, 31 leaves, max depth = 13, train score: -0.57836, val score: -0.54115, in 0.051s\n",
      "[24/100] 1 tree, 31 leaves, max depth = 14, train score: -0.56716, val score: -0.53018, in 0.052s\n",
      "[25/100] 1 tree, 31 leaves, max depth = 12, train score: -0.55683, val score: -0.52083, in 0.052s\n",
      "[26/100] 1 tree, 31 leaves, max depth = 13, train score: -0.54880, val score: -0.51188, in 0.050s\n",
      "[27/100] "
     ]
    },
    {
     "name": "stderr",
     "output_type": "stream",
     "text": [
      "C:\\Users\\Sony\\anaconda3\\lib\\site-packages\\sklearn\\base.py:451: UserWarning: X does not have valid feature names, but HistGradientBoostingRegressor was fitted with feature names\n",
      "  \"X does not have valid feature names, but\"\n",
      "C:\\Users\\Sony\\anaconda3\\lib\\site-packages\\sklearn\\base.py:451: UserWarning: X does not have valid feature names, but HistGradientBoostingRegressor was fitted with feature names\n",
      "  \"X does not have valid feature names, but\"\n",
      "C:\\Users\\Sony\\anaconda3\\lib\\site-packages\\sklearn\\base.py:451: UserWarning: X does not have valid feature names, but HistGradientBoostingRegressor was fitted with feature names\n",
      "  \"X does not have valid feature names, but\"\n",
      "C:\\Users\\Sony\\anaconda3\\lib\\site-packages\\sklearn\\base.py:451: UserWarning: X does not have valid feature names, but HistGradientBoostingRegressor was fitted with feature names\n",
      "  \"X does not have valid feature names, but\"\n",
      "C:\\Users\\Sony\\anaconda3\\lib\\site-packages\\sklearn\\base.py:451: UserWarning: X does not have valid feature names, but HistGradientBoostingRegressor was fitted with feature names\n",
      "  \"X does not have valid feature names, but\"\n",
      "C:\\Users\\Sony\\anaconda3\\lib\\site-packages\\sklearn\\base.py:451: UserWarning: X does not have valid feature names, but HistGradientBoostingRegressor was fitted with feature names\n",
      "  \"X does not have valid feature names, but\"\n",
      "C:\\Users\\Sony\\anaconda3\\lib\\site-packages\\sklearn\\base.py:451: UserWarning: X does not have valid feature names, but HistGradientBoostingRegressor was fitted with feature names\n",
      "  \"X does not have valid feature names, but\"\n",
      "C:\\Users\\Sony\\anaconda3\\lib\\site-packages\\sklearn\\base.py:451: UserWarning: X does not have valid feature names, but HistGradientBoostingRegressor was fitted with feature names\n",
      "  \"X does not have valid feature names, but\"\n"
     ]
    },
    {
     "name": "stdout",
     "output_type": "stream",
     "text": [
      "1 tree, 31 leaves, max depth = 12, train score: -0.54106, val score: -0.50543, in 0.056s\n",
      "[28/100] 1 tree, 31 leaves, max depth = 8, train score: -0.53186, val score: -0.49745, in 0.052s\n",
      "[29/100] 1 tree, 31 leaves, max depth = 10, train score: -0.52795, val score: -0.49065, in 0.056s\n",
      "[30/100] "
     ]
    },
    {
     "name": "stderr",
     "output_type": "stream",
     "text": [
      "C:\\Users\\Sony\\anaconda3\\lib\\site-packages\\sklearn\\base.py:451: UserWarning: X does not have valid feature names, but HistGradientBoostingRegressor was fitted with feature names\n",
      "  \"X does not have valid feature names, but\"\n",
      "C:\\Users\\Sony\\anaconda3\\lib\\site-packages\\sklearn\\base.py:451: UserWarning: X does not have valid feature names, but HistGradientBoostingRegressor was fitted with feature names\n",
      "  \"X does not have valid feature names, but\"\n",
      "C:\\Users\\Sony\\anaconda3\\lib\\site-packages\\sklearn\\base.py:451: UserWarning: X does not have valid feature names, but HistGradientBoostingRegressor was fitted with feature names\n",
      "  \"X does not have valid feature names, but\"\n",
      "C:\\Users\\Sony\\anaconda3\\lib\\site-packages\\sklearn\\base.py:451: UserWarning: X does not have valid feature names, but HistGradientBoostingRegressor was fitted with feature names\n",
      "  \"X does not have valid feature names, but\"\n",
      "C:\\Users\\Sony\\anaconda3\\lib\\site-packages\\sklearn\\base.py:451: UserWarning: X does not have valid feature names, but HistGradientBoostingRegressor was fitted with feature names\n",
      "  \"X does not have valid feature names, but\"\n",
      "C:\\Users\\Sony\\anaconda3\\lib\\site-packages\\sklearn\\base.py:451: UserWarning: X does not have valid feature names, but HistGradientBoostingRegressor was fitted with feature names\n",
      "  \"X does not have valid feature names, but\"\n",
      "C:\\Users\\Sony\\anaconda3\\lib\\site-packages\\sklearn\\base.py:451: UserWarning: X does not have valid feature names, but HistGradientBoostingRegressor was fitted with feature names\n",
      "  \"X does not have valid feature names, but\"\n",
      "C:\\Users\\Sony\\anaconda3\\lib\\site-packages\\sklearn\\base.py:451: UserWarning: X does not have valid feature names, but HistGradientBoostingRegressor was fitted with feature names\n",
      "  \"X does not have valid feature names, but\"\n"
     ]
    },
    {
     "name": "stdout",
     "output_type": "stream",
     "text": [
      "1 tree, 31 leaves, max depth = 10, train score: -0.51975, val score: -0.48408, in 0.061s\n",
      "[31/100] 1 tree, 31 leaves, max depth = 9, train score: -0.51272, val score: -0.47787, in 0.079s\n",
      "[32/100] 1 tree, 31 leaves, max depth = 10, train score: -0.50558, val score: -0.47169, in 0.062s\n",
      "[33/100] 1 tree, 31 leaves, max depth = 10, train score: -0.49840, val score: -0.46656, in 0.065s\n",
      "[34/100] "
     ]
    },
    {
     "name": "stderr",
     "output_type": "stream",
     "text": [
      "C:\\Users\\Sony\\anaconda3\\lib\\site-packages\\sklearn\\base.py:451: UserWarning: X does not have valid feature names, but HistGradientBoostingRegressor was fitted with feature names\n",
      "  \"X does not have valid feature names, but\"\n",
      "C:\\Users\\Sony\\anaconda3\\lib\\site-packages\\sklearn\\base.py:451: UserWarning: X does not have valid feature names, but HistGradientBoostingRegressor was fitted with feature names\n",
      "  \"X does not have valid feature names, but\"\n",
      "C:\\Users\\Sony\\anaconda3\\lib\\site-packages\\sklearn\\base.py:451: UserWarning: X does not have valid feature names, but HistGradientBoostingRegressor was fitted with feature names\n",
      "  \"X does not have valid feature names, but\"\n",
      "C:\\Users\\Sony\\anaconda3\\lib\\site-packages\\sklearn\\base.py:451: UserWarning: X does not have valid feature names, but HistGradientBoostingRegressor was fitted with feature names\n",
      "  \"X does not have valid feature names, but\"\n",
      "C:\\Users\\Sony\\anaconda3\\lib\\site-packages\\sklearn\\base.py:451: UserWarning: X does not have valid feature names, but HistGradientBoostingRegressor was fitted with feature names\n",
      "  \"X does not have valid feature names, but\"\n",
      "C:\\Users\\Sony\\anaconda3\\lib\\site-packages\\sklearn\\base.py:451: UserWarning: X does not have valid feature names, but HistGradientBoostingRegressor was fitted with feature names\n",
      "  \"X does not have valid feature names, but\"\n",
      "C:\\Users\\Sony\\anaconda3\\lib\\site-packages\\sklearn\\base.py:451: UserWarning: X does not have valid feature names, but HistGradientBoostingRegressor was fitted with feature names\n",
      "  \"X does not have valid feature names, but\"\n"
     ]
    },
    {
     "name": "stdout",
     "output_type": "stream",
     "text": [
      "1 tree, 31 leaves, max depth = 13, train score: -0.49321, val score: -0.46250, in 0.070s\n",
      "[35/100] 1 tree, 31 leaves, max depth = 10, train score: -0.48964, val score: -0.45863, in 0.061s\n",
      "[36/100] 1 tree, 31 leaves, max depth = 10, train score: -0.48246, val score: -0.45256, in 0.063s\n",
      "[37/100] "
     ]
    },
    {
     "name": "stderr",
     "output_type": "stream",
     "text": [
      "C:\\Users\\Sony\\anaconda3\\lib\\site-packages\\sklearn\\base.py:451: UserWarning: X does not have valid feature names, but HistGradientBoostingRegressor was fitted with feature names\n",
      "  \"X does not have valid feature names, but\"\n",
      "C:\\Users\\Sony\\anaconda3\\lib\\site-packages\\sklearn\\base.py:451: UserWarning: X does not have valid feature names, but HistGradientBoostingRegressor was fitted with feature names\n",
      "  \"X does not have valid feature names, but\"\n",
      "C:\\Users\\Sony\\anaconda3\\lib\\site-packages\\sklearn\\base.py:451: UserWarning: X does not have valid feature names, but HistGradientBoostingRegressor was fitted with feature names\n",
      "  \"X does not have valid feature names, but\"\n",
      "C:\\Users\\Sony\\anaconda3\\lib\\site-packages\\sklearn\\base.py:451: UserWarning: X does not have valid feature names, but HistGradientBoostingRegressor was fitted with feature names\n",
      "  \"X does not have valid feature names, but\"\n",
      "C:\\Users\\Sony\\anaconda3\\lib\\site-packages\\sklearn\\base.py:451: UserWarning: X does not have valid feature names, but HistGradientBoostingRegressor was fitted with feature names\n",
      "  \"X does not have valid feature names, but\"\n",
      "C:\\Users\\Sony\\anaconda3\\lib\\site-packages\\sklearn\\base.py:451: UserWarning: X does not have valid feature names, but HistGradientBoostingRegressor was fitted with feature names\n",
      "  \"X does not have valid feature names, but\"\n",
      "C:\\Users\\Sony\\anaconda3\\lib\\site-packages\\sklearn\\base.py:451: UserWarning: X does not have valid feature names, but HistGradientBoostingRegressor was fitted with feature names\n",
      "  \"X does not have valid feature names, but\"\n"
     ]
    },
    {
     "name": "stdout",
     "output_type": "stream",
     "text": [
      "1 tree, 31 leaves, max depth = 11, train score: -0.47710, val score: -0.44864, in 0.075s\n",
      "[38/100] 1 tree, 31 leaves, max depth = 12, train score: -0.47065, val score: -0.44226, in 0.074s\n",
      "[39/100] 1 tree, 31 leaves, max depth = 16, train score: -0.46604, val score: -0.43780, in 0.067s\n",
      "[40/100] 1 tree, 31 leaves, max depth = 11, train score: -0.46098, val score: -0.43286, in 0.066s\n",
      "[41/100] "
     ]
    },
    {
     "name": "stderr",
     "output_type": "stream",
     "text": [
      "C:\\Users\\Sony\\anaconda3\\lib\\site-packages\\sklearn\\base.py:451: UserWarning: X does not have valid feature names, but HistGradientBoostingRegressor was fitted with feature names\n",
      "  \"X does not have valid feature names, but\"\n",
      "C:\\Users\\Sony\\anaconda3\\lib\\site-packages\\sklearn\\base.py:451: UserWarning: X does not have valid feature names, but HistGradientBoostingRegressor was fitted with feature names\n",
      "  \"X does not have valid feature names, but\"\n",
      "C:\\Users\\Sony\\anaconda3\\lib\\site-packages\\sklearn\\base.py:451: UserWarning: X does not have valid feature names, but HistGradientBoostingRegressor was fitted with feature names\n",
      "  \"X does not have valid feature names, but\"\n",
      "C:\\Users\\Sony\\anaconda3\\lib\\site-packages\\sklearn\\base.py:451: UserWarning: X does not have valid feature names, but HistGradientBoostingRegressor was fitted with feature names\n",
      "  \"X does not have valid feature names, but\"\n",
      "C:\\Users\\Sony\\anaconda3\\lib\\site-packages\\sklearn\\base.py:451: UserWarning: X does not have valid feature names, but HistGradientBoostingRegressor was fitted with feature names\n",
      "  \"X does not have valid feature names, but\"\n",
      "C:\\Users\\Sony\\anaconda3\\lib\\site-packages\\sklearn\\base.py:451: UserWarning: X does not have valid feature names, but HistGradientBoostingRegressor was fitted with feature names\n",
      "  \"X does not have valid feature names, but\"\n",
      "C:\\Users\\Sony\\anaconda3\\lib\\site-packages\\sklearn\\base.py:451: UserWarning: X does not have valid feature names, but HistGradientBoostingRegressor was fitted with feature names\n",
      "  \"X does not have valid feature names, but\"\n"
     ]
    },
    {
     "name": "stdout",
     "output_type": "stream",
     "text": [
      "1 tree, 31 leaves, max depth = 10, train score: -0.45669, val score: -0.42899, in 0.079s\n",
      "[42/100] 1 tree, 31 leaves, max depth = 10, train score: -0.45589, val score: -0.42525, in 0.080s\n",
      "[43/100] 1 tree, 31 leaves, max depth = 12, train score: -0.45325, val score: -0.42291, in 0.077s\n",
      "[44/100] "
     ]
    },
    {
     "name": "stderr",
     "output_type": "stream",
     "text": [
      "C:\\Users\\Sony\\anaconda3\\lib\\site-packages\\sklearn\\base.py:451: UserWarning: X does not have valid feature names, but HistGradientBoostingRegressor was fitted with feature names\n",
      "  \"X does not have valid feature names, but\"\n",
      "C:\\Users\\Sony\\anaconda3\\lib\\site-packages\\sklearn\\base.py:451: UserWarning: X does not have valid feature names, but HistGradientBoostingRegressor was fitted with feature names\n",
      "  \"X does not have valid feature names, but\"\n",
      "C:\\Users\\Sony\\anaconda3\\lib\\site-packages\\sklearn\\base.py:451: UserWarning: X does not have valid feature names, but HistGradientBoostingRegressor was fitted with feature names\n",
      "  \"X does not have valid feature names, but\"\n",
      "C:\\Users\\Sony\\anaconda3\\lib\\site-packages\\sklearn\\base.py:451: UserWarning: X does not have valid feature names, but HistGradientBoostingRegressor was fitted with feature names\n",
      "  \"X does not have valid feature names, but\"\n",
      "C:\\Users\\Sony\\anaconda3\\lib\\site-packages\\sklearn\\base.py:451: UserWarning: X does not have valid feature names, but HistGradientBoostingRegressor was fitted with feature names\n",
      "  \"X does not have valid feature names, but\"\n",
      "C:\\Users\\Sony\\anaconda3\\lib\\site-packages\\sklearn\\base.py:451: UserWarning: X does not have valid feature names, but HistGradientBoostingRegressor was fitted with feature names\n",
      "  \"X does not have valid feature names, but\"\n"
     ]
    },
    {
     "name": "stdout",
     "output_type": "stream",
     "text": [
      "1 tree, 31 leaves, max depth = 11, train score: -0.44902, val score: -0.42011, in 0.081s\n",
      "[45/100] 1 tree, 31 leaves, max depth = 13, train score: -0.44733, val score: -0.41786, in 0.067s\n",
      "[46/100] 1 tree, 31 leaves, max depth = 12, train score: -0.44343, val score: -0.41393, in 0.106s\n",
      "[47/100] "
     ]
    },
    {
     "name": "stderr",
     "output_type": "stream",
     "text": [
      "C:\\Users\\Sony\\anaconda3\\lib\\site-packages\\sklearn\\base.py:451: UserWarning: X does not have valid feature names, but HistGradientBoostingRegressor was fitted with feature names\n",
      "  \"X does not have valid feature names, but\"\n",
      "C:\\Users\\Sony\\anaconda3\\lib\\site-packages\\sklearn\\base.py:451: UserWarning: X does not have valid feature names, but HistGradientBoostingRegressor was fitted with feature names\n",
      "  \"X does not have valid feature names, but\"\n",
      "C:\\Users\\Sony\\anaconda3\\lib\\site-packages\\sklearn\\base.py:451: UserWarning: X does not have valid feature names, but HistGradientBoostingRegressor was fitted with feature names\n",
      "  \"X does not have valid feature names, but\"\n",
      "C:\\Users\\Sony\\anaconda3\\lib\\site-packages\\sklearn\\base.py:451: UserWarning: X does not have valid feature names, but HistGradientBoostingRegressor was fitted with feature names\n",
      "  \"X does not have valid feature names, but\"\n",
      "C:\\Users\\Sony\\anaconda3\\lib\\site-packages\\sklearn\\base.py:451: UserWarning: X does not have valid feature names, but HistGradientBoostingRegressor was fitted with feature names\n",
      "  \"X does not have valid feature names, but\"\n"
     ]
    },
    {
     "name": "stdout",
     "output_type": "stream",
     "text": [
      "1 tree, 31 leaves, max depth = 12, train score: -0.43995, val score: -0.41128, in 0.087s\n",
      "[48/100] 1 tree, 31 leaves, max depth = 12, train score: -0.43796, val score: -0.40989, in 0.076s\n",
      "[49/100] "
     ]
    },
    {
     "name": "stderr",
     "output_type": "stream",
     "text": [
      "C:\\Users\\Sony\\anaconda3\\lib\\site-packages\\sklearn\\base.py:451: UserWarning: X does not have valid feature names, but HistGradientBoostingRegressor was fitted with feature names\n",
      "  \"X does not have valid feature names, but\"\n",
      "C:\\Users\\Sony\\anaconda3\\lib\\site-packages\\sklearn\\base.py:451: UserWarning: X does not have valid feature names, but HistGradientBoostingRegressor was fitted with feature names\n",
      "  \"X does not have valid feature names, but\"\n",
      "C:\\Users\\Sony\\anaconda3\\lib\\site-packages\\sklearn\\base.py:451: UserWarning: X does not have valid feature names, but HistGradientBoostingRegressor was fitted with feature names\n",
      "  \"X does not have valid feature names, but\"\n",
      "C:\\Users\\Sony\\anaconda3\\lib\\site-packages\\sklearn\\base.py:451: UserWarning: X does not have valid feature names, but HistGradientBoostingRegressor was fitted with feature names\n",
      "  \"X does not have valid feature names, but\"\n",
      "C:\\Users\\Sony\\anaconda3\\lib\\site-packages\\sklearn\\base.py:451: UserWarning: X does not have valid feature names, but HistGradientBoostingRegressor was fitted with feature names\n",
      "  \"X does not have valid feature names, but\"\n",
      "C:\\Users\\Sony\\anaconda3\\lib\\site-packages\\sklearn\\base.py:451: UserWarning: X does not have valid feature names, but HistGradientBoostingRegressor was fitted with feature names\n",
      "  \"X does not have valid feature names, but\"\n"
     ]
    },
    {
     "name": "stdout",
     "output_type": "stream",
     "text": [
      "1 tree, 31 leaves, max depth = 13, train score: -0.43604, val score: -0.40686, in 0.071s\n",
      "[50/100] 1 tree, 31 leaves, max depth = 14, train score: -0.43270, val score: -0.40443, in 0.082s\n",
      "[51/100] 1 tree, 31 leaves, max depth = 13, train score: -0.43189, val score: -0.40429, in 0.086s\n",
      "[52/100] "
     ]
    },
    {
     "name": "stderr",
     "output_type": "stream",
     "text": [
      "C:\\Users\\Sony\\anaconda3\\lib\\site-packages\\sklearn\\base.py:451: UserWarning: X does not have valid feature names, but HistGradientBoostingRegressor was fitted with feature names\n",
      "  \"X does not have valid feature names, but\"\n",
      "C:\\Users\\Sony\\anaconda3\\lib\\site-packages\\sklearn\\base.py:451: UserWarning: X does not have valid feature names, but HistGradientBoostingRegressor was fitted with feature names\n",
      "  \"X does not have valid feature names, but\"\n",
      "C:\\Users\\Sony\\anaconda3\\lib\\site-packages\\sklearn\\base.py:451: UserWarning: X does not have valid feature names, but HistGradientBoostingRegressor was fitted with feature names\n",
      "  \"X does not have valid feature names, but\"\n",
      "C:\\Users\\Sony\\anaconda3\\lib\\site-packages\\sklearn\\base.py:451: UserWarning: X does not have valid feature names, but HistGradientBoostingRegressor was fitted with feature names\n",
      "  \"X does not have valid feature names, but\"\n",
      "C:\\Users\\Sony\\anaconda3\\lib\\site-packages\\sklearn\\base.py:451: UserWarning: X does not have valid feature names, but HistGradientBoostingRegressor was fitted with feature names\n",
      "  \"X does not have valid feature names, but\"\n"
     ]
    },
    {
     "name": "stdout",
     "output_type": "stream",
     "text": [
      "1 tree, 31 leaves, max depth = 16, train score: -0.43115, val score: -0.40361, in 0.096s\n",
      "[53/100] 1 tree, 31 leaves, max depth = 11, train score: -0.42790, val score: -0.40062, in 0.089s\n",
      "[54/100] 1 tree, 31 leaves, max depth = 15, train score: -0.42643, val score: -0.39962, in 0.076s\n",
      "[55/100] "
     ]
    },
    {
     "name": "stderr",
     "output_type": "stream",
     "text": [
      "C:\\Users\\Sony\\anaconda3\\lib\\site-packages\\sklearn\\base.py:451: UserWarning: X does not have valid feature names, but HistGradientBoostingRegressor was fitted with feature names\n",
      "  \"X does not have valid feature names, but\"\n",
      "C:\\Users\\Sony\\anaconda3\\lib\\site-packages\\sklearn\\base.py:451: UserWarning: X does not have valid feature names, but HistGradientBoostingRegressor was fitted with feature names\n",
      "  \"X does not have valid feature names, but\"\n",
      "C:\\Users\\Sony\\anaconda3\\lib\\site-packages\\sklearn\\base.py:451: UserWarning: X does not have valid feature names, but HistGradientBoostingRegressor was fitted with feature names\n",
      "  \"X does not have valid feature names, but\"\n",
      "C:\\Users\\Sony\\anaconda3\\lib\\site-packages\\sklearn\\base.py:451: UserWarning: X does not have valid feature names, but HistGradientBoostingRegressor was fitted with feature names\n",
      "  \"X does not have valid feature names, but\"\n",
      "C:\\Users\\Sony\\anaconda3\\lib\\site-packages\\sklearn\\base.py:451: UserWarning: X does not have valid feature names, but HistGradientBoostingRegressor was fitted with feature names\n",
      "  \"X does not have valid feature names, but\"\n"
     ]
    },
    {
     "name": "stdout",
     "output_type": "stream",
     "text": [
      "1 tree, 31 leaves, max depth = 10, train score: -0.42741, val score: -0.39855, in 0.093s\n",
      "[56/100] 1 tree, 31 leaves, max depth = 12, train score: -0.42551, val score: -0.39766, in 0.099s\n",
      "[57/100] "
     ]
    },
    {
     "name": "stderr",
     "output_type": "stream",
     "text": [
      "C:\\Users\\Sony\\anaconda3\\lib\\site-packages\\sklearn\\base.py:451: UserWarning: X does not have valid feature names, but HistGradientBoostingRegressor was fitted with feature names\n",
      "  \"X does not have valid feature names, but\"\n",
      "C:\\Users\\Sony\\anaconda3\\lib\\site-packages\\sklearn\\base.py:451: UserWarning: X does not have valid feature names, but HistGradientBoostingRegressor was fitted with feature names\n",
      "  \"X does not have valid feature names, but\"\n",
      "C:\\Users\\Sony\\anaconda3\\lib\\site-packages\\sklearn\\base.py:451: UserWarning: X does not have valid feature names, but HistGradientBoostingRegressor was fitted with feature names\n",
      "  \"X does not have valid feature names, but\"\n",
      "C:\\Users\\Sony\\anaconda3\\lib\\site-packages\\sklearn\\base.py:451: UserWarning: X does not have valid feature names, but HistGradientBoostingRegressor was fitted with feature names\n",
      "  \"X does not have valid feature names, but\"\n",
      "C:\\Users\\Sony\\anaconda3\\lib\\site-packages\\sklearn\\base.py:451: UserWarning: X does not have valid feature names, but HistGradientBoostingRegressor was fitted with feature names\n",
      "  \"X does not have valid feature names, but\"\n"
     ]
    },
    {
     "name": "stdout",
     "output_type": "stream",
     "text": [
      "1 tree, 31 leaves, max depth = 13, train score: -0.42348, val score: -0.39493, in 0.102s\n",
      "[58/100] 1 tree, 31 leaves, max depth = 12, train score: -0.42239, val score: -0.39314, in 0.118s\n",
      "[59/100] "
     ]
    },
    {
     "name": "stderr",
     "output_type": "stream",
     "text": [
      "C:\\Users\\Sony\\anaconda3\\lib\\site-packages\\sklearn\\base.py:451: UserWarning: X does not have valid feature names, but HistGradientBoostingRegressor was fitted with feature names\n",
      "  \"X does not have valid feature names, but\"\n",
      "C:\\Users\\Sony\\anaconda3\\lib\\site-packages\\sklearn\\base.py:451: UserWarning: X does not have valid feature names, but HistGradientBoostingRegressor was fitted with feature names\n",
      "  \"X does not have valid feature names, but\"\n",
      "C:\\Users\\Sony\\anaconda3\\lib\\site-packages\\sklearn\\base.py:451: UserWarning: X does not have valid feature names, but HistGradientBoostingRegressor was fitted with feature names\n",
      "  \"X does not have valid feature names, but\"\n",
      "C:\\Users\\Sony\\anaconda3\\lib\\site-packages\\sklearn\\base.py:451: UserWarning: X does not have valid feature names, but HistGradientBoostingRegressor was fitted with feature names\n",
      "  \"X does not have valid feature names, but\"\n",
      "C:\\Users\\Sony\\anaconda3\\lib\\site-packages\\sklearn\\base.py:451: UserWarning: X does not have valid feature names, but HistGradientBoostingRegressor was fitted with feature names\n",
      "  \"X does not have valid feature names, but\"\n"
     ]
    },
    {
     "name": "stdout",
     "output_type": "stream",
     "text": [
      "1 tree, 31 leaves, max depth = 12, train score: -0.42074, val score: -0.39251, in 0.101s\n",
      "[60/100] 1 tree, 31 leaves, max depth = 12, train score: -0.42014, val score: -0.39277, in 0.097s\n",
      "[61/100] 1 tree, 31 leaves, max depth = 14, train score: -0.41760, val score: -0.39025, in 0.087s\n",
      "[62/100] "
     ]
    },
    {
     "name": "stderr",
     "output_type": "stream",
     "text": [
      "C:\\Users\\Sony\\anaconda3\\lib\\site-packages\\sklearn\\base.py:451: UserWarning: X does not have valid feature names, but HistGradientBoostingRegressor was fitted with feature names\n",
      "  \"X does not have valid feature names, but\"\n",
      "C:\\Users\\Sony\\anaconda3\\lib\\site-packages\\sklearn\\base.py:451: UserWarning: X does not have valid feature names, but HistGradientBoostingRegressor was fitted with feature names\n",
      "  \"X does not have valid feature names, but\"\n",
      "C:\\Users\\Sony\\anaconda3\\lib\\site-packages\\sklearn\\base.py:451: UserWarning: X does not have valid feature names, but HistGradientBoostingRegressor was fitted with feature names\n",
      "  \"X does not have valid feature names, but\"\n",
      "C:\\Users\\Sony\\anaconda3\\lib\\site-packages\\sklearn\\base.py:451: UserWarning: X does not have valid feature names, but HistGradientBoostingRegressor was fitted with feature names\n",
      "  \"X does not have valid feature names, but\"\n",
      "C:\\Users\\Sony\\anaconda3\\lib\\site-packages\\sklearn\\base.py:451: UserWarning: X does not have valid feature names, but HistGradientBoostingRegressor was fitted with feature names\n",
      "  \"X does not have valid feature names, but\"\n"
     ]
    },
    {
     "name": "stdout",
     "output_type": "stream",
     "text": [
      "1 tree, 31 leaves, max depth = 12, train score: -0.41742, val score: -0.38959, in 0.092s\n",
      "[63/100] 1 tree, 31 leaves, max depth = 12, train score: -0.41521, val score: -0.38857, in 0.100s\n",
      "[64/100] "
     ]
    },
    {
     "name": "stderr",
     "output_type": "stream",
     "text": [
      "C:\\Users\\Sony\\anaconda3\\lib\\site-packages\\sklearn\\base.py:451: UserWarning: X does not have valid feature names, but HistGradientBoostingRegressor was fitted with feature names\n",
      "  \"X does not have valid feature names, but\"\n",
      "C:\\Users\\Sony\\anaconda3\\lib\\site-packages\\sklearn\\base.py:451: UserWarning: X does not have valid feature names, but HistGradientBoostingRegressor was fitted with feature names\n",
      "  \"X does not have valid feature names, but\"\n",
      "C:\\Users\\Sony\\anaconda3\\lib\\site-packages\\sklearn\\base.py:451: UserWarning: X does not have valid feature names, but HistGradientBoostingRegressor was fitted with feature names\n",
      "  \"X does not have valid feature names, but\"\n",
      "C:\\Users\\Sony\\anaconda3\\lib\\site-packages\\sklearn\\base.py:451: UserWarning: X does not have valid feature names, but HistGradientBoostingRegressor was fitted with feature names\n",
      "  \"X does not have valid feature names, but\"\n",
      "C:\\Users\\Sony\\anaconda3\\lib\\site-packages\\sklearn\\base.py:451: UserWarning: X does not have valid feature names, but HistGradientBoostingRegressor was fitted with feature names\n",
      "  \"X does not have valid feature names, but\"\n"
     ]
    },
    {
     "name": "stdout",
     "output_type": "stream",
     "text": [
      "1 tree, 31 leaves, max depth = 11, train score: -0.41361, val score: -0.38766, in 0.114s\n",
      "[65/100] 1 tree, 31 leaves, max depth = 12, train score: -0.41096, val score: -0.38655, in 0.088s\n",
      "[66/100] 1 tree, 31 leaves, max depth = 13, train score: -0.40898, val score: -0.38521, in 0.091s\n",
      "[67/100] "
     ]
    },
    {
     "name": "stderr",
     "output_type": "stream",
     "text": [
      "C:\\Users\\Sony\\anaconda3\\lib\\site-packages\\sklearn\\base.py:451: UserWarning: X does not have valid feature names, but HistGradientBoostingRegressor was fitted with feature names\n",
      "  \"X does not have valid feature names, but\"\n",
      "C:\\Users\\Sony\\anaconda3\\lib\\site-packages\\sklearn\\base.py:451: UserWarning: X does not have valid feature names, but HistGradientBoostingRegressor was fitted with feature names\n",
      "  \"X does not have valid feature names, but\"\n",
      "C:\\Users\\Sony\\anaconda3\\lib\\site-packages\\sklearn\\base.py:451: UserWarning: X does not have valid feature names, but HistGradientBoostingRegressor was fitted with feature names\n",
      "  \"X does not have valid feature names, but\"\n",
      "C:\\Users\\Sony\\anaconda3\\lib\\site-packages\\sklearn\\base.py:451: UserWarning: X does not have valid feature names, but HistGradientBoostingRegressor was fitted with feature names\n",
      "  \"X does not have valid feature names, but\"\n",
      "C:\\Users\\Sony\\anaconda3\\lib\\site-packages\\sklearn\\base.py:451: UserWarning: X does not have valid feature names, but HistGradientBoostingRegressor was fitted with feature names\n",
      "  \"X does not have valid feature names, but\"\n"
     ]
    },
    {
     "name": "stdout",
     "output_type": "stream",
     "text": [
      "1 tree, 31 leaves, max depth = 13, train score: -0.40962, val score: -0.38528, in 0.111s\n",
      "[68/100] 1 tree, 31 leaves, max depth = 13, train score: -0.40826, val score: -0.38451, in 0.103s\n",
      "[69/100] "
     ]
    },
    {
     "name": "stderr",
     "output_type": "stream",
     "text": [
      "C:\\Users\\Sony\\anaconda3\\lib\\site-packages\\sklearn\\base.py:451: UserWarning: X does not have valid feature names, but HistGradientBoostingRegressor was fitted with feature names\n",
      "  \"X does not have valid feature names, but\"\n",
      "C:\\Users\\Sony\\anaconda3\\lib\\site-packages\\sklearn\\base.py:451: UserWarning: X does not have valid feature names, but HistGradientBoostingRegressor was fitted with feature names\n",
      "  \"X does not have valid feature names, but\"\n",
      "C:\\Users\\Sony\\anaconda3\\lib\\site-packages\\sklearn\\base.py:451: UserWarning: X does not have valid feature names, but HistGradientBoostingRegressor was fitted with feature names\n",
      "  \"X does not have valid feature names, but\"\n",
      "C:\\Users\\Sony\\anaconda3\\lib\\site-packages\\sklearn\\base.py:451: UserWarning: X does not have valid feature names, but HistGradientBoostingRegressor was fitted with feature names\n",
      "  \"X does not have valid feature names, but\"\n"
     ]
    },
    {
     "name": "stdout",
     "output_type": "stream",
     "text": [
      "1 tree, 31 leaves, max depth = 16, train score: -0.40709, val score: -0.38271, in 0.111s\n",
      "[70/100] 1 tree, 31 leaves, max depth = 11, train score: -0.40771, val score: -0.38231, in 0.083s\n",
      "[71/100] "
     ]
    },
    {
     "name": "stderr",
     "output_type": "stream",
     "text": [
      "C:\\Users\\Sony\\anaconda3\\lib\\site-packages\\sklearn\\base.py:451: UserWarning: X does not have valid feature names, but HistGradientBoostingRegressor was fitted with feature names\n",
      "  \"X does not have valid feature names, but\"\n",
      "C:\\Users\\Sony\\anaconda3\\lib\\site-packages\\sklearn\\base.py:451: UserWarning: X does not have valid feature names, but HistGradientBoostingRegressor was fitted with feature names\n",
      "  \"X does not have valid feature names, but\"\n",
      "C:\\Users\\Sony\\anaconda3\\lib\\site-packages\\sklearn\\base.py:451: UserWarning: X does not have valid feature names, but HistGradientBoostingRegressor was fitted with feature names\n",
      "  \"X does not have valid feature names, but\"\n",
      "C:\\Users\\Sony\\anaconda3\\lib\\site-packages\\sklearn\\base.py:451: UserWarning: X does not have valid feature names, but HistGradientBoostingRegressor was fitted with feature names\n",
      "  \"X does not have valid feature names, but\"\n",
      "C:\\Users\\Sony\\anaconda3\\lib\\site-packages\\sklearn\\base.py:451: UserWarning: X does not have valid feature names, but HistGradientBoostingRegressor was fitted with feature names\n",
      "  \"X does not have valid feature names, but\"\n"
     ]
    },
    {
     "name": "stdout",
     "output_type": "stream",
     "text": [
      "1 tree, 31 leaves, max depth = 15, train score: -0.40658, val score: -0.38133, in 0.123s\n",
      "[72/100] 1 tree, 31 leaves, max depth = 10, train score: -0.40793, val score: -0.38036, in 0.108s\n",
      "[73/100] 1 tree, 31 leaves, max depth = 12, train score: -0.40795, val score: -0.37994, in 0.093s\n",
      "[74/100] "
     ]
    },
    {
     "name": "stderr",
     "output_type": "stream",
     "text": [
      "C:\\Users\\Sony\\anaconda3\\lib\\site-packages\\sklearn\\base.py:451: UserWarning: X does not have valid feature names, but HistGradientBoostingRegressor was fitted with feature names\n",
      "  \"X does not have valid feature names, but\"\n",
      "C:\\Users\\Sony\\anaconda3\\lib\\site-packages\\sklearn\\base.py:451: UserWarning: X does not have valid feature names, but HistGradientBoostingRegressor was fitted with feature names\n",
      "  \"X does not have valid feature names, but\"\n",
      "C:\\Users\\Sony\\anaconda3\\lib\\site-packages\\sklearn\\base.py:451: UserWarning: X does not have valid feature names, but HistGradientBoostingRegressor was fitted with feature names\n",
      "  \"X does not have valid feature names, but\"\n",
      "C:\\Users\\Sony\\anaconda3\\lib\\site-packages\\sklearn\\base.py:451: UserWarning: X does not have valid feature names, but HistGradientBoostingRegressor was fitted with feature names\n",
      "  \"X does not have valid feature names, but\"\n",
      "C:\\Users\\Sony\\anaconda3\\lib\\site-packages\\sklearn\\base.py:451: UserWarning: X does not have valid feature names, but HistGradientBoostingRegressor was fitted with feature names\n",
      "  \"X does not have valid feature names, but\"\n"
     ]
    },
    {
     "name": "stdout",
     "output_type": "stream",
     "text": [
      "1 tree, 31 leaves, max depth = 10, train score: -0.40738, val score: -0.37858, in 0.117s\n",
      "[75/100] 1 tree, 31 leaves, max depth = 12, train score: -0.40626, val score: -0.37738, in 0.113s\n",
      "[76/100] "
     ]
    },
    {
     "name": "stderr",
     "output_type": "stream",
     "text": [
      "C:\\Users\\Sony\\anaconda3\\lib\\site-packages\\sklearn\\base.py:451: UserWarning: X does not have valid feature names, but HistGradientBoostingRegressor was fitted with feature names\n",
      "  \"X does not have valid feature names, but\"\n",
      "C:\\Users\\Sony\\anaconda3\\lib\\site-packages\\sklearn\\base.py:451: UserWarning: X does not have valid feature names, but HistGradientBoostingRegressor was fitted with feature names\n",
      "  \"X does not have valid feature names, but\"\n",
      "C:\\Users\\Sony\\anaconda3\\lib\\site-packages\\sklearn\\base.py:451: UserWarning: X does not have valid feature names, but HistGradientBoostingRegressor was fitted with feature names\n",
      "  \"X does not have valid feature names, but\"\n",
      "C:\\Users\\Sony\\anaconda3\\lib\\site-packages\\sklearn\\base.py:451: UserWarning: X does not have valid feature names, but HistGradientBoostingRegressor was fitted with feature names\n",
      "  \"X does not have valid feature names, but\"\n"
     ]
    },
    {
     "name": "stdout",
     "output_type": "stream",
     "text": [
      "1 tree, 31 leaves, max depth = 13, train score: -0.40395, val score: -0.37609, in 0.116s\n",
      "[77/100] 1 tree, 31 leaves, max depth = 12, train score: -0.40413, val score: -0.37600, in 0.090s\n",
      "[78/100] "
     ]
    },
    {
     "name": "stderr",
     "output_type": "stream",
     "text": [
      "C:\\Users\\Sony\\anaconda3\\lib\\site-packages\\sklearn\\base.py:451: UserWarning: X does not have valid feature names, but HistGradientBoostingRegressor was fitted with feature names\n",
      "  \"X does not have valid feature names, but\"\n",
      "C:\\Users\\Sony\\anaconda3\\lib\\site-packages\\sklearn\\base.py:451: UserWarning: X does not have valid feature names, but HistGradientBoostingRegressor was fitted with feature names\n",
      "  \"X does not have valid feature names, but\"\n",
      "C:\\Users\\Sony\\anaconda3\\lib\\site-packages\\sklearn\\base.py:451: UserWarning: X does not have valid feature names, but HistGradientBoostingRegressor was fitted with feature names\n",
      "  \"X does not have valid feature names, but\"\n",
      "C:\\Users\\Sony\\anaconda3\\lib\\site-packages\\sklearn\\base.py:451: UserWarning: X does not have valid feature names, but HistGradientBoostingRegressor was fitted with feature names\n",
      "  \"X does not have valid feature names, but\"\n",
      "C:\\Users\\Sony\\anaconda3\\lib\\site-packages\\sklearn\\base.py:451: UserWarning: X does not have valid feature names, but HistGradientBoostingRegressor was fitted with feature names\n",
      "  \"X does not have valid feature names, but\"\n"
     ]
    },
    {
     "name": "stdout",
     "output_type": "stream",
     "text": [
      "1 tree, 31 leaves, max depth = 15, train score: -0.40167, val score: -0.37489, in 0.125s\n",
      "[79/100] 1 tree, 31 leaves, max depth = 12, train score: -0.40167, val score: -0.37467, in 0.119s\n",
      "[80/100] 1 tree, 31 leaves, max depth = 11, train score: -0.40175, val score: -0.37457, in 0.100s\n",
      "[81/100] "
     ]
    },
    {
     "name": "stderr",
     "output_type": "stream",
     "text": [
      "C:\\Users\\Sony\\anaconda3\\lib\\site-packages\\sklearn\\base.py:451: UserWarning: X does not have valid feature names, but HistGradientBoostingRegressor was fitted with feature names\n",
      "  \"X does not have valid feature names, but\"\n",
      "C:\\Users\\Sony\\anaconda3\\lib\\site-packages\\sklearn\\base.py:451: UserWarning: X does not have valid feature names, but HistGradientBoostingRegressor was fitted with feature names\n",
      "  \"X does not have valid feature names, but\"\n",
      "C:\\Users\\Sony\\anaconda3\\lib\\site-packages\\sklearn\\base.py:451: UserWarning: X does not have valid feature names, but HistGradientBoostingRegressor was fitted with feature names\n",
      "  \"X does not have valid feature names, but\"\n",
      "C:\\Users\\Sony\\anaconda3\\lib\\site-packages\\sklearn\\base.py:451: UserWarning: X does not have valid feature names, but HistGradientBoostingRegressor was fitted with feature names\n",
      "  \"X does not have valid feature names, but\"\n"
     ]
    },
    {
     "name": "stdout",
     "output_type": "stream",
     "text": [
      "1 tree, 31 leaves, max depth = 10, train score: -0.40006, val score: -0.37400, in 0.113s\n",
      "[82/100] "
     ]
    },
    {
     "name": "stderr",
     "output_type": "stream",
     "text": [
      "C:\\Users\\Sony\\anaconda3\\lib\\site-packages\\sklearn\\base.py:451: UserWarning: X does not have valid feature names, but HistGradientBoostingRegressor was fitted with feature names\n",
      "  \"X does not have valid feature names, but\"\n",
      "C:\\Users\\Sony\\anaconda3\\lib\\site-packages\\sklearn\\base.py:451: UserWarning: X does not have valid feature names, but HistGradientBoostingRegressor was fitted with feature names\n",
      "  \"X does not have valid feature names, but\"\n",
      "C:\\Users\\Sony\\anaconda3\\lib\\site-packages\\sklearn\\base.py:451: UserWarning: X does not have valid feature names, but HistGradientBoostingRegressor was fitted with feature names\n",
      "  \"X does not have valid feature names, but\"\n",
      "C:\\Users\\Sony\\anaconda3\\lib\\site-packages\\sklearn\\base.py:451: UserWarning: X does not have valid feature names, but HistGradientBoostingRegressor was fitted with feature names\n",
      "  \"X does not have valid feature names, but\"\n"
     ]
    },
    {
     "name": "stdout",
     "output_type": "stream",
     "text": [
      "1 tree, 31 leaves, max depth = 14, train score: -0.39995, val score: -0.37306, in 0.132s\n",
      "[83/100] 1 tree, 31 leaves, max depth = 13, train score: -0.39961, val score: -0.37254, in 0.106s\n",
      "[84/100] 1 tree, 31 leaves, max depth = 13, train score: -0.39787, val score: -0.37212, in 0.095s\n",
      "[85/100] "
     ]
    },
    {
     "name": "stderr",
     "output_type": "stream",
     "text": [
      "C:\\Users\\Sony\\anaconda3\\lib\\site-packages\\sklearn\\base.py:451: UserWarning: X does not have valid feature names, but HistGradientBoostingRegressor was fitted with feature names\n",
      "  \"X does not have valid feature names, but\"\n",
      "C:\\Users\\Sony\\anaconda3\\lib\\site-packages\\sklearn\\base.py:451: UserWarning: X does not have valid feature names, but HistGradientBoostingRegressor was fitted with feature names\n",
      "  \"X does not have valid feature names, but\"\n",
      "C:\\Users\\Sony\\anaconda3\\lib\\site-packages\\sklearn\\base.py:451: UserWarning: X does not have valid feature names, but HistGradientBoostingRegressor was fitted with feature names\n",
      "  \"X does not have valid feature names, but\"\n",
      "C:\\Users\\Sony\\anaconda3\\lib\\site-packages\\sklearn\\base.py:451: UserWarning: X does not have valid feature names, but HistGradientBoostingRegressor was fitted with feature names\n",
      "  \"X does not have valid feature names, but\"\n"
     ]
    },
    {
     "name": "stdout",
     "output_type": "stream",
     "text": [
      "1 tree, 31 leaves, max depth = 12, train score: -0.39793, val score: -0.37195, in 0.130s\n",
      "[86/100] "
     ]
    },
    {
     "name": "stderr",
     "output_type": "stream",
     "text": [
      "C:\\Users\\Sony\\anaconda3\\lib\\site-packages\\sklearn\\base.py:451: UserWarning: X does not have valid feature names, but HistGradientBoostingRegressor was fitted with feature names\n",
      "  \"X does not have valid feature names, but\"\n",
      "C:\\Users\\Sony\\anaconda3\\lib\\site-packages\\sklearn\\base.py:451: UserWarning: X does not have valid feature names, but HistGradientBoostingRegressor was fitted with feature names\n",
      "  \"X does not have valid feature names, but\"\n",
      "C:\\Users\\Sony\\anaconda3\\lib\\site-packages\\sklearn\\base.py:451: UserWarning: X does not have valid feature names, but HistGradientBoostingRegressor was fitted with feature names\n",
      "  \"X does not have valid feature names, but\"\n",
      "C:\\Users\\Sony\\anaconda3\\lib\\site-packages\\sklearn\\base.py:451: UserWarning: X does not have valid feature names, but HistGradientBoostingRegressor was fitted with feature names\n",
      "  \"X does not have valid feature names, but\"\n"
     ]
    },
    {
     "name": "stdout",
     "output_type": "stream",
     "text": [
      "1 tree, 31 leaves, max depth = 13, train score: -0.39735, val score: -0.37108, in 0.126s\n",
      "[87/100] 1 tree, 31 leaves, max depth = 12, train score: -0.39542, val score: -0.37004, in 0.100s\n",
      "[88/100] 1 tree, 31 leaves, max depth = 12, train score: -0.39552, val score: -0.36957, in 0.096s\n",
      "[89/100] "
     ]
    },
    {
     "name": "stderr",
     "output_type": "stream",
     "text": [
      "C:\\Users\\Sony\\anaconda3\\lib\\site-packages\\sklearn\\base.py:451: UserWarning: X does not have valid feature names, but HistGradientBoostingRegressor was fitted with feature names\n",
      "  \"X does not have valid feature names, but\"\n",
      "C:\\Users\\Sony\\anaconda3\\lib\\site-packages\\sklearn\\base.py:451: UserWarning: X does not have valid feature names, but HistGradientBoostingRegressor was fitted with feature names\n",
      "  \"X does not have valid feature names, but\"\n",
      "C:\\Users\\Sony\\anaconda3\\lib\\site-packages\\sklearn\\base.py:451: UserWarning: X does not have valid feature names, but HistGradientBoostingRegressor was fitted with feature names\n",
      "  \"X does not have valid feature names, but\"\n",
      "C:\\Users\\Sony\\anaconda3\\lib\\site-packages\\sklearn\\base.py:451: UserWarning: X does not have valid feature names, but HistGradientBoostingRegressor was fitted with feature names\n",
      "  \"X does not have valid feature names, but\"\n"
     ]
    },
    {
     "name": "stdout",
     "output_type": "stream",
     "text": [
      "1 tree, 31 leaves, max depth = 12, train score: -0.39642, val score: -0.36865, in 0.142s\n",
      "[90/100] "
     ]
    },
    {
     "name": "stderr",
     "output_type": "stream",
     "text": [
      "C:\\Users\\Sony\\anaconda3\\lib\\site-packages\\sklearn\\base.py:451: UserWarning: X does not have valid feature names, but HistGradientBoostingRegressor was fitted with feature names\n",
      "  \"X does not have valid feature names, but\"\n",
      "C:\\Users\\Sony\\anaconda3\\lib\\site-packages\\sklearn\\base.py:451: UserWarning: X does not have valid feature names, but HistGradientBoostingRegressor was fitted with feature names\n",
      "  \"X does not have valid feature names, but\"\n"
     ]
    },
    {
     "name": "stdout",
     "output_type": "stream",
     "text": [
      "1 tree, 31 leaves, max depth = 13, train score: -0.39703, val score: -0.36867, in 0.227s\n",
      "[91/100] "
     ]
    },
    {
     "name": "stderr",
     "output_type": "stream",
     "text": [
      "C:\\Users\\Sony\\anaconda3\\lib\\site-packages\\sklearn\\base.py:451: UserWarning: X does not have valid feature names, but HistGradientBoostingRegressor was fitted with feature names\n",
      "  \"X does not have valid feature names, but\"\n",
      "C:\\Users\\Sony\\anaconda3\\lib\\site-packages\\sklearn\\base.py:451: UserWarning: X does not have valid feature names, but HistGradientBoostingRegressor was fitted with feature names\n",
      "  \"X does not have valid feature names, but\"\n",
      "C:\\Users\\Sony\\anaconda3\\lib\\site-packages\\sklearn\\base.py:451: UserWarning: X does not have valid feature names, but HistGradientBoostingRegressor was fitted with feature names\n",
      "  \"X does not have valid feature names, but\"\n",
      "C:\\Users\\Sony\\anaconda3\\lib\\site-packages\\sklearn\\base.py:451: UserWarning: X does not have valid feature names, but HistGradientBoostingRegressor was fitted with feature names\n",
      "  \"X does not have valid feature names, but\"\n"
     ]
    },
    {
     "name": "stdout",
     "output_type": "stream",
     "text": [
      "1 tree, 31 leaves, max depth = 13, train score: -0.39657, val score: -0.36813, in 0.137s\n",
      "[92/100] 1 tree, 31 leaves, max depth = 10, train score: -0.39574, val score: -0.36732, in 0.144s\n",
      "[93/100] "
     ]
    },
    {
     "name": "stderr",
     "output_type": "stream",
     "text": [
      "C:\\Users\\Sony\\anaconda3\\lib\\site-packages\\sklearn\\base.py:451: UserWarning: X does not have valid feature names, but HistGradientBoostingRegressor was fitted with feature names\n",
      "  \"X does not have valid feature names, but\"\n",
      "C:\\Users\\Sony\\anaconda3\\lib\\site-packages\\sklearn\\base.py:451: UserWarning: X does not have valid feature names, but HistGradientBoostingRegressor was fitted with feature names\n",
      "  \"X does not have valid feature names, but\"\n",
      "C:\\Users\\Sony\\anaconda3\\lib\\site-packages\\sklearn\\base.py:451: UserWarning: X does not have valid feature names, but HistGradientBoostingRegressor was fitted with feature names\n",
      "  \"X does not have valid feature names, but\"\n"
     ]
    },
    {
     "name": "stdout",
     "output_type": "stream",
     "text": [
      "1 tree, 31 leaves, max depth = 17, train score: -0.39631, val score: -0.36743, in 0.128s\n",
      "[94/100] 1 tree, 31 leaves, max depth = 11, train score: -0.39655, val score: -0.36694, in 0.117s\n",
      "[95/100] "
     ]
    },
    {
     "name": "stderr",
     "output_type": "stream",
     "text": [
      "C:\\Users\\Sony\\anaconda3\\lib\\site-packages\\sklearn\\base.py:451: UserWarning: X does not have valid feature names, but HistGradientBoostingRegressor was fitted with feature names\n",
      "  \"X does not have valid feature names, but\"\n",
      "C:\\Users\\Sony\\anaconda3\\lib\\site-packages\\sklearn\\base.py:451: UserWarning: X does not have valid feature names, but HistGradientBoostingRegressor was fitted with feature names\n",
      "  \"X does not have valid feature names, but\"\n",
      "C:\\Users\\Sony\\anaconda3\\lib\\site-packages\\sklearn\\base.py:451: UserWarning: X does not have valid feature names, but HistGradientBoostingRegressor was fitted with feature names\n",
      "  \"X does not have valid feature names, but\"\n",
      "C:\\Users\\Sony\\anaconda3\\lib\\site-packages\\sklearn\\base.py:451: UserWarning: X does not have valid feature names, but HistGradientBoostingRegressor was fitted with feature names\n",
      "  \"X does not have valid feature names, but\"\n"
     ]
    },
    {
     "name": "stdout",
     "output_type": "stream",
     "text": [
      "1 tree, 31 leaves, max depth = 15, train score: -0.39594, val score: -0.36615, in 0.134s\n",
      "[96/100] "
     ]
    },
    {
     "name": "stderr",
     "output_type": "stream",
     "text": [
      "C:\\Users\\Sony\\anaconda3\\lib\\site-packages\\sklearn\\base.py:451: UserWarning: X does not have valid feature names, but HistGradientBoostingRegressor was fitted with feature names\n",
      "  \"X does not have valid feature names, but\"\n",
      "C:\\Users\\Sony\\anaconda3\\lib\\site-packages\\sklearn\\base.py:451: UserWarning: X does not have valid feature names, but HistGradientBoostingRegressor was fitted with feature names\n",
      "  \"X does not have valid feature names, but\"\n"
     ]
    },
    {
     "name": "stdout",
     "output_type": "stream",
     "text": [
      "1 tree, 31 leaves, max depth = 13, train score: -0.39454, val score: -0.36593, in 0.124s\n",
      "[97/100] 1 tree, 31 leaves, max depth = 14, train score: -0.39505, val score: -0.36610, in 0.112s\n",
      "[98/100] "
     ]
    },
    {
     "name": "stderr",
     "output_type": "stream",
     "text": [
      "C:\\Users\\Sony\\anaconda3\\lib\\site-packages\\sklearn\\base.py:451: UserWarning: X does not have valid feature names, but HistGradientBoostingRegressor was fitted with feature names\n",
      "  \"X does not have valid feature names, but\"\n",
      "C:\\Users\\Sony\\anaconda3\\lib\\site-packages\\sklearn\\base.py:451: UserWarning: X does not have valid feature names, but HistGradientBoostingRegressor was fitted with feature names\n",
      "  \"X does not have valid feature names, but\"\n",
      "C:\\Users\\Sony\\anaconda3\\lib\\site-packages\\sklearn\\base.py:451: UserWarning: X does not have valid feature names, but HistGradientBoostingRegressor was fitted with feature names\n",
      "  \"X does not have valid feature names, but\"\n",
      "C:\\Users\\Sony\\anaconda3\\lib\\site-packages\\sklearn\\base.py:451: UserWarning: X does not have valid feature names, but HistGradientBoostingRegressor was fitted with feature names\n",
      "  \"X does not have valid feature names, but\"\n"
     ]
    },
    {
     "name": "stdout",
     "output_type": "stream",
     "text": [
      "1 tree, 31 leaves, max depth = 11, train score: -0.39331, val score: -0.36529, in 0.146s\n",
      "[99/100] 1 tree, 31 leaves, max depth = 14, train score: -0.39315, val score: -0.36489, in 0.113s\n",
      "[100/100] "
     ]
    },
    {
     "name": "stderr",
     "output_type": "stream",
     "text": [
      "C:\\Users\\Sony\\anaconda3\\lib\\site-packages\\sklearn\\base.py:451: UserWarning: X does not have valid feature names, but HistGradientBoostingRegressor was fitted with feature names\n",
      "  \"X does not have valid feature names, but\"\n",
      "C:\\Users\\Sony\\anaconda3\\lib\\site-packages\\sklearn\\base.py:451: UserWarning: X does not have valid feature names, but HistGradientBoostingRegressor was fitted with feature names\n",
      "  \"X does not have valid feature names, but\"\n",
      "C:\\Users\\Sony\\anaconda3\\lib\\site-packages\\sklearn\\base.py:451: UserWarning: X does not have valid feature names, but HistGradientBoostingRegressor was fitted with feature names\n",
      "  \"X does not have valid feature names, but\"\n",
      "C:\\Users\\Sony\\anaconda3\\lib\\site-packages\\sklearn\\base.py:451: UserWarning: X does not have valid feature names, but HistGradientBoostingRegressor was fitted with feature names\n",
      "  \"X does not have valid feature names, but\"\n"
     ]
    },
    {
     "name": "stdout",
     "output_type": "stream",
     "text": [
      "1 tree, 31 leaves, max depth = 11, train score: -0.39355, val score: -0.36469, in 0.132s\n",
      "Fit 100 trees in 8.763 s, (3100 total leaves)\n",
      "Time spent computing histograms: 0.652s\n",
      "Time spent finding best splits:  0.265s\n",
      "Time spent applying splits:      0.482s\n",
      "Time spent predicting:           0.026s\n"
     ]
    },
    {
     "name": "stderr",
     "output_type": "stream",
     "text": [
      "C:\\Users\\Sony\\anaconda3\\lib\\site-packages\\sklearn\\base.py:451: UserWarning: X does not have valid feature names, but HistGradientBoostingRegressor was fitted with feature names\n",
      "  \"X does not have valid feature names, but\"\n"
     ]
    },
    {
     "data": {
      "text/plain": [
       "HistGradientBoostingRegressor(categorical_features=[True, True, True, True,\n",
       "                                                    True, True, True, True,\n",
       "                                                    True, True, True, True,\n",
       "                                                    False, False, False, False,\n",
       "                                                    False, False, False, False,\n",
       "                                                    False, False, False, False,\n",
       "                                                    False, False],\n",
       "                              random_state=42,\n",
       "                              scoring=make_scorer(mean_absolute_percentage_error, greater_is_better=False),\n",
       "                              verbose=3)"
      ]
     },
     "execution_count": 45,
     "metadata": {},
     "output_type": "execute_result"
    }
   ],
   "source": [
    "reg.fit(X_train,y_train)"
   ]
  },
  {
   "cell_type": "code",
   "execution_count": 46,
   "id": "2c0483f5-39d9-4c74-b584-17b8eff80f6d",
   "metadata": {},
   "outputs": [
    {
     "data": {
      "text/plain": [
       "0.3697016089568272"
      ]
     },
     "execution_count": 46,
     "metadata": {},
     "output_type": "execute_result"
    }
   ],
   "source": [
    "mean_absolute_percentage_error(y_test, reg.predict(X_test))"
   ]
  },
  {
   "cell_type": "code",
   "execution_count": 47,
   "id": "999d99aa",
   "metadata": {},
   "outputs": [
    {
     "data": {
      "text/plain": [
       "263473.643443036"
      ]
     },
     "execution_count": 47,
     "metadata": {},
     "output_type": "execute_result"
    }
   ],
   "source": [
    "mean_absolute_error(y_test, reg.predict(X_test))"
   ]
  },
  {
   "cell_type": "code",
   "execution_count": 48,
   "id": "5b0384f8",
   "metadata": {},
   "outputs": [],
   "source": [
    "import matplotlib.pyplot as plt\n"
   ]
  },
  {
   "cell_type": "code",
   "execution_count": 49,
   "id": "a69444d6",
   "metadata": {},
   "outputs": [
    {
     "data": {
      "text/plain": [
       "[array([717741.7495922 , 682771.42541948, 682771.42541948, ...,\n",
       "        708044.63752706, 682771.42541948, 717741.7495922 ]),\n",
       " array([722822.40446417, 646215.66206069, 646215.66206069, ...,\n",
       "        694344.81821536, 646215.66206069, 722822.40446417]),\n",
       " array([721645.1267761 , 610265.32741273, 610265.32741273, ...,\n",
       "        676514.06012003, 610265.32741273, 721645.1267761 ]),\n",
       " array([721534.98593202, 577586.02317822, 610155.18656865, ...,\n",
       "        664414.30848868, 577586.02317822, 721534.98593202]),\n",
       " array([721601.58320227, 550595.22744263, 610221.7838389 , ...,\n",
       "        655948.61502527, 550595.22744263, 721601.58320227]),\n",
       " array([727635.75140567, 524404.01051375, 584030.56691002, ...,\n",
       "        659768.02293771, 524404.01051375, 727635.75140567]),\n",
       " array([723257.00676049, 502436.04068045, 579651.82226485, ...,\n",
       "        637800.05310441, 502436.04068045, 723257.00676049]),\n",
       " array([698143.39613593, 489084.79132242, 554538.21164028, ...,\n",
       "        634307.14365048, 477322.43005588, 698143.39613593]),\n",
       " array([677073.1732087 , 468014.56839519, 533467.98871306, ...,\n",
       "        624114.24676882, 456252.20712866, 677073.1732087 ]),\n",
       " array([673663.39310465, 457547.44279608, 512811.15437639, ...,\n",
       "        613647.12116971, 435595.37279199, 673663.39310465]),\n",
       " array([694046.9937965 , 442107.06571089, 505376.43667671, ...,\n",
       "        619678.43227964, 420154.99570679, 694046.9937965 ]),\n",
       " array([681433.61653786, 429493.68845225, 492763.05941807, ...,\n",
       "        615665.56882467, 407541.61844815, 681433.61653786]),\n",
       " array([666642.83408694, 419092.55478497, 477972.27696716, ...,\n",
       "        605264.43515739, 392750.83599724, 666642.83408694]),\n",
       " array([684934.80784888, 409285.51705661, 496264.25072909, ...,\n",
       "        595457.39742903, 382943.79826888, 684934.80784888]),\n",
       " array([687066.12068097, 398607.6676356 , 498395.56356119, ...,\n",
       "        626719.95350301, 372265.94884787, 687066.12068097]),\n",
       " array([710653.00756861, 390645.80711717, 490433.70304276, ...,\n",
       "        618758.09298459, 364304.08832944, 710653.00756861]),\n",
       " array([697240.44705372, 386690.11231239, 477021.14252787, ...,\n",
       "        614802.3981798 , 350891.52781455, 697240.44705372]),\n",
       " array([705496.5911991 , 378412.3758312 , 468743.40604668, ...,\n",
       "        610039.64390498, 342613.79133336, 705496.5911991 ]),\n",
       " array([696277.79484149, 374090.83593353, 459524.60968907, ...,\n",
       "        605718.10400731, 333394.99497575, 696277.79484149]),\n",
       " array([691830.38767255, 365902.54220356, 451336.3159591 , ...,\n",
       "        601270.69683838, 325206.70124578, 691830.38767255]),\n",
       " array([681893.9316931 , 362641.89105852, 441399.85997965, ...,\n",
       "        598010.04569334, 315270.24526633, 681893.9316931 ]),\n",
       " array([676183.17038194, 356931.12974736, 435689.09866848, ...,\n",
       "        592299.28438217, 309559.48395517, 676183.17038194]),\n",
       " array([671824.53130338, 352572.49066881, 431330.45958993, ...,\n",
       "        593062.46581801, 305200.84487661, 671824.53130338]),\n",
       " array([668886.0641335 , 349634.02349892, 428391.99242005, ...,\n",
       "        590123.99864813, 296084.26435686, 668886.0641335 ]),\n",
       " array([663010.39920993, 348599.0965904 , 422516.32749647, ...,\n",
       "        589089.0717396 , 290208.59943328, 663010.39920993]),\n",
       " array([668173.97361561, 342967.53704991, 419979.93090056, ...,\n",
       "        594252.64614529, 284577.0398928 , 668173.97361561]),\n",
       " array([664149.56309208, 338943.12652638, 415955.52037702, ...,\n",
       "        590228.23562175, 280552.62936927, 664149.56309208]),\n",
       " array([655951.94790925, 337843.78250122, 414856.17635186, ...,\n",
       "        596586.94334009, 272355.01418645, 655951.94790925]),\n",
       " array([668571.41559969, 332616.97692331, 413134.28080678, ...,\n",
       "        600533.91027938, 267128.20860854, 668571.41559969]),\n",
       " array([663475.76769773, 332479.63873197, 408038.63290481, ...,\n",
       "        600396.57208804, 262032.56070657, 663475.76769773]),\n",
       " array([662351.26130491, 324815.7373144 , 406914.12651199, ...,\n",
       "        610148.16114406, 254368.65928899, 662351.26130491]),\n",
       " array([658623.65036263, 321088.12637211, 403186.51556971, ...,\n",
       "        606420.55020178, 250641.04834671, 658623.65036263]),\n",
       " array([662964.72797968, 318114.91575666, 400213.30495425, ...,\n",
       "        610761.62781883, 247667.83773125, 662964.72797968]),\n",
       " array([664333.23302308, 314191.35874541, 401581.80999766, ...,\n",
       "        612130.13286224, 243744.28072   , 664333.23302308]),\n",
       " array([669015.69247832, 311889.92238102, 399280.37363327, ...,\n",
       "        616812.59231747, 241442.84435561, 669015.69247832]),\n",
       " array([665578.42112711, 308452.65102981, 395843.10228206, ...,\n",
       "        624453.31580929, 238005.5730044 , 665578.42112711]),\n",
       " array([662716.11981623, 307412.05489649, 394802.50614874, ...,\n",
       "        626507.38668379, 236964.97687109, 662716.11981623]),\n",
       " array([657074.55226497, 301511.66534567, 395192.37406344, ...,\n",
       "        626897.25459849, 231323.40931983, 657074.55226497]),\n",
       " array([655801.46406952, 300238.57715022, 393919.28586799, ...,\n",
       "        638317.49377212, 226860.02457546, 655801.46406952]),\n",
       " array([656445.66657535, 292388.88888578, 394563.48837382, ...,\n",
       "        638961.69627795, 219010.33631103, 650091.18743443]),\n",
       " array([654275.81406132, 290219.03637175, 392393.63585979, ...,\n",
       "        636791.84376392, 216840.483797  , 652213.45028303]),\n",
       " array([653229.76282904, 289172.98513947, 391347.58462751, ...,\n",
       "        635745.79253164, 215794.43256472, 651167.39905075]),\n",
       " array([651848.02727105, 287791.24958148, 389965.84906952, ...,\n",
       "        648012.99015733, 214412.69700673, 649785.66349276]),\n",
       " array([647113.4227654 , 288058.6587768 , 390233.25826484, ...,\n",
       "        648280.39935265, 209678.09250108, 645051.05898711]),\n",
       " array([645922.63846791, 286867.87447932, 389042.47396735, ...,\n",
       "        647089.61505517, 208487.30820359, 643860.27468962]),\n",
       " array([643261.27939678, 284206.51540818, 386381.11489622, ...,\n",
       "        644428.25598403, 205825.94913246, 643922.74335438]),\n",
       " array([641788.42698955, 282733.66300096, 384908.262489  , ...,\n",
       "        642955.40357681, 204353.09672523, 642449.89094715]),\n",
       " array([640688.95997665, 281634.19598805, 383808.79547609, ...,\n",
       "        653602.51674665, 203253.62971233, 641350.42393425]),\n",
       " array([641800.16829521, 282745.40430661, 384920.00379465, ...,\n",
       "        651337.23083754, 198950.57450332, 637047.36872524]),\n",
       " array([642144.00331538, 277558.79703372, 385263.83881482, ...,\n",
       "        651681.06585771, 193763.96723044, 637391.20374542]),\n",
       " array([641744.66507242, 277159.45879076, 384864.50057186, ...,\n",
       "        651281.72761475, 193364.62898748, 636991.86550246]),\n",
       " array([640814.70312162, 276229.49683996, 383934.53862106, ...,\n",
       "        650351.76566396, 192434.66703668, 636061.90355166]),\n",
       " array([642065.95622033, 271070.47797233, 385185.79171977, ...,\n",
       "        651603.01876266, 187275.64816904, 631214.92826149]),\n",
       " array([641554.40976045, 270558.93151245, 384674.24525989, ...,\n",
       "        655203.49378468, 186764.10170916, 630703.38180161]),\n",
       " array([640868.19566966, 269872.71742165, 383988.0311691 , ...,\n",
       "        680461.12969563, 186077.88761837, 630017.16771081]),\n",
       " array([640313.13095942, 269317.65271141, 383432.96645886, ...,\n",
       "        679906.06498539, 185522.82290813, 629462.10300057]),\n",
       " array([639643.8386745 , 268648.36042649, 382763.67417394, ...,\n",
       "        679236.77270047, 184853.53062321, 629736.46976097]),\n",
       " array([640320.61588427, 269325.13763626, 383440.45138371, ...,\n",
       "        678063.18473596, 181169.89962152, 626052.83875928]),\n",
       " array([639693.1283537 , 268697.6501057 , 382812.96385314, ...,\n",
       "        680604.89114741, 180542.41209095, 625425.35122872]),\n",
       " array([639784.55018576, 268789.07193775, 382904.3856852 , ...,\n",
       "        680696.31297946, 180633.83392301, 625516.77306077]),\n",
       " array([637826.95148893, 266831.47324092, 381124.77578065, ...,\n",
       "        678916.70307492, 178676.23522618, 623559.17436394]),\n",
       " array([637435.97409065, 266440.49584265, 380733.79838238, ...,\n",
       "        681325.69483934, 178285.25782791, 623168.19696567]),\n",
       " array([638334.11814148, 263024.39358488, 381631.94243321, ...,\n",
       "        682223.83889017, 174869.15557014, 624066.3410165 ]),\n",
       " array([636552.74818001, 261243.02362341, 382086.65740926, ...,\n",
       "        682678.55386622, 173087.78560867, 622284.97105503]),\n",
       " array([636029.56949506, 260719.84493845, 381563.4787243 , ...,\n",
       "        681856.00524385, 172564.60692371, 621761.79237008]),\n",
       " array([633412.39166838, 258102.66711178, 381992.51681906, ...,\n",
       "        682285.04333861, 169947.42909704, 619144.6145434 ]),\n",
       " array([633550.17757215, 258240.45301554, 382130.30272283, ...,\n",
       "        682422.82924238, 170085.2150008 , 619282.40044717]),\n",
       " array([634226.32538815, 258916.60083155, 380216.22764431, ...,\n",
       "        688060.15310444, 170761.36281681, 619958.54826317]),\n",
       " array([634575.84236775, 259266.11781114, 380565.7446239 , ...,\n",
       "        684703.24147075, 167070.00351717, 616267.18896353]),\n",
       " array([634278.11912337, 258968.39456677, 380268.02137952, ...,\n",
       "        684405.51822637, 166772.28027279, 615969.46571915]),\n",
       " array([633360.22233137, 260528.95367307, 379350.12458752, ...,\n",
       "        683213.09579664, 165854.38348079, 615051.56892715]),\n",
       " array([632963.38102364, 260132.11236534, 378953.28327979, ...,\n",
       "        682816.25448891, 165457.54217306, 614654.72761942]),\n",
       " array([632758.12083948, 259926.85218118, 378748.02309564, ...,\n",
       "        682610.99430476, 165252.2819889 , 614449.46743527]),\n",
       " array([630972.23956498, 258140.97090668, 379159.73963819, ...,\n",
       "        683022.71084731, 163466.4007144 , 612663.58616076]),\n",
       " array([629575.89685527, 256744.62819697, 377763.39692848, ...,\n",
       "        681626.3681376 , 162070.05800469, 611267.24345105]),\n",
       " array([638765.10424573, 256702.30311199, 377721.0718435 , ...,\n",
       "        680615.41304855, 158895.42300797, 608092.60845433]),\n",
       " array([638542.76600866, 256479.96487492, 377498.73360643, ...,\n",
       "        698560.33388113, 158673.0847709 , 607870.27021726]),\n",
       " array([637845.22643614, 257583.1570801 , 376801.19403391, ...,\n",
       "        697522.87868431, 157975.54519837, 607172.73064474]),\n",
       " array([637887.98670662, 257625.91735059, 376843.9543044 , ...,\n",
       "        697565.6389548 , 158018.30546886, 607215.49091522]),\n",
       " array([636567.12791372, 256305.05855768, 375523.09551149, ...,\n",
       "        696244.7801619 , 156697.44667595, 608192.50603552]),\n",
       " array([635511.37243198, 255249.30307594, 376128.0769448 , ...,\n",
       "        696849.7615952 , 155641.69119421, 607136.75055378]),\n",
       " array([635323.49543879, 255061.42608275, 375940.19995161, ...,\n",
       "        696661.88460202, 155453.81420103, 606948.87356059]),\n",
       " array([634603.83191624, 254341.76256021, 375220.53642906, ...,\n",
       "        695641.07700314, 154734.15067848, 606229.21003804]),\n",
       " array([634178.97126877, 253916.90191273, 374795.67578159, ...,\n",
       "        695216.21635567, 154309.29003101, 605804.34939057]),\n",
       " array([634207.990619  , 253945.92126297, 374824.69513182, ...,\n",
       "        695245.2357059 , 154338.30938124, 605833.36874081]),\n",
       " array([635039.76019043, 254777.6908344 , 375656.46470325, ...,\n",
       "        694648.50941751, 150840.48170707, 602335.54106663]),\n",
       " array([634571.49112005, 254309.42176401, 375188.19563287, ...,\n",
       "        706567.202317  , 150372.21263668, 601867.27199625]),\n",
       " array([634321.51585109, 254059.44649506, 374938.22036391, ...,\n",
       "        706317.22704804, 150122.23736773, 601617.29672729]),\n",
       " array([637726.3769426 , 254513.62434595, 375392.39821481, ...,\n",
       "        709722.08813955, 150576.41521862, 602071.47457819]),\n",
       " array([637869.56344939, 254656.81085274, 375535.5847216 , ...,\n",
       "        709865.27464634, 150719.60172541, 602214.66108498]),\n",
       " array([637658.65084271, 254445.89824605, 375324.67211491, ...,\n",
       "        720585.60034037, 150508.68911873, 602003.74847829]),\n",
       " array([637351.4566226 , 254138.70402595, 374227.87383207, ...,\n",
       "        719488.80205753, 150201.49489862, 601696.55425818]),\n",
       " array([637483.62222859, 254270.86963193, 374360.03943806, ...,\n",
       "        719620.96766352, 150333.66050461, 601828.71986417]),\n",
       " array([637244.18537896, 254031.43278231, 374120.60258843, ...,\n",
       "        719381.53081389, 150094.22365498, 601589.28301454]),\n",
       " array([637096.69435904, 253883.94176239, 373973.11156852, ...,\n",
       "        718553.9256824 , 149946.73263506, 597586.45934188]),\n",
       " array([636714.00754241, 253501.25494576, 373590.42475189, ...,\n",
       "        718171.23886577, 149564.04581843, 597203.77252525]),\n",
       " array([636835.12366654, 253622.37106989, 373711.54087601, ...,\n",
       "        718292.3549899 , 149685.16194256, 597324.88864938]),\n",
       " array([636484.60877053, 253271.85617388, 373361.02598   , ...,\n",
       "        715855.79585953, 149334.64704655, 603529.03865958]),\n",
       " array([635821.73385869, 252608.98126204, 372698.15106816, ...,\n",
       "        715192.92094769, 148671.77213471, 602866.16374774]),\n",
       " array([635710.51531766, 252497.76272101, 372586.93252713, ...,\n",
       "        718896.03275724, 148560.55359368, 602754.94520671])]"
      ]
     },
     "execution_count": 49,
     "metadata": {},
     "output_type": "execute_result"
    }
   ],
   "source": [
    "[i for i in reg.staged_predict(X_test)]"
   ]
  },
  {
   "cell_type": "code",
   "execution_count": 50,
   "id": "c8bdac85",
   "metadata": {},
   "outputs": [
    {
     "data": {
      "image/png": "[encoded data removed]",
      "text/plain": [
       "<Figure size 432x432 with 1 Axes>"
      ]
     },
     "metadata": {
      "needs_background": "light"
     },
     "output_type": "display_data"
    }
   ],
   "source": [
    "test_score =[]\n",
    "for i,y_pred in enumerate(reg.staged_predict(X_test)):\n",
    "    test_score.append(-mean_absolute_percentage_error(y_test, y_pred))\n",
    "fig = plt.figure(figsize=(6, 6))\n",
    "plt.subplot(1, 1, 1)\n",
    "plt.title(\"MAPE\")\n",
    "plt.plot(\n",
    "    np.arange(101) + 1,\n",
    "    reg.train_score_,\n",
    "    \"b-\",\n",
    "    label=\"Training Set MAPE\",\n",
    ")\n",
    "plt.plot(\n",
    "    np.arange(100) + 1, test_score, \"r-\", label=\"Test Set MAPE\"\n",
    ")\n",
    "plt.legend(loc=\"lower right\")\n",
    "plt.xlabel(\"Boosting Iterations\")\n",
    "plt.ylabel(\"MAPE\")\n",
    "fig.tight_layout()\n",
    "plt.show()\n"
   ]
  },
  {
   "cell_type": "code",
   "execution_count": 51,
   "id": "c6e9511a",
   "metadata": {},
   "outputs": [],
   "source": [
    "mae = make_scorer(mean_absolute_error, greater_is_better=False)"
   ]
  },
  {
   "cell_type": "code",
   "execution_count": 52,
   "id": "e6955869",
   "metadata": {},
   "outputs": [],
   "source": [
    "reg=HistGradientBoostingRegressor(verbose=3,random_state=42, categorical_features=cat_feat_mask,scoring=mae)"
   ]
  },
  {
   "cell_type": "code",
   "execution_count": 53,
   "id": "83e367d0",
   "metadata": {},
   "outputs": [
    {
     "name": "stdout",
     "output_type": "stream",
     "text": [
      "Binning 0.011 GB of training data: 0.122 s\n",
      "Binning 0.001 GB of validation data: 0.006 s\n",
      "Fitting gradient boosted rounds:\n",
      "[1/100] 1 tree, 31 leaves, max depth = 8, train score: -555411.86650, val score: -546427.36122, in 0.029s\n",
      "[2/100] 1 tree, 31 leaves, max depth = 8, train score: -516719.69902, val score: -510576.03619, in 0.037s\n",
      "[3/100] 1 tree, 31 leaves, max depth = 7, train score: -482827.55826, val score: -477193.30248, in 0.037s\n",
      "[4/100] 1 tree, 31 leaves, max depth = 8, train score: -454041.73545, val score: -450879.05690, in 0.031s\n",
      "[5/100] 1 tree, 31 leaves, max depth = 9, train score: -429407.65877, val score: -426325.93099, in 0.041s\n",
      "[6/100] "
     ]
    },
    {
     "name": "stderr",
     "output_type": "stream",
     "text": [
      "C:\\Users\\Sony\\anaconda3\\lib\\site-packages\\sklearn\\base.py:451: UserWarning: X does not have valid feature names, but HistGradientBoostingRegressor was fitted with feature names\n",
      "  \"X does not have valid feature names, but\"\n",
      "C:\\Users\\Sony\\anaconda3\\lib\\site-packages\\sklearn\\base.py:451: UserWarning: X does not have valid feature names, but HistGradientBoostingRegressor was fitted with feature names\n",
      "  \"X does not have valid feature names, but\"\n",
      "C:\\Users\\Sony\\anaconda3\\lib\\site-packages\\sklearn\\base.py:451: UserWarning: X does not have valid feature names, but HistGradientBoostingRegressor was fitted with feature names\n",
      "  \"X does not have valid feature names, but\"\n",
      "C:\\Users\\Sony\\anaconda3\\lib\\site-packages\\sklearn\\base.py:451: UserWarning: X does not have valid feature names, but HistGradientBoostingRegressor was fitted with feature names\n",
      "  \"X does not have valid feature names, but\"\n",
      "C:\\Users\\Sony\\anaconda3\\lib\\site-packages\\sklearn\\base.py:451: UserWarning: X does not have valid feature names, but HistGradientBoostingRegressor was fitted with feature names\n",
      "  \"X does not have valid feature names, but\"\n",
      "C:\\Users\\Sony\\anaconda3\\lib\\site-packages\\sklearn\\base.py:451: UserWarning: X does not have valid feature names, but HistGradientBoostingRegressor was fitted with feature names\n",
      "  \"X does not have valid feature names, but\"\n",
      "C:\\Users\\Sony\\anaconda3\\lib\\site-packages\\sklearn\\base.py:451: UserWarning: X does not have valid feature names, but HistGradientBoostingRegressor was fitted with feature names\n",
      "  \"X does not have valid feature names, but\"\n",
      "C:\\Users\\Sony\\anaconda3\\lib\\site-packages\\sklearn\\base.py:451: UserWarning: X does not have valid feature names, but HistGradientBoostingRegressor was fitted with feature names\n",
      "  \"X does not have valid feature names, but\"\n",
      "C:\\Users\\Sony\\anaconda3\\lib\\site-packages\\sklearn\\base.py:451: UserWarning: X does not have valid feature names, but HistGradientBoostingRegressor was fitted with feature names\n",
      "  \"X does not have valid feature names, but\"\n",
      "C:\\Users\\Sony\\anaconda3\\lib\\site-packages\\sklearn\\base.py:451: UserWarning: X does not have valid feature names, but HistGradientBoostingRegressor was fitted with feature names\n",
      "  \"X does not have valid feature names, but\"\n",
      "C:\\Users\\Sony\\anaconda3\\lib\\site-packages\\sklearn\\base.py:451: UserWarning: X does not have valid feature names, but HistGradientBoostingRegressor was fitted with feature names\n",
      "  \"X does not have valid feature names, but\"\n",
      "C:\\Users\\Sony\\anaconda3\\lib\\site-packages\\sklearn\\base.py:451: UserWarning: X does not have valid feature names, but HistGradientBoostingRegressor was fitted with feature names\n",
      "  \"X does not have valid feature names, but\"\n"
     ]
    },
    {
     "name": "stdout",
     "output_type": "stream",
     "text": [
      "1 tree, 31 leaves, max depth = 7, train score: -408490.40333, val score: -406815.09734, in 0.043s\n",
      "[7/100] 1 tree, 31 leaves, max depth = 8, train score: -390153.71923, val score: -388103.97395, in 0.041s\n",
      "[8/100] 1 tree, 31 leaves, max depth = 8, train score: -373285.38559, val score: -372975.65378, in 0.041s\n",
      "[9/100] 1 tree, 31 leaves, max depth = 9, train score: -360124.75512, val score: -360499.63665, in 0.043s\n",
      "[10/100] 1 tree, 31 leaves, max depth = 8, train score: -348401.41787, val score: -349221.18932, in 0.043s\n",
      "[11/100] "
     ]
    },
    {
     "name": "stderr",
     "output_type": "stream",
     "text": [
      "C:\\Users\\Sony\\anaconda3\\lib\\site-packages\\sklearn\\base.py:451: UserWarning: X does not have valid feature names, but HistGradientBoostingRegressor was fitted with feature names\n",
      "  \"X does not have valid feature names, but\"\n",
      "C:\\Users\\Sony\\anaconda3\\lib\\site-packages\\sklearn\\base.py:451: UserWarning: X does not have valid feature names, but HistGradientBoostingRegressor was fitted with feature names\n",
      "  \"X does not have valid feature names, but\"\n",
      "C:\\Users\\Sony\\anaconda3\\lib\\site-packages\\sklearn\\base.py:451: UserWarning: X does not have valid feature names, but HistGradientBoostingRegressor was fitted with feature names\n",
      "  \"X does not have valid feature names, but\"\n",
      "C:\\Users\\Sony\\anaconda3\\lib\\site-packages\\sklearn\\base.py:451: UserWarning: X does not have valid feature names, but HistGradientBoostingRegressor was fitted with feature names\n",
      "  \"X does not have valid feature names, but\"\n",
      "C:\\Users\\Sony\\anaconda3\\lib\\site-packages\\sklearn\\base.py:451: UserWarning: X does not have valid feature names, but HistGradientBoostingRegressor was fitted with feature names\n",
      "  \"X does not have valid feature names, but\"\n",
      "C:\\Users\\Sony\\anaconda3\\lib\\site-packages\\sklearn\\base.py:451: UserWarning: X does not have valid feature names, but HistGradientBoostingRegressor was fitted with feature names\n",
      "  \"X does not have valid feature names, but\"\n",
      "C:\\Users\\Sony\\anaconda3\\lib\\site-packages\\sklearn\\base.py:451: UserWarning: X does not have valid feature names, but HistGradientBoostingRegressor was fitted with feature names\n",
      "  \"X does not have valid feature names, but\"\n",
      "C:\\Users\\Sony\\anaconda3\\lib\\site-packages\\sklearn\\base.py:451: UserWarning: X does not have valid feature names, but HistGradientBoostingRegressor was fitted with feature names\n",
      "  \"X does not have valid feature names, but\"\n",
      "C:\\Users\\Sony\\anaconda3\\lib\\site-packages\\sklearn\\base.py:451: UserWarning: X does not have valid feature names, but HistGradientBoostingRegressor was fitted with feature names\n",
      "  \"X does not have valid feature names, but\"\n",
      "C:\\Users\\Sony\\anaconda3\\lib\\site-packages\\sklearn\\base.py:451: UserWarning: X does not have valid feature names, but HistGradientBoostingRegressor was fitted with feature names\n",
      "  \"X does not have valid feature names, but\"\n",
      "C:\\Users\\Sony\\anaconda3\\lib\\site-packages\\sklearn\\base.py:451: UserWarning: X does not have valid feature names, but HistGradientBoostingRegressor was fitted with feature names\n",
      "  \"X does not have valid feature names, but\"\n"
     ]
    },
    {
     "name": "stdout",
     "output_type": "stream",
     "text": [
      "1 tree, 31 leaves, max depth = 9, train score: -338143.74752, val score: -340380.51852, in 0.047s\n",
      "[12/100] 1 tree, 31 leaves, max depth = 8, train score: -329406.37015, val score: -333179.35563, in 0.047s\n",
      "[13/100] 1 tree, 31 leaves, max depth = 11, train score: -320738.73592, val score: -325638.37326, in 0.049s\n",
      "[14/100] 1 tree, 31 leaves, max depth = 10, train score: -313410.57756, val score: -319192.74773, in 0.050s\n",
      "[15/100] "
     ]
    },
    {
     "name": "stderr",
     "output_type": "stream",
     "text": [
      "C:\\Users\\Sony\\anaconda3\\lib\\site-packages\\sklearn\\base.py:451: UserWarning: X does not have valid feature names, but HistGradientBoostingRegressor was fitted with feature names\n",
      "  \"X does not have valid feature names, but\"\n",
      "C:\\Users\\Sony\\anaconda3\\lib\\site-packages\\sklearn\\base.py:451: UserWarning: X does not have valid feature names, but HistGradientBoostingRegressor was fitted with feature names\n",
      "  \"X does not have valid feature names, but\"\n",
      "C:\\Users\\Sony\\anaconda3\\lib\\site-packages\\sklearn\\base.py:451: UserWarning: X does not have valid feature names, but HistGradientBoostingRegressor was fitted with feature names\n",
      "  \"X does not have valid feature names, but\"\n",
      "C:\\Users\\Sony\\anaconda3\\lib\\site-packages\\sklearn\\base.py:451: UserWarning: X does not have valid feature names, but HistGradientBoostingRegressor was fitted with feature names\n",
      "  \"X does not have valid feature names, but\"\n",
      "C:\\Users\\Sony\\anaconda3\\lib\\site-packages\\sklearn\\base.py:451: UserWarning: X does not have valid feature names, but HistGradientBoostingRegressor was fitted with feature names\n",
      "  \"X does not have valid feature names, but\"\n",
      "C:\\Users\\Sony\\anaconda3\\lib\\site-packages\\sklearn\\base.py:451: UserWarning: X does not have valid feature names, but HistGradientBoostingRegressor was fitted with feature names\n",
      "  \"X does not have valid feature names, but\"\n",
      "C:\\Users\\Sony\\anaconda3\\lib\\site-packages\\sklearn\\base.py:451: UserWarning: X does not have valid feature names, but HistGradientBoostingRegressor was fitted with feature names\n",
      "  \"X does not have valid feature names, but\"\n",
      "C:\\Users\\Sony\\anaconda3\\lib\\site-packages\\sklearn\\base.py:451: UserWarning: X does not have valid feature names, but HistGradientBoostingRegressor was fitted with feature names\n",
      "  \"X does not have valid feature names, but\"\n",
      "C:\\Users\\Sony\\anaconda3\\lib\\site-packages\\sklearn\\base.py:451: UserWarning: X does not have valid feature names, but HistGradientBoostingRegressor was fitted with feature names\n",
      "  \"X does not have valid feature names, but\"\n"
     ]
    },
    {
     "name": "stdout",
     "output_type": "stream",
     "text": [
      "1 tree, 31 leaves, max depth = 11, train score: -307251.57999, val score: -314934.52911, in 0.051s\n",
      "[16/100] 1 tree, 31 leaves, max depth = 10, train score: -302133.17862, val score: -311246.78011, in 0.050s\n",
      "[17/100] 1 tree, 31 leaves, max depth = 11, train score: -296991.12960, val score: -307005.80372, in 0.053s\n",
      "[18/100] 1 tree, 31 leaves, max depth = 9, train score: -291237.03128, val score: -302654.24169, in 0.057s\n",
      "[19/100] "
     ]
    },
    {
     "name": "stderr",
     "output_type": "stream",
     "text": [
      "C:\\Users\\Sony\\anaconda3\\lib\\site-packages\\sklearn\\base.py:451: UserWarning: X does not have valid feature names, but HistGradientBoostingRegressor was fitted with feature names\n",
      "  \"X does not have valid feature names, but\"\n",
      "C:\\Users\\Sony\\anaconda3\\lib\\site-packages\\sklearn\\base.py:451: UserWarning: X does not have valid feature names, but HistGradientBoostingRegressor was fitted with feature names\n",
      "  \"X does not have valid feature names, but\"\n",
      "C:\\Users\\Sony\\anaconda3\\lib\\site-packages\\sklearn\\base.py:451: UserWarning: X does not have valid feature names, but HistGradientBoostingRegressor was fitted with feature names\n",
      "  \"X does not have valid feature names, but\"\n",
      "C:\\Users\\Sony\\anaconda3\\lib\\site-packages\\sklearn\\base.py:451: UserWarning: X does not have valid feature names, but HistGradientBoostingRegressor was fitted with feature names\n",
      "  \"X does not have valid feature names, but\"\n",
      "C:\\Users\\Sony\\anaconda3\\lib\\site-packages\\sklearn\\base.py:451: UserWarning: X does not have valid feature names, but HistGradientBoostingRegressor was fitted with feature names\n",
      "  \"X does not have valid feature names, but\"\n",
      "C:\\Users\\Sony\\anaconda3\\lib\\site-packages\\sklearn\\base.py:451: UserWarning: X does not have valid feature names, but HistGradientBoostingRegressor was fitted with feature names\n",
      "  \"X does not have valid feature names, but\"\n",
      "C:\\Users\\Sony\\anaconda3\\lib\\site-packages\\sklearn\\base.py:451: UserWarning: X does not have valid feature names, but HistGradientBoostingRegressor was fitted with feature names\n",
      "  \"X does not have valid feature names, but\"\n",
      "C:\\Users\\Sony\\anaconda3\\lib\\site-packages\\sklearn\\base.py:451: UserWarning: X does not have valid feature names, but HistGradientBoostingRegressor was fitted with feature names\n",
      "  \"X does not have valid feature names, but\"\n"
     ]
    },
    {
     "name": "stdout",
     "output_type": "stream",
     "text": [
      "1 tree, 31 leaves, max depth = 9, train score: -286176.66527, val score: -299526.14679, in 0.055s\n",
      "[20/100] 1 tree, 31 leaves, max depth = 11, train score: -282111.43191, val score: -296351.07777, in 0.063s\n",
      "[21/100] 1 tree, 31 leaves, max depth = 11, train score: -278941.17548, val score: -294373.11775, in 0.064s\n",
      "[22/100] 1 tree, 31 leaves, max depth = 10, train score: -275873.47562, val score: -291807.76826, in 0.067s\n",
      "[23/100] "
     ]
    },
    {
     "name": "stderr",
     "output_type": "stream",
     "text": [
      "C:\\Users\\Sony\\anaconda3\\lib\\site-packages\\sklearn\\base.py:451: UserWarning: X does not have valid feature names, but HistGradientBoostingRegressor was fitted with feature names\n",
      "  \"X does not have valid feature names, but\"\n",
      "C:\\Users\\Sony\\anaconda3\\lib\\site-packages\\sklearn\\base.py:451: UserWarning: X does not have valid feature names, but HistGradientBoostingRegressor was fitted with feature names\n",
      "  \"X does not have valid feature names, but\"\n",
      "C:\\Users\\Sony\\anaconda3\\lib\\site-packages\\sklearn\\base.py:451: UserWarning: X does not have valid feature names, but HistGradientBoostingRegressor was fitted with feature names\n",
      "  \"X does not have valid feature names, but\"\n",
      "C:\\Users\\Sony\\anaconda3\\lib\\site-packages\\sklearn\\base.py:451: UserWarning: X does not have valid feature names, but HistGradientBoostingRegressor was fitted with feature names\n",
      "  \"X does not have valid feature names, but\"\n",
      "C:\\Users\\Sony\\anaconda3\\lib\\site-packages\\sklearn\\base.py:451: UserWarning: X does not have valid feature names, but HistGradientBoostingRegressor was fitted with feature names\n",
      "  \"X does not have valid feature names, but\"\n",
      "C:\\Users\\Sony\\anaconda3\\lib\\site-packages\\sklearn\\base.py:451: UserWarning: X does not have valid feature names, but HistGradientBoostingRegressor was fitted with feature names\n",
      "  \"X does not have valid feature names, but\"\n",
      "C:\\Users\\Sony\\anaconda3\\lib\\site-packages\\sklearn\\base.py:451: UserWarning: X does not have valid feature names, but HistGradientBoostingRegressor was fitted with feature names\n",
      "  \"X does not have valid feature names, but\"\n"
     ]
    },
    {
     "name": "stdout",
     "output_type": "stream",
     "text": [
      "1 tree, 31 leaves, max depth = 13, train score: -273662.78619, val score: -290256.70056, in 0.083s\n",
      "[24/100] 1 tree, 31 leaves, max depth = 14, train score: -270793.76531, val score: -287792.72261, in 0.052s\n",
      "[25/100] 1 tree, 31 leaves, max depth = 12, train score: -267767.50023, val score: -285017.58147, in 0.052s\n",
      "[26/100] "
     ]
    },
    {
     "name": "stderr",
     "output_type": "stream",
     "text": [
      "C:\\Users\\Sony\\anaconda3\\lib\\site-packages\\sklearn\\base.py:451: UserWarning: X does not have valid feature names, but HistGradientBoostingRegressor was fitted with feature names\n",
      "  \"X does not have valid feature names, but\"\n",
      "C:\\Users\\Sony\\anaconda3\\lib\\site-packages\\sklearn\\base.py:451: UserWarning: X does not have valid feature names, but HistGradientBoostingRegressor was fitted with feature names\n",
      "  \"X does not have valid feature names, but\"\n",
      "C:\\Users\\Sony\\anaconda3\\lib\\site-packages\\sklearn\\base.py:451: UserWarning: X does not have valid feature names, but HistGradientBoostingRegressor was fitted with feature names\n",
      "  \"X does not have valid feature names, but\"\n",
      "C:\\Users\\Sony\\anaconda3\\lib\\site-packages\\sklearn\\base.py:451: UserWarning: X does not have valid feature names, but HistGradientBoostingRegressor was fitted with feature names\n",
      "  \"X does not have valid feature names, but\"\n",
      "C:\\Users\\Sony\\anaconda3\\lib\\site-packages\\sklearn\\base.py:451: UserWarning: X does not have valid feature names, but HistGradientBoostingRegressor was fitted with feature names\n",
      "  \"X does not have valid feature names, but\"\n",
      "C:\\Users\\Sony\\anaconda3\\lib\\site-packages\\sklearn\\base.py:451: UserWarning: X does not have valid feature names, but HistGradientBoostingRegressor was fitted with feature names\n",
      "  \"X does not have valid feature names, but\"\n"
     ]
    },
    {
     "name": "stdout",
     "output_type": "stream",
     "text": [
      "1 tree, 31 leaves, max depth = 13, train score: -265162.48822, val score: -283091.07882, in 0.054s\n",
      "[27/100] 1 tree, 31 leaves, max depth = 12, train score: -263586.58605, val score: -281832.42913, in 0.058s\n",
      "[28/100] 1 tree, 31 leaves, max depth = 8, train score: -261146.98715, val score: -280531.38078, in 0.052s\n",
      "[29/100] 1 tree, 31 leaves, max depth = 10, train score: -259184.53240, val score: -279691.34044, in 0.054s\n",
      "[30/100] "
     ]
    },
    {
     "name": "stderr",
     "output_type": "stream",
     "text": [
      "C:\\Users\\Sony\\anaconda3\\lib\\site-packages\\sklearn\\base.py:451: UserWarning: X does not have valid feature names, but HistGradientBoostingRegressor was fitted with feature names\n",
      "  \"X does not have valid feature names, but\"\n",
      "C:\\Users\\Sony\\anaconda3\\lib\\site-packages\\sklearn\\base.py:451: UserWarning: X does not have valid feature names, but HistGradientBoostingRegressor was fitted with feature names\n",
      "  \"X does not have valid feature names, but\"\n",
      "C:\\Users\\Sony\\anaconda3\\lib\\site-packages\\sklearn\\base.py:451: UserWarning: X does not have valid feature names, but HistGradientBoostingRegressor was fitted with feature names\n",
      "  \"X does not have valid feature names, but\"\n",
      "C:\\Users\\Sony\\anaconda3\\lib\\site-packages\\sklearn\\base.py:451: UserWarning: X does not have valid feature names, but HistGradientBoostingRegressor was fitted with feature names\n",
      "  \"X does not have valid feature names, but\"\n",
      "C:\\Users\\Sony\\anaconda3\\lib\\site-packages\\sklearn\\base.py:451: UserWarning: X does not have valid feature names, but HistGradientBoostingRegressor was fitted with feature names\n",
      "  \"X does not have valid feature names, but\"\n",
      "C:\\Users\\Sony\\anaconda3\\lib\\site-packages\\sklearn\\base.py:451: UserWarning: X does not have valid feature names, but HistGradientBoostingRegressor was fitted with feature names\n",
      "  \"X does not have valid feature names, but\"\n",
      "C:\\Users\\Sony\\anaconda3\\lib\\site-packages\\sklearn\\base.py:451: UserWarning: X does not have valid feature names, but HistGradientBoostingRegressor was fitted with feature names\n",
      "  \"X does not have valid feature names, but\"\n",
      "C:\\Users\\Sony\\anaconda3\\lib\\site-packages\\sklearn\\base.py:451: UserWarning: X does not have valid feature names, but HistGradientBoostingRegressor was fitted with feature names\n",
      "  \"X does not have valid feature names, but\"\n"
     ]
    },
    {
     "name": "stdout",
     "output_type": "stream",
     "text": [
      "1 tree, 31 leaves, max depth = 10, train score: -256841.87539, val score: -277767.45258, in 0.063s\n",
      "[31/100] 1 tree, 31 leaves, max depth = 9, train score: -255213.72956, val score: -277061.97299, in 0.063s\n",
      "[32/100] 1 tree, 31 leaves, max depth = 10, train score: -253515.64389, val score: -275731.07513, in 0.054s\n",
      "[33/100] "
     ]
    },
    {
     "name": "stderr",
     "output_type": "stream",
     "text": [
      "C:\\Users\\Sony\\anaconda3\\lib\\site-packages\\sklearn\\base.py:451: UserWarning: X does not have valid feature names, but HistGradientBoostingRegressor was fitted with feature names\n",
      "  \"X does not have valid feature names, but\"\n",
      "C:\\Users\\Sony\\anaconda3\\lib\\site-packages\\sklearn\\base.py:451: UserWarning: X does not have valid feature names, but HistGradientBoostingRegressor was fitted with feature names\n",
      "  \"X does not have valid feature names, but\"\n",
      "C:\\Users\\Sony\\anaconda3\\lib\\site-packages\\sklearn\\base.py:451: UserWarning: X does not have valid feature names, but HistGradientBoostingRegressor was fitted with feature names\n",
      "  \"X does not have valid feature names, but\"\n",
      "C:\\Users\\Sony\\anaconda3\\lib\\site-packages\\sklearn\\base.py:451: UserWarning: X does not have valid feature names, but HistGradientBoostingRegressor was fitted with feature names\n",
      "  \"X does not have valid feature names, but\"\n",
      "C:\\Users\\Sony\\anaconda3\\lib\\site-packages\\sklearn\\base.py:451: UserWarning: X does not have valid feature names, but HistGradientBoostingRegressor was fitted with feature names\n",
      "  \"X does not have valid feature names, but\"\n",
      "C:\\Users\\Sony\\anaconda3\\lib\\site-packages\\sklearn\\base.py:451: UserWarning: X does not have valid feature names, but HistGradientBoostingRegressor was fitted with feature names\n",
      "  \"X does not have valid feature names, but\"\n",
      "C:\\Users\\Sony\\anaconda3\\lib\\site-packages\\sklearn\\base.py:451: UserWarning: X does not have valid feature names, but HistGradientBoostingRegressor was fitted with feature names\n",
      "  \"X does not have valid feature names, but\"\n"
     ]
    },
    {
     "name": "stdout",
     "output_type": "stream",
     "text": [
      "1 tree, 31 leaves, max depth = 10, train score: -252098.14377, val score: -274551.52791, in 0.068s\n",
      "[34/100] 1 tree, 31 leaves, max depth = 13, train score: -250786.48464, val score: -273517.08181, in 0.073s\n",
      "[35/100] 1 tree, 31 leaves, max depth = 10, train score: -249240.88714, val score: -272634.35380, in 0.063s\n",
      "[36/100] 1 tree, 31 leaves, max depth = 10, train score: -247261.09142, val score: -271930.12741, in 0.067s\n",
      "[37/100] "
     ]
    },
    {
     "name": "stderr",
     "output_type": "stream",
     "text": [
      "C:\\Users\\Sony\\anaconda3\\lib\\site-packages\\sklearn\\base.py:451: UserWarning: X does not have valid feature names, but HistGradientBoostingRegressor was fitted with feature names\n",
      "  \"X does not have valid feature names, but\"\n",
      "C:\\Users\\Sony\\anaconda3\\lib\\site-packages\\sklearn\\base.py:451: UserWarning: X does not have valid feature names, but HistGradientBoostingRegressor was fitted with feature names\n",
      "  \"X does not have valid feature names, but\"\n",
      "C:\\Users\\Sony\\anaconda3\\lib\\site-packages\\sklearn\\base.py:451: UserWarning: X does not have valid feature names, but HistGradientBoostingRegressor was fitted with feature names\n",
      "  \"X does not have valid feature names, but\"\n",
      "C:\\Users\\Sony\\anaconda3\\lib\\site-packages\\sklearn\\base.py:451: UserWarning: X does not have valid feature names, but HistGradientBoostingRegressor was fitted with feature names\n",
      "  \"X does not have valid feature names, but\"\n",
      "C:\\Users\\Sony\\anaconda3\\lib\\site-packages\\sklearn\\base.py:451: UserWarning: X does not have valid feature names, but HistGradientBoostingRegressor was fitted with feature names\n",
      "  \"X does not have valid feature names, but\"\n",
      "C:\\Users\\Sony\\anaconda3\\lib\\site-packages\\sklearn\\base.py:451: UserWarning: X does not have valid feature names, but HistGradientBoostingRegressor was fitted with feature names\n",
      "  \"X does not have valid feature names, but\"\n",
      "C:\\Users\\Sony\\anaconda3\\lib\\site-packages\\sklearn\\base.py:451: UserWarning: X does not have valid feature names, but HistGradientBoostingRegressor was fitted with feature names\n",
      "  \"X does not have valid feature names, but\"\n"
     ]
    },
    {
     "name": "stdout",
     "output_type": "stream",
     "text": [
      "1 tree, 31 leaves, max depth = 11, train score: -245292.41702, val score: -271033.59519, in 0.071s\n",
      "[38/100] 1 tree, 31 leaves, max depth = 12, train score: -243508.29798, val score: -270057.32425, in 0.066s\n",
      "[39/100] 1 tree, 31 leaves, max depth = 16, train score: -241980.59286, val score: -269198.16417, in 0.065s\n",
      "[40/100] "
     ]
    },
    {
     "name": "stderr",
     "output_type": "stream",
     "text": [
      "C:\\Users\\Sony\\anaconda3\\lib\\site-packages\\sklearn\\base.py:451: UserWarning: X does not have valid feature names, but HistGradientBoostingRegressor was fitted with feature names\n",
      "  \"X does not have valid feature names, but\"\n",
      "C:\\Users\\Sony\\anaconda3\\lib\\site-packages\\sklearn\\base.py:451: UserWarning: X does not have valid feature names, but HistGradientBoostingRegressor was fitted with feature names\n",
      "  \"X does not have valid feature names, but\"\n",
      "C:\\Users\\Sony\\anaconda3\\lib\\site-packages\\sklearn\\base.py:451: UserWarning: X does not have valid feature names, but HistGradientBoostingRegressor was fitted with feature names\n",
      "  \"X does not have valid feature names, but\"\n",
      "C:\\Users\\Sony\\anaconda3\\lib\\site-packages\\sklearn\\base.py:451: UserWarning: X does not have valid feature names, but HistGradientBoostingRegressor was fitted with feature names\n",
      "  \"X does not have valid feature names, but\"\n",
      "C:\\Users\\Sony\\anaconda3\\lib\\site-packages\\sklearn\\base.py:451: UserWarning: X does not have valid feature names, but HistGradientBoostingRegressor was fitted with feature names\n",
      "  \"X does not have valid feature names, but\"\n",
      "C:\\Users\\Sony\\anaconda3\\lib\\site-packages\\sklearn\\base.py:451: UserWarning: X does not have valid feature names, but HistGradientBoostingRegressor was fitted with feature names\n",
      "  \"X does not have valid feature names, but\"\n"
     ]
    },
    {
     "name": "stdout",
     "output_type": "stream",
     "text": [
      "1 tree, 31 leaves, max depth = 11, train score: -240488.06498, val score: -268883.48388, in 0.105s\n",
      "[41/100] 1 tree, 31 leaves, max depth = 10, train score: -239513.35496, val score: -267805.57530, in 0.073s\n",
      "[42/100] 1 tree, 31 leaves, max depth = 10, train score: -238336.90132, val score: -267141.71146, in 0.063s\n",
      "[43/100] "
     ]
    },
    {
     "name": "stderr",
     "output_type": "stream",
     "text": [
      "C:\\Users\\Sony\\anaconda3\\lib\\site-packages\\sklearn\\base.py:451: UserWarning: X does not have valid feature names, but HistGradientBoostingRegressor was fitted with feature names\n",
      "  \"X does not have valid feature names, but\"\n",
      "C:\\Users\\Sony\\anaconda3\\lib\\site-packages\\sklearn\\base.py:451: UserWarning: X does not have valid feature names, but HistGradientBoostingRegressor was fitted with feature names\n",
      "  \"X does not have valid feature names, but\"\n",
      "C:\\Users\\Sony\\anaconda3\\lib\\site-packages\\sklearn\\base.py:451: UserWarning: X does not have valid feature names, but HistGradientBoostingRegressor was fitted with feature names\n",
      "  \"X does not have valid feature names, but\"\n",
      "C:\\Users\\Sony\\anaconda3\\lib\\site-packages\\sklearn\\base.py:451: UserWarning: X does not have valid feature names, but HistGradientBoostingRegressor was fitted with feature names\n",
      "  \"X does not have valid feature names, but\"\n",
      "C:\\Users\\Sony\\anaconda3\\lib\\site-packages\\sklearn\\base.py:451: UserWarning: X does not have valid feature names, but HistGradientBoostingRegressor was fitted with feature names\n",
      "  \"X does not have valid feature names, but\"\n"
     ]
    },
    {
     "name": "stdout",
     "output_type": "stream",
     "text": [
      "1 tree, 31 leaves, max depth = 12, train score: -237073.39874, val score: -266803.55549, in 0.070s\n",
      "[44/100] 1 tree, 31 leaves, max depth = 11, train score: -235965.44392, val score: -266097.25712, in 0.068s\n",
      "[45/100] 1 tree, 31 leaves, max depth = 13, train score: -235252.77605, val score: -264676.36498, in 0.068s\n",
      "[46/100] "
     ]
    },
    {
     "name": "stderr",
     "output_type": "stream",
     "text": [
      "C:\\Users\\Sony\\anaconda3\\lib\\site-packages\\sklearn\\base.py:451: UserWarning: X does not have valid feature names, but HistGradientBoostingRegressor was fitted with feature names\n",
      "  \"X does not have valid feature names, but\"\n",
      "C:\\Users\\Sony\\anaconda3\\lib\\site-packages\\sklearn\\base.py:451: UserWarning: X does not have valid feature names, but HistGradientBoostingRegressor was fitted with feature names\n",
      "  \"X does not have valid feature names, but\"\n",
      "C:\\Users\\Sony\\anaconda3\\lib\\site-packages\\sklearn\\base.py:451: UserWarning: X does not have valid feature names, but HistGradientBoostingRegressor was fitted with feature names\n",
      "  \"X does not have valid feature names, but\"\n",
      "C:\\Users\\Sony\\anaconda3\\lib\\site-packages\\sklearn\\base.py:451: UserWarning: X does not have valid feature names, but HistGradientBoostingRegressor was fitted with feature names\n",
      "  \"X does not have valid feature names, but\"\n",
      "C:\\Users\\Sony\\anaconda3\\lib\\site-packages\\sklearn\\base.py:451: UserWarning: X does not have valid feature names, but HistGradientBoostingRegressor was fitted with feature names\n",
      "  \"X does not have valid feature names, but\"\n",
      "C:\\Users\\Sony\\anaconda3\\lib\\site-packages\\sklearn\\base.py:451: UserWarning: X does not have valid feature names, but HistGradientBoostingRegressor was fitted with feature names\n",
      "  \"X does not have valid feature names, but\"\n"
     ]
    },
    {
     "name": "stdout",
     "output_type": "stream",
     "text": [
      "1 tree, 31 leaves, max depth = 12, train score: -234769.26393, val score: -263970.08285, in 0.072s\n",
      "[47/100] 1 tree, 31 leaves, max depth = 12, train score: -234064.49050, val score: -264033.59183, in 0.069s\n",
      "[48/100] 1 tree, 31 leaves, max depth = 12, train score: -233092.86131, val score: -264070.65900, in 0.068s\n",
      "[49/100] "
     ]
    },
    {
     "name": "stderr",
     "output_type": "stream",
     "text": [
      "C:\\Users\\Sony\\anaconda3\\lib\\site-packages\\sklearn\\base.py:451: UserWarning: X does not have valid feature names, but HistGradientBoostingRegressor was fitted with feature names\n",
      "  \"X does not have valid feature names, but\"\n",
      "C:\\Users\\Sony\\anaconda3\\lib\\site-packages\\sklearn\\base.py:451: UserWarning: X does not have valid feature names, but HistGradientBoostingRegressor was fitted with feature names\n",
      "  \"X does not have valid feature names, but\"\n",
      "C:\\Users\\Sony\\anaconda3\\lib\\site-packages\\sklearn\\base.py:451: UserWarning: X does not have valid feature names, but HistGradientBoostingRegressor was fitted with feature names\n",
      "  \"X does not have valid feature names, but\"\n",
      "C:\\Users\\Sony\\anaconda3\\lib\\site-packages\\sklearn\\base.py:451: UserWarning: X does not have valid feature names, but HistGradientBoostingRegressor was fitted with feature names\n",
      "  \"X does not have valid feature names, but\"\n",
      "C:\\Users\\Sony\\anaconda3\\lib\\site-packages\\sklearn\\base.py:451: UserWarning: X does not have valid feature names, but HistGradientBoostingRegressor was fitted with feature names\n",
      "  \"X does not have valid feature names, but\"\n",
      "C:\\Users\\Sony\\anaconda3\\lib\\site-packages\\sklearn\\base.py:451: UserWarning: X does not have valid feature names, but HistGradientBoostingRegressor was fitted with feature names\n",
      "  \"X does not have valid feature names, but\"\n"
     ]
    },
    {
     "name": "stdout",
     "output_type": "stream",
     "text": [
      "1 tree, 31 leaves, max depth = 13, train score: -232001.37845, val score: -263428.10127, in 0.088s\n",
      "[50/100] 1 tree, 31 leaves, max depth = 14, train score: -231146.16421, val score: -262611.22112, in 0.077s\n",
      "[51/100] "
     ]
    },
    {
     "name": "stderr",
     "output_type": "stream",
     "text": [
      "C:\\Users\\Sony\\anaconda3\\lib\\site-packages\\sklearn\\base.py:451: UserWarning: X does not have valid feature names, but HistGradientBoostingRegressor was fitted with feature names\n",
      "  \"X does not have valid feature names, but\"\n",
      "C:\\Users\\Sony\\anaconda3\\lib\\site-packages\\sklearn\\base.py:451: UserWarning: X does not have valid feature names, but HistGradientBoostingRegressor was fitted with feature names\n",
      "  \"X does not have valid feature names, but\"\n",
      "C:\\Users\\Sony\\anaconda3\\lib\\site-packages\\sklearn\\base.py:451: UserWarning: X does not have valid feature names, but HistGradientBoostingRegressor was fitted with feature names\n",
      "  \"X does not have valid feature names, but\"\n",
      "C:\\Users\\Sony\\anaconda3\\lib\\site-packages\\sklearn\\base.py:451: UserWarning: X does not have valid feature names, but HistGradientBoostingRegressor was fitted with feature names\n",
      "  \"X does not have valid feature names, but\"\n",
      "C:\\Users\\Sony\\anaconda3\\lib\\site-packages\\sklearn\\base.py:451: UserWarning: X does not have valid feature names, but HistGradientBoostingRegressor was fitted with feature names\n",
      "  \"X does not have valid feature names, but\"\n",
      "C:\\Users\\Sony\\anaconda3\\lib\\site-packages\\sklearn\\base.py:451: UserWarning: X does not have valid feature names, but HistGradientBoostingRegressor was fitted with feature names\n",
      "  \"X does not have valid feature names, but\"\n"
     ]
    },
    {
     "name": "stdout",
     "output_type": "stream",
     "text": [
      "1 tree, 31 leaves, max depth = 13, train score: -230968.71039, val score: -262614.52057, in 0.076s\n",
      "[52/100] 1 tree, 31 leaves, max depth = 16, train score: -230675.78367, val score: -262826.91476, in 0.081s\n",
      "[53/100] 1 tree, 31 leaves, max depth = 11, train score: -229871.64179, val score: -261892.50286, in 0.079s\n",
      "[54/100] "
     ]
    },
    {
     "name": "stderr",
     "output_type": "stream",
     "text": [
      "C:\\Users\\Sony\\anaconda3\\lib\\site-packages\\sklearn\\base.py:451: UserWarning: X does not have valid feature names, but HistGradientBoostingRegressor was fitted with feature names\n",
      "  \"X does not have valid feature names, but\"\n",
      "C:\\Users\\Sony\\anaconda3\\lib\\site-packages\\sklearn\\base.py:451: UserWarning: X does not have valid feature names, but HistGradientBoostingRegressor was fitted with feature names\n",
      "  \"X does not have valid feature names, but\"\n",
      "C:\\Users\\Sony\\anaconda3\\lib\\site-packages\\sklearn\\base.py:451: UserWarning: X does not have valid feature names, but HistGradientBoostingRegressor was fitted with feature names\n",
      "  \"X does not have valid feature names, but\"\n",
      "C:\\Users\\Sony\\anaconda3\\lib\\site-packages\\sklearn\\base.py:451: UserWarning: X does not have valid feature names, but HistGradientBoostingRegressor was fitted with feature names\n",
      "  \"X does not have valid feature names, but\"\n",
      "C:\\Users\\Sony\\anaconda3\\lib\\site-packages\\sklearn\\base.py:451: UserWarning: X does not have valid feature names, but HistGradientBoostingRegressor was fitted with feature names\n",
      "  \"X does not have valid feature names, but\"\n"
     ]
    },
    {
     "name": "stdout",
     "output_type": "stream",
     "text": [
      "1 tree, 31 leaves, max depth = 15, train score: -229560.76726, val score: -261583.97293, in 0.077s\n",
      "[55/100] 1 tree, 31 leaves, max depth = 10, train score: -228801.71564, val score: -261140.01161, in 0.081s\n",
      "[56/100] 1 tree, 31 leaves, max depth = 12, train score: -228265.23246, val score: -260520.59763, in 0.076s\n",
      "[57/100] "
     ]
    },
    {
     "name": "stderr",
     "output_type": "stream",
     "text": [
      "C:\\Users\\Sony\\anaconda3\\lib\\site-packages\\sklearn\\base.py:451: UserWarning: X does not have valid feature names, but HistGradientBoostingRegressor was fitted with feature names\n",
      "  \"X does not have valid feature names, but\"\n",
      "C:\\Users\\Sony\\anaconda3\\lib\\site-packages\\sklearn\\base.py:451: UserWarning: X does not have valid feature names, but HistGradientBoostingRegressor was fitted with feature names\n",
      "  \"X does not have valid feature names, but\"\n",
      "C:\\Users\\Sony\\anaconda3\\lib\\site-packages\\sklearn\\base.py:451: UserWarning: X does not have valid feature names, but HistGradientBoostingRegressor was fitted with feature names\n",
      "  \"X does not have valid feature names, but\"\n",
      "C:\\Users\\Sony\\anaconda3\\lib\\site-packages\\sklearn\\base.py:451: UserWarning: X does not have valid feature names, but HistGradientBoostingRegressor was fitted with feature names\n",
      "  \"X does not have valid feature names, but\"\n",
      "C:\\Users\\Sony\\anaconda3\\lib\\site-packages\\sklearn\\base.py:451: UserWarning: X does not have valid feature names, but HistGradientBoostingRegressor was fitted with feature names\n",
      "  \"X does not have valid feature names, but\"\n"
     ]
    },
    {
     "name": "stdout",
     "output_type": "stream",
     "text": [
      "1 tree, 31 leaves, max depth = 13, train score: -227445.50103, val score: -259190.18355, in 0.089s\n",
      "[58/100] 1 tree, 31 leaves, max depth = 12, train score: -226853.03257, val score: -258650.05779, in 0.080s\n",
      "[59/100] "
     ]
    },
    {
     "name": "stderr",
     "output_type": "stream",
     "text": [
      "C:\\Users\\Sony\\anaconda3\\lib\\site-packages\\sklearn\\base.py:451: UserWarning: X does not have valid feature names, but HistGradientBoostingRegressor was fitted with feature names\n",
      "  \"X does not have valid feature names, but\"\n",
      "C:\\Users\\Sony\\anaconda3\\lib\\site-packages\\sklearn\\base.py:451: UserWarning: X does not have valid feature names, but HistGradientBoostingRegressor was fitted with feature names\n",
      "  \"X does not have valid feature names, but\"\n",
      "C:\\Users\\Sony\\anaconda3\\lib\\site-packages\\sklearn\\base.py:451: UserWarning: X does not have valid feature names, but HistGradientBoostingRegressor was fitted with feature names\n",
      "  \"X does not have valid feature names, but\"\n",
      "C:\\Users\\Sony\\anaconda3\\lib\\site-packages\\sklearn\\base.py:451: UserWarning: X does not have valid feature names, but HistGradientBoostingRegressor was fitted with feature names\n",
      "  \"X does not have valid feature names, but\"\n",
      "C:\\Users\\Sony\\anaconda3\\lib\\site-packages\\sklearn\\base.py:451: UserWarning: X does not have valid feature names, but HistGradientBoostingRegressor was fitted with feature names\n",
      "  \"X does not have valid feature names, but\"\n",
      "C:\\Users\\Sony\\anaconda3\\lib\\site-packages\\sklearn\\base.py:451: UserWarning: X does not have valid feature names, but HistGradientBoostingRegressor was fitted with feature names\n",
      "  \"X does not have valid feature names, but\"\n"
     ]
    },
    {
     "name": "stdout",
     "output_type": "stream",
     "text": [
      "1 tree, 31 leaves, max depth = 12, train score: -226410.04342, val score: -258509.27848, in 0.094s\n",
      "[60/100] 1 tree, 31 leaves, max depth = 12, train score: -226013.44878, val score: -258500.73869, in 0.078s\n",
      "[61/100] 1 tree, 31 leaves, max depth = 14, train score: -225579.66064, val score: -257205.87570, in 0.080s\n",
      "[62/100] "
     ]
    },
    {
     "name": "stderr",
     "output_type": "stream",
     "text": [
      "C:\\Users\\Sony\\anaconda3\\lib\\site-packages\\sklearn\\base.py:451: UserWarning: X does not have valid feature names, but HistGradientBoostingRegressor was fitted with feature names\n",
      "  \"X does not have valid feature names, but\"\n",
      "C:\\Users\\Sony\\anaconda3\\lib\\site-packages\\sklearn\\base.py:451: UserWarning: X does not have valid feature names, but HistGradientBoostingRegressor was fitted with feature names\n",
      "  \"X does not have valid feature names, but\"\n",
      "C:\\Users\\Sony\\anaconda3\\lib\\site-packages\\sklearn\\base.py:451: UserWarning: X does not have valid feature names, but HistGradientBoostingRegressor was fitted with feature names\n",
      "  \"X does not have valid feature names, but\"\n",
      "C:\\Users\\Sony\\anaconda3\\lib\\site-packages\\sklearn\\base.py:451: UserWarning: X does not have valid feature names, but HistGradientBoostingRegressor was fitted with feature names\n",
      "  \"X does not have valid feature names, but\"\n",
      "C:\\Users\\Sony\\anaconda3\\lib\\site-packages\\sklearn\\base.py:451: UserWarning: X does not have valid feature names, but HistGradientBoostingRegressor was fitted with feature names\n",
      "  \"X does not have valid feature names, but\"\n",
      "C:\\Users\\Sony\\anaconda3\\lib\\site-packages\\sklearn\\base.py:451: UserWarning: X does not have valid feature names, but HistGradientBoostingRegressor was fitted with feature names\n",
      "  \"X does not have valid feature names, but\"\n"
     ]
    },
    {
     "name": "stdout",
     "output_type": "stream",
     "text": [
      "1 tree, 31 leaves, max depth = 12, train score: -225087.07574, val score: -256882.01500, in 0.090s\n",
      "[63/100] 1 tree, 31 leaves, max depth = 12, train score: -224852.70788, val score: -256978.06600, in 0.088s\n",
      "[64/100] 1 tree, 31 leaves, max depth = 11, train score: -224438.98809, val score: -256560.04049, in 0.080s\n",
      "[65/100] "
     ]
    },
    {
     "name": "stderr",
     "output_type": "stream",
     "text": [
      "C:\\Users\\Sony\\anaconda3\\lib\\site-packages\\sklearn\\base.py:451: UserWarning: X does not have valid feature names, but HistGradientBoostingRegressor was fitted with feature names\n",
      "  \"X does not have valid feature names, but\"\n",
      "C:\\Users\\Sony\\anaconda3\\lib\\site-packages\\sklearn\\base.py:451: UserWarning: X does not have valid feature names, but HistGradientBoostingRegressor was fitted with feature names\n",
      "  \"X does not have valid feature names, but\"\n",
      "C:\\Users\\Sony\\anaconda3\\lib\\site-packages\\sklearn\\base.py:451: UserWarning: X does not have valid feature names, but HistGradientBoostingRegressor was fitted with feature names\n",
      "  \"X does not have valid feature names, but\"\n",
      "C:\\Users\\Sony\\anaconda3\\lib\\site-packages\\sklearn\\base.py:451: UserWarning: X does not have valid feature names, but HistGradientBoostingRegressor was fitted with feature names\n",
      "  \"X does not have valid feature names, but\"\n",
      "C:\\Users\\Sony\\anaconda3\\lib\\site-packages\\sklearn\\base.py:451: UserWarning: X does not have valid feature names, but HistGradientBoostingRegressor was fitted with feature names\n",
      "  \"X does not have valid feature names, but\"\n",
      "C:\\Users\\Sony\\anaconda3\\lib\\site-packages\\sklearn\\base.py:451: UserWarning: X does not have valid feature names, but HistGradientBoostingRegressor was fitted with feature names\n",
      "  \"X does not have valid feature names, but\"\n"
     ]
    },
    {
     "name": "stdout",
     "output_type": "stream",
     "text": [
      "1 tree, 31 leaves, max depth = 12, train score: -224079.11086, val score: -256357.33722, in 0.091s\n",
      "[66/100] 1 tree, 31 leaves, max depth = 13, train score: -223423.54972, val score: -255999.27886, in 0.089s\n",
      "[67/100] 1 tree, 31 leaves, max depth = 13, train score: -222805.15712, val score: -255932.87878, in 0.081s\n",
      "[68/100] "
     ]
    },
    {
     "name": "stderr",
     "output_type": "stream",
     "text": [
      "C:\\Users\\Sony\\anaconda3\\lib\\site-packages\\sklearn\\base.py:451: UserWarning: X does not have valid feature names, but HistGradientBoostingRegressor was fitted with feature names\n",
      "  \"X does not have valid feature names, but\"\n",
      "C:\\Users\\Sony\\anaconda3\\lib\\site-packages\\sklearn\\base.py:451: UserWarning: X does not have valid feature names, but HistGradientBoostingRegressor was fitted with feature names\n",
      "  \"X does not have valid feature names, but\"\n",
      "C:\\Users\\Sony\\anaconda3\\lib\\site-packages\\sklearn\\base.py:451: UserWarning: X does not have valid feature names, but HistGradientBoostingRegressor was fitted with feature names\n",
      "  \"X does not have valid feature names, but\"\n",
      "C:\\Users\\Sony\\anaconda3\\lib\\site-packages\\sklearn\\base.py:451: UserWarning: X does not have valid feature names, but HistGradientBoostingRegressor was fitted with feature names\n",
      "  \"X does not have valid feature names, but\"\n",
      "C:\\Users\\Sony\\anaconda3\\lib\\site-packages\\sklearn\\base.py:451: UserWarning: X does not have valid feature names, but HistGradientBoostingRegressor was fitted with feature names\n",
      "  \"X does not have valid feature names, but\"\n"
     ]
    },
    {
     "name": "stdout",
     "output_type": "stream",
     "text": [
      "1 tree, 31 leaves, max depth = 13, train score: -222227.48085, val score: -255201.67193, in 0.096s\n",
      "[69/100] 1 tree, 31 leaves, max depth = 16, train score: -221707.76306, val score: -254682.67120, in 0.086s\n",
      "[70/100] "
     ]
    },
    {
     "name": "stderr",
     "output_type": "stream",
     "text": [
      "C:\\Users\\Sony\\anaconda3\\lib\\site-packages\\sklearn\\base.py:451: UserWarning: X does not have valid feature names, but HistGradientBoostingRegressor was fitted with feature names\n",
      "  \"X does not have valid feature names, but\"\n",
      "C:\\Users\\Sony\\anaconda3\\lib\\site-packages\\sklearn\\base.py:451: UserWarning: X does not have valid feature names, but HistGradientBoostingRegressor was fitted with feature names\n",
      "  \"X does not have valid feature names, but\"\n",
      "C:\\Users\\Sony\\anaconda3\\lib\\site-packages\\sklearn\\base.py:451: UserWarning: X does not have valid feature names, but HistGradientBoostingRegressor was fitted with feature names\n",
      "  \"X does not have valid feature names, but\"\n",
      "C:\\Users\\Sony\\anaconda3\\lib\\site-packages\\sklearn\\base.py:451: UserWarning: X does not have valid feature names, but HistGradientBoostingRegressor was fitted with feature names\n",
      "  \"X does not have valid feature names, but\"\n",
      "C:\\Users\\Sony\\anaconda3\\lib\\site-packages\\sklearn\\base.py:451: UserWarning: X does not have valid feature names, but HistGradientBoostingRegressor was fitted with feature names\n",
      "  \"X does not have valid feature names, but\"\n"
     ]
    },
    {
     "name": "stdout",
     "output_type": "stream",
     "text": [
      "1 tree, 31 leaves, max depth = 11, train score: -221493.22742, val score: -254746.37830, in 0.091s\n",
      "[71/100] 1 tree, 31 leaves, max depth = 15, train score: -220943.56652, val score: -254481.25020, in 0.109s\n",
      "[72/100] 1 tree, 31 leaves, max depth = 10, train score: -220310.06362, val score: -254056.91433, in 0.088s\n",
      "[73/100] "
     ]
    },
    {
     "name": "stderr",
     "output_type": "stream",
     "text": [
      "C:\\Users\\Sony\\anaconda3\\lib\\site-packages\\sklearn\\base.py:451: UserWarning: X does not have valid feature names, but HistGradientBoostingRegressor was fitted with feature names\n",
      "  \"X does not have valid feature names, but\"\n",
      "C:\\Users\\Sony\\anaconda3\\lib\\site-packages\\sklearn\\base.py:451: UserWarning: X does not have valid feature names, but HistGradientBoostingRegressor was fitted with feature names\n",
      "  \"X does not have valid feature names, but\"\n",
      "C:\\Users\\Sony\\anaconda3\\lib\\site-packages\\sklearn\\base.py:451: UserWarning: X does not have valid feature names, but HistGradientBoostingRegressor was fitted with feature names\n",
      "  \"X does not have valid feature names, but\"\n",
      "C:\\Users\\Sony\\anaconda3\\lib\\site-packages\\sklearn\\base.py:451: UserWarning: X does not have valid feature names, but HistGradientBoostingRegressor was fitted with feature names\n",
      "  \"X does not have valid feature names, but\"\n",
      "C:\\Users\\Sony\\anaconda3\\lib\\site-packages\\sklearn\\base.py:451: UserWarning: X does not have valid feature names, but HistGradientBoostingRegressor was fitted with feature names\n",
      "  \"X does not have valid feature names, but\"\n"
     ]
    },
    {
     "name": "stdout",
     "output_type": "stream",
     "text": [
      "1 tree, 31 leaves, max depth = 12, train score: -219693.37508, val score: -253799.14800, in 0.105s\n",
      "[74/100] 1 tree, 31 leaves, max depth = 10, train score: -219557.01138, val score: -252826.52031, in 0.089s\n",
      "[75/100] 1 tree, 31 leaves, max depth = 12, train score: -219191.37754, val score: -252663.83909, in 0.090s\n",
      "[76/100] "
     ]
    },
    {
     "name": "stderr",
     "output_type": "stream",
     "text": [
      "C:\\Users\\Sony\\anaconda3\\lib\\site-packages\\sklearn\\base.py:451: UserWarning: X does not have valid feature names, but HistGradientBoostingRegressor was fitted with feature names\n",
      "  \"X does not have valid feature names, but\"\n",
      "C:\\Users\\Sony\\anaconda3\\lib\\site-packages\\sklearn\\base.py:451: UserWarning: X does not have valid feature names, but HistGradientBoostingRegressor was fitted with feature names\n",
      "  \"X does not have valid feature names, but\"\n",
      "C:\\Users\\Sony\\anaconda3\\lib\\site-packages\\sklearn\\base.py:451: UserWarning: X does not have valid feature names, but HistGradientBoostingRegressor was fitted with feature names\n",
      "  \"X does not have valid feature names, but\"\n",
      "C:\\Users\\Sony\\anaconda3\\lib\\site-packages\\sklearn\\base.py:451: UserWarning: X does not have valid feature names, but HistGradientBoostingRegressor was fitted with feature names\n",
      "  \"X does not have valid feature names, but\"\n",
      "C:\\Users\\Sony\\anaconda3\\lib\\site-packages\\sklearn\\base.py:451: UserWarning: X does not have valid feature names, but HistGradientBoostingRegressor was fitted with feature names\n",
      "  \"X does not have valid feature names, but\"\n"
     ]
    },
    {
     "name": "stdout",
     "output_type": "stream",
     "text": [
      "1 tree, 31 leaves, max depth = 13, train score: -218800.52474, val score: -252577.58899, in 0.109s\n",
      "[77/100] 1 tree, 31 leaves, max depth = 12, train score: -218293.61508, val score: -252432.41705, in 0.090s\n",
      "[78/100] "
     ]
    },
    {
     "name": "stderr",
     "output_type": "stream",
     "text": [
      "C:\\Users\\Sony\\anaconda3\\lib\\site-packages\\sklearn\\base.py:451: UserWarning: X does not have valid feature names, but HistGradientBoostingRegressor was fitted with feature names\n",
      "  \"X does not have valid feature names, but\"\n",
      "C:\\Users\\Sony\\anaconda3\\lib\\site-packages\\sklearn\\base.py:451: UserWarning: X does not have valid feature names, but HistGradientBoostingRegressor was fitted with feature names\n",
      "  \"X does not have valid feature names, but\"\n",
      "C:\\Users\\Sony\\anaconda3\\lib\\site-packages\\sklearn\\base.py:451: UserWarning: X does not have valid feature names, but HistGradientBoostingRegressor was fitted with feature names\n",
      "  \"X does not have valid feature names, but\"\n",
      "C:\\Users\\Sony\\anaconda3\\lib\\site-packages\\sklearn\\base.py:451: UserWarning: X does not have valid feature names, but HistGradientBoostingRegressor was fitted with feature names\n",
      "  \"X does not have valid feature names, but\"\n",
      "C:\\Users\\Sony\\anaconda3\\lib\\site-packages\\sklearn\\base.py:451: UserWarning: X does not have valid feature names, but HistGradientBoostingRegressor was fitted with feature names\n",
      "  \"X does not have valid feature names, but\"\n"
     ]
    },
    {
     "name": "stdout",
     "output_type": "stream",
     "text": [
      "1 tree, 31 leaves, max depth = 15, train score: -217991.07901, val score: -252301.57016, in 0.106s\n",
      "[79/100] 1 tree, 31 leaves, max depth = 12, train score: -217618.14817, val score: -251902.29274, in 0.105s\n",
      "[80/100] "
     ]
    },
    {
     "name": "stderr",
     "output_type": "stream",
     "text": [
      "C:\\Users\\Sony\\anaconda3\\lib\\site-packages\\sklearn\\base.py:451: UserWarning: X does not have valid feature names, but HistGradientBoostingRegressor was fitted with feature names\n",
      "  \"X does not have valid feature names, but\"\n",
      "C:\\Users\\Sony\\anaconda3\\lib\\site-packages\\sklearn\\base.py:451: UserWarning: X does not have valid feature names, but HistGradientBoostingRegressor was fitted with feature names\n",
      "  \"X does not have valid feature names, but\"\n",
      "C:\\Users\\Sony\\anaconda3\\lib\\site-packages\\sklearn\\base.py:451: UserWarning: X does not have valid feature names, but HistGradientBoostingRegressor was fitted with feature names\n",
      "  \"X does not have valid feature names, but\"\n"
     ]
    },
    {
     "name": "stdout",
     "output_type": "stream",
     "text": [
      "1 tree, 31 leaves, max depth = 11, train score: -217294.40679, val score: -251804.45219, in 0.107s\n",
      "[81/100] 1 tree, 31 leaves, max depth = 10, train score: -217141.83609, val score: -251510.96088, in 0.093s\n",
      "[82/100] "
     ]
    },
    {
     "name": "stderr",
     "output_type": "stream",
     "text": [
      "C:\\Users\\Sony\\anaconda3\\lib\\site-packages\\sklearn\\base.py:451: UserWarning: X does not have valid feature names, but HistGradientBoostingRegressor was fitted with feature names\n",
      "  \"X does not have valid feature names, but\"\n",
      "C:\\Users\\Sony\\anaconda3\\lib\\site-packages\\sklearn\\base.py:451: UserWarning: X does not have valid feature names, but HistGradientBoostingRegressor was fitted with feature names\n",
      "  \"X does not have valid feature names, but\"\n",
      "C:\\Users\\Sony\\anaconda3\\lib\\site-packages\\sklearn\\base.py:451: UserWarning: X does not have valid feature names, but HistGradientBoostingRegressor was fitted with feature names\n",
      "  \"X does not have valid feature names, but\"\n",
      "C:\\Users\\Sony\\anaconda3\\lib\\site-packages\\sklearn\\base.py:451: UserWarning: X does not have valid feature names, but HistGradientBoostingRegressor was fitted with feature names\n",
      "  \"X does not have valid feature names, but\"\n"
     ]
    },
    {
     "name": "stdout",
     "output_type": "stream",
     "text": [
      "1 tree, 31 leaves, max depth = 14, train score: -216822.65137, val score: -251084.56923, in 0.108s\n",
      "[83/100] "
     ]
    },
    {
     "name": "stderr",
     "output_type": "stream",
     "text": [
      "C:\\Users\\Sony\\anaconda3\\lib\\site-packages\\sklearn\\base.py:451: UserWarning: X does not have valid feature names, but HistGradientBoostingRegressor was fitted with feature names\n",
      "  \"X does not have valid feature names, but\"\n",
      "C:\\Users\\Sony\\anaconda3\\lib\\site-packages\\sklearn\\base.py:451: UserWarning: X does not have valid feature names, but HistGradientBoostingRegressor was fitted with feature names\n",
      "  \"X does not have valid feature names, but\"\n",
      "C:\\Users\\Sony\\anaconda3\\lib\\site-packages\\sklearn\\base.py:451: UserWarning: X does not have valid feature names, but HistGradientBoostingRegressor was fitted with feature names\n",
      "  \"X does not have valid feature names, but\"\n",
      "C:\\Users\\Sony\\anaconda3\\lib\\site-packages\\sklearn\\base.py:451: UserWarning: X does not have valid feature names, but HistGradientBoostingRegressor was fitted with feature names\n",
      "  \"X does not have valid feature names, but\"\n"
     ]
    },
    {
     "name": "stdout",
     "output_type": "stream",
     "text": [
      "1 tree, 31 leaves, max depth = 13, train score: -216093.06639, val score: -251542.49485, in 0.105s\n",
      "[84/100] 1 tree, 31 leaves, max depth = 13, train score: -215840.97791, val score: -251390.00618, in 0.107s\n",
      "[85/100] 1 tree, 31 leaves, max depth = 12, train score: -215543.54668, val score: -251128.44293, in 0.098s\n",
      "[86/100] "
     ]
    },
    {
     "name": "stderr",
     "output_type": "stream",
     "text": [
      "C:\\Users\\Sony\\anaconda3\\lib\\site-packages\\sklearn\\base.py:451: UserWarning: X does not have valid feature names, but HistGradientBoostingRegressor was fitted with feature names\n",
      "  \"X does not have valid feature names, but\"\n",
      "C:\\Users\\Sony\\anaconda3\\lib\\site-packages\\sklearn\\base.py:451: UserWarning: X does not have valid feature names, but HistGradientBoostingRegressor was fitted with feature names\n",
      "  \"X does not have valid feature names, but\"\n",
      "C:\\Users\\Sony\\anaconda3\\lib\\site-packages\\sklearn\\base.py:451: UserWarning: X does not have valid feature names, but HistGradientBoostingRegressor was fitted with feature names\n",
      "  \"X does not have valid feature names, but\"\n",
      "C:\\Users\\Sony\\anaconda3\\lib\\site-packages\\sklearn\\base.py:451: UserWarning: X does not have valid feature names, but HistGradientBoostingRegressor was fitted with feature names\n",
      "  \"X does not have valid feature names, but\"\n"
     ]
    },
    {
     "name": "stdout",
     "output_type": "stream",
     "text": [
      "1 tree, 31 leaves, max depth = 13, train score: -215072.53259, val score: -251164.84758, in 0.113s\n",
      "[87/100] 1 tree, 31 leaves, max depth = 12, train score: -214749.29830, val score: -250646.41139, in 0.097s\n",
      "[88/100] "
     ]
    },
    {
     "name": "stderr",
     "output_type": "stream",
     "text": [
      "C:\\Users\\Sony\\anaconda3\\lib\\site-packages\\sklearn\\base.py:451: UserWarning: X does not have valid feature names, but HistGradientBoostingRegressor was fitted with feature names\n",
      "  \"X does not have valid feature names, but\"\n",
      "C:\\Users\\Sony\\anaconda3\\lib\\site-packages\\sklearn\\base.py:451: UserWarning: X does not have valid feature names, but HistGradientBoostingRegressor was fitted with feature names\n",
      "  \"X does not have valid feature names, but\"\n",
      "C:\\Users\\Sony\\anaconda3\\lib\\site-packages\\sklearn\\base.py:451: UserWarning: X does not have valid feature names, but HistGradientBoostingRegressor was fitted with feature names\n",
      "  \"X does not have valid feature names, but\"\n",
      "C:\\Users\\Sony\\anaconda3\\lib\\site-packages\\sklearn\\base.py:451: UserWarning: X does not have valid feature names, but HistGradientBoostingRegressor was fitted with feature names\n",
      "  \"X does not have valid feature names, but\"\n"
     ]
    },
    {
     "name": "stdout",
     "output_type": "stream",
     "text": [
      "1 tree, 31 leaves, max depth = 12, train score: -214435.19140, val score: -250326.86659, in 0.113s\n",
      "[89/100] "
     ]
    },
    {
     "name": "stderr",
     "output_type": "stream",
     "text": [
      "C:\\Users\\Sony\\anaconda3\\lib\\site-packages\\sklearn\\base.py:451: UserWarning: X does not have valid feature names, but HistGradientBoostingRegressor was fitted with feature names\n",
      "  \"X does not have valid feature names, but\"\n",
      "C:\\Users\\Sony\\anaconda3\\lib\\site-packages\\sklearn\\base.py:451: UserWarning: X does not have valid feature names, but HistGradientBoostingRegressor was fitted with feature names\n",
      "  \"X does not have valid feature names, but\"\n",
      "C:\\Users\\Sony\\anaconda3\\lib\\site-packages\\sklearn\\base.py:451: UserWarning: X does not have valid feature names, but HistGradientBoostingRegressor was fitted with feature names\n",
      "  \"X does not have valid feature names, but\"\n",
      "C:\\Users\\Sony\\anaconda3\\lib\\site-packages\\sklearn\\base.py:451: UserWarning: X does not have valid feature names, but HistGradientBoostingRegressor was fitted with feature names\n",
      "  \"X does not have valid feature names, but\"\n"
     ]
    },
    {
     "name": "stdout",
     "output_type": "stream",
     "text": [
      "1 tree, 31 leaves, max depth = 12, train score: -214006.69527, val score: -249913.92855, in 0.128s\n",
      "[90/100] 1 tree, 31 leaves, max depth = 13, train score: -213664.72576, val score: -249531.53189, in 0.179s\n",
      "[91/100] "
     ]
    },
    {
     "name": "stderr",
     "output_type": "stream",
     "text": [
      "C:\\Users\\Sony\\anaconda3\\lib\\site-packages\\sklearn\\base.py:451: UserWarning: X does not have valid feature names, but HistGradientBoostingRegressor was fitted with feature names\n",
      "  \"X does not have valid feature names, but\"\n",
      "C:\\Users\\Sony\\anaconda3\\lib\\site-packages\\sklearn\\base.py:451: UserWarning: X does not have valid feature names, but HistGradientBoostingRegressor was fitted with feature names\n",
      "  \"X does not have valid feature names, but\"\n",
      "C:\\Users\\Sony\\anaconda3\\lib\\site-packages\\sklearn\\base.py:451: UserWarning: X does not have valid feature names, but HistGradientBoostingRegressor was fitted with feature names\n",
      "  \"X does not have valid feature names, but\"\n"
     ]
    },
    {
     "name": "stdout",
     "output_type": "stream",
     "text": [
      "1 tree, 31 leaves, max depth = 13, train score: -213366.32505, val score: -249476.50794, in 0.142s\n",
      "[92/100] 1 tree, 31 leaves, max depth = 10, train score: -213318.23627, val score: -248879.64626, in 0.103s\n",
      "[93/100] "
     ]
    },
    {
     "name": "stderr",
     "output_type": "stream",
     "text": [
      "C:\\Users\\Sony\\anaconda3\\lib\\site-packages\\sklearn\\base.py:451: UserWarning: X does not have valid feature names, but HistGradientBoostingRegressor was fitted with feature names\n",
      "  \"X does not have valid feature names, but\"\n",
      "C:\\Users\\Sony\\anaconda3\\lib\\site-packages\\sklearn\\base.py:451: UserWarning: X does not have valid feature names, but HistGradientBoostingRegressor was fitted with feature names\n",
      "  \"X does not have valid feature names, but\"\n",
      "C:\\Users\\Sony\\anaconda3\\lib\\site-packages\\sklearn\\base.py:451: UserWarning: X does not have valid feature names, but HistGradientBoostingRegressor was fitted with feature names\n",
      "  \"X does not have valid feature names, but\"\n",
      "C:\\Users\\Sony\\anaconda3\\lib\\site-packages\\sklearn\\base.py:451: UserWarning: X does not have valid feature names, but HistGradientBoostingRegressor was fitted with feature names\n",
      "  \"X does not have valid feature names, but\"\n",
      "C:\\Users\\Sony\\anaconda3\\lib\\site-packages\\sklearn\\base.py:451: UserWarning: X does not have valid feature names, but HistGradientBoostingRegressor was fitted with feature names\n",
      "  \"X does not have valid feature names, but\"\n"
     ]
    },
    {
     "name": "stdout",
     "output_type": "stream",
     "text": [
      "1 tree, 31 leaves, max depth = 17, train score: -213218.39544, val score: -248725.96919, in 0.118s\n",
      "[94/100] 1 tree, 31 leaves, max depth = 11, train score: -212816.60196, val score: -248486.78314, in 0.105s\n",
      "[95/100] "
     ]
    },
    {
     "name": "stderr",
     "output_type": "stream",
     "text": [
      "C:\\Users\\Sony\\anaconda3\\lib\\site-packages\\sklearn\\base.py:451: UserWarning: X does not have valid feature names, but HistGradientBoostingRegressor was fitted with feature names\n",
      "  \"X does not have valid feature names, but\"\n",
      "C:\\Users\\Sony\\anaconda3\\lib\\site-packages\\sklearn\\base.py:451: UserWarning: X does not have valid feature names, but HistGradientBoostingRegressor was fitted with feature names\n",
      "  \"X does not have valid feature names, but\"\n",
      "C:\\Users\\Sony\\anaconda3\\lib\\site-packages\\sklearn\\base.py:451: UserWarning: X does not have valid feature names, but HistGradientBoostingRegressor was fitted with feature names\n",
      "  \"X does not have valid feature names, but\"\n",
      "C:\\Users\\Sony\\anaconda3\\lib\\site-packages\\sklearn\\base.py:451: UserWarning: X does not have valid feature names, but HistGradientBoostingRegressor was fitted with feature names\n",
      "  \"X does not have valid feature names, but\"\n"
     ]
    },
    {
     "name": "stdout",
     "output_type": "stream",
     "text": [
      "1 tree, 31 leaves, max depth = 15, train score: -212409.30070, val score: -248399.56651, in 0.103s\n",
      "[96/100] 1 tree, 31 leaves, max depth = 13, train score: -212145.38715, val score: -248472.28887, in 0.116s\n",
      "[97/100] 1 tree, 31 leaves, max depth = 14, train score: -211981.31826, val score: -248543.50457, in 0.102s\n",
      "[98/100] "
     ]
    },
    {
     "name": "stderr",
     "output_type": "stream",
     "text": [
      "C:\\Users\\Sony\\anaconda3\\lib\\site-packages\\sklearn\\base.py:451: UserWarning: X does not have valid feature names, but HistGradientBoostingRegressor was fitted with feature names\n",
      "  \"X does not have valid feature names, but\"\n",
      "C:\\Users\\Sony\\anaconda3\\lib\\site-packages\\sklearn\\base.py:451: UserWarning: X does not have valid feature names, but HistGradientBoostingRegressor was fitted with feature names\n",
      "  \"X does not have valid feature names, but\"\n",
      "C:\\Users\\Sony\\anaconda3\\lib\\site-packages\\sklearn\\base.py:451: UserWarning: X does not have valid feature names, but HistGradientBoostingRegressor was fitted with feature names\n",
      "  \"X does not have valid feature names, but\"\n",
      "C:\\Users\\Sony\\anaconda3\\lib\\site-packages\\sklearn\\base.py:451: UserWarning: X does not have valid feature names, but HistGradientBoostingRegressor was fitted with feature names\n",
      "  \"X does not have valid feature names, but\"\n"
     ]
    },
    {
     "name": "stdout",
     "output_type": "stream",
     "text": [
      "1 tree, 31 leaves, max depth = 11, train score: -211674.25548, val score: -248345.10403, in 0.131s\n",
      "[99/100] "
     ]
    },
    {
     "name": "stderr",
     "output_type": "stream",
     "text": [
      "C:\\Users\\Sony\\anaconda3\\lib\\site-packages\\sklearn\\base.py:451: UserWarning: X does not have valid feature names, but HistGradientBoostingRegressor was fitted with feature names\n",
      "  \"X does not have valid feature names, but\"\n",
      "C:\\Users\\Sony\\anaconda3\\lib\\site-packages\\sklearn\\base.py:451: UserWarning: X does not have valid feature names, but HistGradientBoostingRegressor was fitted with feature names\n",
      "  \"X does not have valid feature names, but\"\n",
      "C:\\Users\\Sony\\anaconda3\\lib\\site-packages\\sklearn\\base.py:451: UserWarning: X does not have valid feature names, but HistGradientBoostingRegressor was fitted with feature names\n",
      "  \"X does not have valid feature names, but\"\n",
      "C:\\Users\\Sony\\anaconda3\\lib\\site-packages\\sklearn\\base.py:451: UserWarning: X does not have valid feature names, but HistGradientBoostingRegressor was fitted with feature names\n",
      "  \"X does not have valid feature names, but\"\n"
     ]
    },
    {
     "name": "stdout",
     "output_type": "stream",
     "text": [
      "1 tree, 31 leaves, max depth = 14, train score: -211301.58156, val score: -248169.07086, in 0.122s\n",
      "[100/100] 1 tree, 31 leaves, max depth = 11, train score: -211168.40626, val score: -248102.66068, in 0.112s\n",
      "Fit 100 trees in 8.144 s, (3100 total leaves)\n",
      "Time spent computing histograms: 0.642s\n",
      "Time spent finding best splits:  0.262s\n",
      "Time spent applying splits:      0.475s\n",
      "Time spent predicting:           0.026s\n"
     ]
    },
    {
     "name": "stderr",
     "output_type": "stream",
     "text": [
      "C:\\Users\\Sony\\anaconda3\\lib\\site-packages\\sklearn\\base.py:451: UserWarning: X does not have valid feature names, but HistGradientBoostingRegressor was fitted with feature names\n",
      "  \"X does not have valid feature names, but\"\n",
      "C:\\Users\\Sony\\anaconda3\\lib\\site-packages\\sklearn\\base.py:451: UserWarning: X does not have valid feature names, but HistGradientBoostingRegressor was fitted with feature names\n",
      "  \"X does not have valid feature names, but\"\n"
     ]
    },
    {
     "data": {
      "text/plain": [
       "HistGradientBoostingRegressor(categorical_features=[True, True, True, True,\n",
       "                                                    True, True, True, True,\n",
       "                                                    True, True, True, True,\n",
       "                                                    False, False, False, False,\n",
       "                                                    False, False, False, False,\n",
       "                                                    False, False, False, False,\n",
       "                                                    False, False],\n",
       "                              random_state=42,\n",
       "                              scoring=make_scorer(mean_absolute_error, greater_is_better=False),\n",
       "                              verbose=3)"
      ]
     },
     "execution_count": 53,
     "metadata": {},
     "output_type": "execute_result"
    }
   ],
   "source": [
    "reg.fit(X_train,y_train)"
   ]
  },
  {
   "cell_type": "code",
   "execution_count": 54,
   "id": "81c03173",
   "metadata": {},
   "outputs": [
    {
     "data": {
      "text/plain": [
       "0.3697016089568272"
      ]
     },
     "execution_count": 54,
     "metadata": {},
     "output_type": "execute_result"
    }
   ],
   "source": [
    "mean_absolute_error(y_test, reg.predict(X_test))\n",
    "mean_absolute_percentage_error(y_test, reg.predict(X_test))"
   ]
  },
  {
   "cell_type": "code",
   "execution_count": 55,
   "id": "04747e30",
   "metadata": {},
   "outputs": [
    {
     "data": {
      "text/plain": [
       "263473.643443036"
      ]
     },
     "execution_count": 55,
     "metadata": {},
     "output_type": "execute_result"
    }
   ],
   "source": [
    "mean_absolute_error(y_test, reg.predict(X_test))\n"
   ]
  },
  {
   "cell_type": "code",
   "execution_count": 56,
   "id": "7ced87c1",
   "metadata": {},
   "outputs": [
    {
     "data": {
      "text/plain": [
       "array([-600884.95560984, -555411.86649999, -516719.69901827,\n",
       "       -482827.55825695, -454041.73545299, -429407.65876522,\n",
       "       -408490.40332561, -390153.71923126, -373285.38559236,\n",
       "       -360124.75512457, -348401.41787234, -338143.7475215 ,\n",
       "       -329406.37015218, -320738.7359201 , -313410.57755603,\n",
       "       -307251.57998813, -302133.17861906, -296991.12960392,\n",
       "       -291237.03127892, -286176.66527291, -282111.4319061 ,\n",
       "       -278941.17547825, -275873.47561584, -273662.78618911,\n",
       "       -270793.76530723, -267767.50023158, -265162.48822287,\n",
       "       -263586.58604503, -261146.98714725, -259184.53240135,\n",
       "       -256841.87539304, -255213.72956373, -253515.64389174,\n",
       "       -252098.14376744, -250786.48464286, -249240.88714138,\n",
       "       -247261.09142308, -245292.41702191, -243508.29798304,\n",
       "       -241980.59285816, -240488.06498199, -239513.35496491,\n",
       "       -238336.90132411, -237073.39873664, -235965.44391546,\n",
       "       -235252.77605222, -234769.26393297, -234064.49050327,\n",
       "       -233092.86130728, -232001.3784466 , -231146.16420956,\n",
       "       -230968.71039019, -230675.78366538, -229871.64178846,\n",
       "       -229560.76726447, -228801.71564049, -228265.23246396,\n",
       "       -227445.50102953, -226853.03256939, -226410.04342224,\n",
       "       -226013.44878441, -225579.66064367, -225087.07573938,\n",
       "       -224852.70787662, -224438.98809358, -224079.11086254,\n",
       "       -223423.54971785, -222805.15712159, -222227.48084511,\n",
       "       -221707.76306126, -221493.22742454, -220943.5665207 ,\n",
       "       -220310.06362151, -219693.37507802, -219557.01137842,\n",
       "       -219191.37753924, -218800.52474344, -218293.61508355,\n",
       "       -217991.07900932, -217618.14816815, -217294.40678856,\n",
       "       -217141.83608803, -216822.65136544, -216093.06639475,\n",
       "       -215840.97790625, -215543.54667715, -215072.53258647,\n",
       "       -214749.29829569, -214435.19140398, -214006.6952667 ,\n",
       "       -213664.72575579, -213366.32505469, -213318.23627059,\n",
       "       -213218.39544167, -212816.60195934, -212409.30069658,\n",
       "       -212145.38714972, -211981.31825706, -211674.25547527,\n",
       "       -211301.58156266, -211168.40625797])"
      ]
     },
     "execution_count": 56,
     "metadata": {},
     "output_type": "execute_result"
    }
   ],
   "source": [
    "reg.train_score_"
   ]
  },
  {
   "cell_type": "code",
   "execution_count": null,
   "id": "6ae45cbb",
   "metadata": {},
   "outputs": [],
   "source": []
  },
  {
   "cell_type": "code",
   "execution_count": 57,
   "id": "31af1282",
   "metadata": {},
   "outputs": [
    {
     "data": {
      "image/png": "[encoded data removed]",
      "text/plain": [
       "<Figure size 432x432 with 1 Axes>"
      ]
     },
     "metadata": {
      "needs_background": "light"
     },
     "output_type": "display_data"
    }
   ],
   "source": [
    "test_score =[]\n",
    "for i,y_pred in enumerate(reg.staged_predict(X_test)):\n",
    "    test_score.append(-mean_absolute_error(y_test, y_pred))\n",
    "fig = plt.figure(figsize=(6, 6))\n",
    "plt.subplot(1, 1, 1)\n",
    "plt.title(\"MAE\")\n",
    "plt.plot(\n",
    "    np.arange(101) + 1,\n",
    "    reg.train_score_,\n",
    "    \"b-\",\n",
    "    label=\"Training Set MAE\",\n",
    ")\n",
    "plt.plot(\n",
    "    np.arange(100) + 1, test_score, \"r-\", label=\"Test Set MAE\"\n",
    ")\n",
    "plt.legend(loc=\"lower right\")\n",
    "plt.xlabel(\"Boosting Iterations\")\n",
    "plt.ylabel(\"MAE\")\n",
    "fig.tight_layout()\n",
    "plt.show()"
   ]
  },
  {
   "cell_type": "code",
   "execution_count": null,
   "id": "6fd64fa6",
   "metadata": {},
   "outputs": [],
   "source": []
  },
  {
   "cell_type": "code",
   "execution_count": null,
   "id": "c4b4318c",
   "metadata": {},
   "outputs": [],
   "source": []
  },
  {
   "cell_type": "code",
   "execution_count": null,
   "id": "5022e921",
   "metadata": {},
   "outputs": [],
   "source": []
  },
  {
   "cell_type": "markdown",
   "id": "a8da141a",
   "metadata": {},
   "source": [
    "## GradientBoostingRegressor "
   ]
  },
  {
   "cell_type": "code",
   "execution_count": 58,
   "id": "e2029d50",
   "metadata": {},
   "outputs": [],
   "source": [
    "from sklearn.ensemble import GradientBoostingRegressor\n",
    "from sklearn.metrics import mean_absolute_error"
   ]
  },
  {
   "cell_type": "code",
   "execution_count": 59,
   "id": "52bbf32a",
   "metadata": {},
   "outputs": [],
   "source": [
    "RANDOM_SEED = 42"
   ]
  },
  {
   "cell_type": "code",
   "execution_count": null,
   "id": "545b88ef",
   "metadata": {},
   "outputs": [],
   "source": [
    "#reg=HistGradientBoostingRegressor(verbose=3,random_state=42, categorical_features=cat_feat_mask,scoring=mape)"
   ]
  },
  {
   "cell_type": "code",
   "execution_count": 74,
   "id": "1724d948",
   "metadata": {},
   "outputs": [],
   "source": [
    "model = GradientBoostingRegressor(max_depth=15, min_samples_leaf= 15, min_samples_split= 10, max_features= 'auto', random_state=RANDOM_SEED)"
   ]
  },
  {
   "cell_type": "code",
   "execution_count": 75,
   "id": "490cf4d8",
   "metadata": {},
   "outputs": [
    {
     "data": {
      "text/plain": [
       "GradientBoostingRegressor(max_depth=15, max_features='auto',\n",
       "                          min_samples_leaf=15, min_samples_split=10,\n",
       "                          random_state=42)"
      ]
     },
     "execution_count": 75,
     "metadata": {},
     "output_type": "execute_result"
    }
   ],
   "source": [
    "model.fit(X_train, np.log(y_train))"
   ]
  },
  {
   "cell_type": "code",
   "execution_count": 76,
   "id": "e5c8874d",
   "metadata": {},
   "outputs": [],
   "source": [
    "y_pred = model.predict(X_test)"
   ]
  },
  {
   "cell_type": "code",
   "execution_count": 77,
   "id": "01366975",
   "metadata": {},
   "outputs": [
    {
     "data": {
      "text/plain": [
       "0.2426046465253648"
      ]
     },
     "execution_count": 77,
     "metadata": {},
     "output_type": "execute_result"
    }
   ],
   "source": [
    "mean_absolute_percentage_error(y_test, np.exp(y_pred))"
   ]
  },
  {
   "cell_type": "code",
   "execution_count": 78,
   "id": "cbe4b7d8",
   "metadata": {},
   "outputs": [
    {
     "data": {
      "text/plain": [
       "206917.21741424745"
      ]
     },
     "execution_count": 78,
     "metadata": {},
     "output_type": "execute_result"
    }
   ],
   "source": [
    "mean_absolute_error(y_test, np.exp(y_pred))"
   ]
  },
  {
   "cell_type": "code",
   "execution_count": 79,
   "id": "3e3c6f36",
   "metadata": {},
   "outputs": [
    {
     "data": {
      "text/plain": [
       "[array([12.95555158, 12.87108593, 12.94942502, ..., 13.00483909,\n",
       "        12.85122484, 12.98745415]),\n",
       " array([12.94731959, 12.80708127, 12.89167383, ..., 13.03319368,\n",
       "        12.70064599, 13.01577401]),\n",
       " array([12.95701888, 12.75039592, 12.88065044, ..., 13.10619122,\n",
       "        12.59725158, 13.00538917]),\n",
       " array([12.95367348, 12.69789756, 12.84092794, ..., 13.17664132,\n",
       "        12.51690437, 13.02354066]),\n",
       " array([12.94312083, 12.62804095, 12.79297058, ..., 13.20080039,\n",
       "        12.45484719, 13.03232488]),\n",
       " array([12.9410902 , 12.57873778, 12.76520163, ..., 13.25644534,\n",
       "        12.39112737, 13.01968262]),\n",
       " array([12.94440967, 12.53508988, 12.72551101, ..., 13.27357492,\n",
       "        12.32666058, 13.00272676]),\n",
       " array([12.94612664, 12.50799658, 12.68626931, ..., 13.2887892 ,\n",
       "        12.28039129, 12.99725913]),\n",
       " array([12.97458019, 12.47928222, 12.66017443, ..., 13.31929601,\n",
       "        12.2109543 , 12.97750073]),\n",
       " array([12.96081838, 12.47537451, 12.63543923, ..., 13.33260247,\n",
       "        12.15193085, 13.00068411]),\n",
       " array([12.98514707, 12.45005603, 12.61842694, ..., 13.34994717,\n",
       "        12.09427545, 12.98342346]),\n",
       " array([12.98798443, 12.42511376, 12.59757227, ..., 13.38383524,\n",
       "        12.06443261, 12.96802192]),\n",
       " array([12.97549902, 12.39160963, 12.57781285, ..., 13.37142504,\n",
       "        12.02373821, 12.96668453]),\n",
       " array([12.98049071, 12.38978088, 12.57659146, ..., 13.37932797,\n",
       "        12.00072612, 12.95439445]),\n",
       " array([12.99402235, 12.38932826, 12.55882401, ..., 13.38527853,\n",
       "        11.97155131, 12.95673601]),\n",
       " array([12.98262761, 12.34161729, 12.54296324, ..., 13.3855964 ,\n",
       "        11.94665387, 12.9456341 ]),\n",
       " array([12.97945432, 12.32753402, 12.54052267, ..., 13.40034517,\n",
       "        11.92195088, 12.93225119]),\n",
       " array([12.98161408, 12.29068511, 12.54533754, ..., 13.39130747,\n",
       "        11.90713837, 12.92816926]),\n",
       " array([12.9632396 , 12.25306417, 12.53470325, ..., 13.41509331,\n",
       "        11.90411567, 12.92017833]),\n",
       " array([12.96556158, 12.24425254, 12.52820822, ..., 13.43717086,\n",
       "        11.8871896 , 12.9225003 ]),\n",
       " array([12.97319812, 12.23670644, 12.52066213, ..., 13.4588285 ,\n",
       "        11.86735674, 12.92541431]),\n",
       " array([12.97548418, 12.22510827, 12.5108145 , ..., 13.47139533,\n",
       "        11.8507984 , 12.92277816]),\n",
       " array([12.97779178, 12.21549363, 12.50969131, ..., 13.47389329,\n",
       "        11.84479119, 12.91462738]),\n",
       " array([12.96898468, 12.20199112, 12.50897949, ..., 13.48042805,\n",
       "        11.83672218, 12.90919964]),\n",
       " array([12.96942141, 12.19188449, 12.50369003, ..., 13.52364393,\n",
       "        11.82619122, 12.9110892 ]),\n",
       " array([12.9634827 , 12.18497133, 12.50508608, ..., 13.51767671,\n",
       "        11.8183896 , 12.90865815]),\n",
       " array([12.96830212, 12.17987839, 12.49999315, ..., 13.52371383,\n",
       "        11.81175264, 12.90299688]),\n",
       " array([12.96882418, 12.17755013, 12.50689034, ..., 13.52606204,\n",
       "        11.80659856, 12.89878134]),\n",
       " array([12.96595889, 12.17272015, 12.5062891 , ..., 13.53564655,\n",
       "        11.78790192, 12.9002571 ]),\n",
       " array([12.96337066, 12.16601636, 12.51024014, ..., 13.54116676,\n",
       "        11.78290059, 12.89480609]),\n",
       " array([12.96814003, 12.14062783, 12.50772503, ..., 13.54283072,\n",
       "        11.77947847, 12.88164809]),\n",
       " array([12.96024114, 12.12794488, 12.50446052, ..., 13.54096455,\n",
       "        11.76102188, 12.89737619]),\n",
       " array([12.95963493, 12.11896881, 12.49983355, ..., 13.54397828,\n",
       "        11.76181861, 12.89676997]),\n",
       " array([12.9585249 , 12.11829658, 12.49725085, ..., 13.56816317,\n",
       "        11.7592359 , 12.89565994]),\n",
       " array([12.95826081, 12.1156343 , 12.49387257, ..., 13.56868675,\n",
       "        11.74517698, 12.89539586]),\n",
       " array([12.95009529, 12.11356409, 12.48912758, ..., 13.56975774,\n",
       "        11.74100158, 12.89150581]),\n",
       " array([12.95261596, 12.10676398, 12.48894156, ..., 13.57458755,\n",
       "        11.73542283, 12.8826285 ]),\n",
       " array([12.94924228, 12.10613636, 12.48957501, ..., 13.57608999,\n",
       "        11.73336487, 12.88569881]),\n",
       " array([12.94893827, 12.10009185, 12.49344846, ..., 13.57451889,\n",
       "        11.73224444, 12.8853948 ]),\n",
       " array([12.94995795, 12.10265503, 12.49032965, ..., 13.57469676,\n",
       "        11.73084013, 12.86049011]),\n",
       " array([12.9488778 , 12.10098808, 12.48825323, ..., 13.57889345,\n",
       "        11.7227101 , 12.85940997]),\n",
       " array([12.95015874, 12.08961017, 12.48895534, ..., 13.57856832,\n",
       "        11.71133219, 12.86069091]),\n",
       " array([12.94877213, 12.08822355, 12.49180973, ..., 13.57890239,\n",
       "        11.70737514, 12.86132954]),\n",
       " array([12.94753965, 12.09170763, 12.49979349, ..., 13.57934714,\n",
       "        11.70650742, 12.86261875]),\n",
       " array([12.95088289, 12.09048132, 12.49879602, ..., 13.5803346 ,\n",
       "        11.7013476 , 12.86131247]),\n",
       " array([12.94591894, 12.09163074, 12.51034699, ..., 13.58018404,\n",
       "        11.69189603, 12.83119297]),\n",
       " array([12.94803923, 12.08558585, 12.51052138, ..., 13.58216472,\n",
       "        11.69192641, 12.83190916]),\n",
       " array([12.94797428, 12.08198841, 12.50923603, ..., 13.58209977,\n",
       "        11.68832897, 12.83409455]),\n",
       " array([12.94780111, 12.08209872, 12.50750425, ..., 13.58221008,\n",
       "        11.6881558 , 12.83392138]),\n",
       " array([12.94766481, 12.08196241, 12.50736795, ..., 13.58207377,\n",
       "        11.6880195 , 12.83378508]),\n",
       " array([12.94762901, 12.08192661, 12.50733215, ..., 13.58219229,\n",
       "        11.68542367, 12.83349821]),\n",
       " array([12.94750536, 12.08180296, 12.5072085 , ..., 13.58206863,\n",
       "        11.68462438, 12.83337456]),\n",
       " array([12.94703657, 12.08172911, 12.50673971, ..., 13.5875579 ,\n",
       "        11.68415559, 12.8345564 ]),\n",
       " array([12.947628  , 12.08230244, 12.50644979, ..., 13.58809943,\n",
       "        11.68323858, 12.83514782]),\n",
       " array([12.94858606, 12.08122301, 12.50585317, ..., 13.58750281,\n",
       "        11.68215914, 12.83610589]),\n",
       " array([12.94307859, 12.07250361, 12.50986071, ..., 13.58786955,\n",
       "        11.67103409, 12.84026993]),\n",
       " array([12.94371428, 12.07179372, 12.50958965, ..., 13.5882865 ,\n",
       "        11.6703242 , 12.83991411]),\n",
       " array([12.94389178, 12.06672325, 12.51015081, ..., 13.588464  ,\n",
       "        11.66251431, 12.83719501]),\n",
       " array([12.94305509, 12.06492799, 12.51047625, ..., 13.59063247,\n",
       "        11.66329304, 12.83817457]),\n",
       " array([12.94289604, 12.06476894, 12.5103172 , ..., 13.59049489,\n",
       "        11.66313399, 12.8408295 ]),\n",
       " array([12.94298985, 12.06486275, 12.51050207, ..., 13.5951898 ,\n",
       "        11.6632278 , 12.84092331]),\n",
       " array([12.94480253, 12.06461417, 12.51207963, ..., 13.59676735,\n",
       "        11.67087625, 12.83920677]),\n",
       " array([12.9457829 , 12.06464924, 12.5121147 , ..., 13.59680242,\n",
       "        11.67091132, 12.83924185]),\n",
       " array([12.9458369 , 12.06427019, 12.5121687 , ..., 13.60746784,\n",
       "        11.67053227, 12.83929585]),\n",
       " array([12.94583525, 12.06426855, 12.51216705, ..., 13.60746619,\n",
       "        11.67053062, 12.83756584]),\n",
       " array([12.94586038, 12.06429368, 12.51219218, ..., 13.60749132,\n",
       "        11.67055575, 12.83771395]),\n",
       " array([12.94610842, 12.0639554 , 12.51197818, ..., 13.60727732,\n",
       "        11.6695403 , 12.83796199]),\n",
       " array([12.94614189, 12.06398887, 12.51201165, ..., 13.60731079,\n",
       "        11.66957377, 12.83799546]),\n",
       " array([12.94750361, 12.06440083, 12.5120308 , ..., 13.61210242,\n",
       "        11.66959292, 12.83935718]),\n",
       " array([12.94747723, 12.06437445, 12.51200442, ..., 13.61207604,\n",
       "        11.66956654, 12.83985293]),\n",
       " array([12.94729901, 12.06419623, 12.5118262 , ..., 13.61189783,\n",
       "        11.66938832, 12.83967471]),\n",
       " array([12.94715997, 12.06405719, 12.51168716, ..., 13.61204216,\n",
       "        11.66924928, 12.84038259]),\n",
       " array([12.94771928, 12.0639783 , 12.51224647, ..., 13.61196326,\n",
       "        11.66917039, 12.84030369]),\n",
       " array([12.94767616, 12.06393518, 12.51220335, ..., 13.6150279 ,\n",
       "        11.66912727, 12.84026057]),\n",
       " array([12.94769875, 12.06395777, 12.51222595, ..., 13.61505049,\n",
       "        11.66914986, 12.84172155]),\n",
       " array([12.94768843, 12.06394744, 12.51221562, ..., 13.61504017,\n",
       "        11.66913954, 12.84171122]),\n",
       " array([12.94745814, 12.06329453, 12.51717689, ..., 13.61705899,\n",
       "        11.66824727, 12.84334748]),\n",
       " array([12.94747881, 12.0633152 , 12.51679653, ..., 13.61909794,\n",
       "        11.66826795, 12.84336816]),\n",
       " array([12.94747088, 12.06326272, 12.51674404, ..., 13.61904546,\n",
       "        11.66821546, 12.8427944 ]),\n",
       " array([12.94753309, 12.06332492, 12.51680625, ..., 13.61910767,\n",
       "        11.66827767, 12.84245792]),\n",
       " array([12.94756138, 12.06232266, 12.51683454, ..., 13.61913596,\n",
       "        11.64529936, 12.84248621]),\n",
       " array([12.9475586 , 12.06231987, 12.51683176, ..., 13.61913318,\n",
       "        11.64529657, 12.85264775]),\n",
       " array([12.94720324, 12.06196451, 12.51846252, ..., 13.61939543,\n",
       "        11.64676937, 12.85385745]),\n",
       " array([12.94725168, 12.06179725, 12.51943685, ..., 13.61922817,\n",
       "        11.6466021 , 12.85369018]),\n",
       " array([12.94724175, 12.06178731, 12.51942691, ..., 13.61921823,\n",
       "        11.64659217, 12.85368025]),\n",
       " array([12.94725953, 12.0618051 , 12.5194447 , ..., 13.61923602,\n",
       "        11.64662791, 12.85826946]),\n",
       " array([12.94724812, 12.06179369, 12.51943329, ..., 13.61922461,\n",
       "        11.6466165 , 12.85825805]),\n",
       " array([12.94730989, 12.06176061, 12.51949506, ..., 13.61928638,\n",
       "        11.64667827, 12.85771981]),\n",
       " array([12.94730792, 12.06175863, 12.51949309, ..., 13.61949465,\n",
       "        11.6466763 , 12.85852508]),\n",
       " array([12.94743235, 12.06310023, 12.51901362, ..., 13.61962319,\n",
       "        11.64716739, 12.85864951]),\n",
       " array([12.94654179, 12.06220967, 12.51913847, ..., 13.61974804,\n",
       "        11.64729224, 12.85401622]),\n",
       " array([12.94645589, 12.06212377, 12.51905257, ..., 13.61966214,\n",
       "        11.64720634, 12.85393032]),\n",
       " array([12.94654855, 12.05692333, 12.51857367, ..., 13.6197548 ,\n",
       "        11.64872708, 12.85402298]),\n",
       " array([12.94654915, 12.05692393, 12.51857427, ..., 13.6197554 ,\n",
       "        11.64872768, 12.85402358]),\n",
       " array([12.94653993, 12.0569147 , 12.51856504, ..., 13.61974617,\n",
       "        11.64871846, 12.8530777 ]),\n",
       " array([12.94509358, 12.05760806, 12.51923616, ..., 13.61767246,\n",
       "        11.65022478, 12.85442235]),\n",
       " array([12.94517751, 12.05712338, 12.51919924, ..., 13.61763554,\n",
       "        11.65179894, 12.85436899]),\n",
       " array([12.94517728, 12.05712315, 12.51919901, ..., 13.61763531,\n",
       "        11.65179871, 12.85436876]),\n",
       " array([12.94547478, 12.05713738, 12.51949651, ..., 13.61705526,\n",
       "        11.65181294, 12.85438298]),\n",
       " array([12.94547109, 12.05713368, 12.51949282, ..., 13.61705157,\n",
       "        11.65180924, 12.85437929])]"
      ]
     },
     "execution_count": 79,
     "metadata": {},
     "output_type": "execute_result"
    }
   ],
   "source": [
    "[i for i in model.staged_predict(X_test)]"
   ]
  },
  {
   "cell_type": "code",
   "execution_count": 80,
   "id": "af675f51",
   "metadata": {},
   "outputs": [
    {
     "ename": "ValueError",
     "evalue": "x and y must have same first dimension, but have shapes (100,) and (0,)",
     "output_type": "error",
     "traceback": [
      "\u001b[1;31m---------------------------------------------------------------------------\u001b[0m",
      "\u001b[1;31mValueError\u001b[0m                                Traceback (most recent call last)",
      "\u001b[1;32m~\\AppData\\Local\\Temp\\ipykernel_13852\\996824207.py\u001b[0m in \u001b[0;36m<module>\u001b[1;34m\u001b[0m\n\u001b[0;32m     12\u001b[0m )\n\u001b[0;32m     13\u001b[0m plt.plot(\n\u001b[1;32m---> 14\u001b[1;33m     \u001b[0mnp\u001b[0m\u001b[1;33m.\u001b[0m\u001b[0marange\u001b[0m\u001b[1;33m(\u001b[0m\u001b[1;36m100\u001b[0m\u001b[1;33m)\u001b[0m \u001b[1;33m+\u001b[0m \u001b[1;36m1\u001b[0m\u001b[1;33m,\u001b[0m \u001b[0mtest_scoreGB\u001b[0m\u001b[1;33m,\u001b[0m \u001b[1;34m\"r-\"\u001b[0m\u001b[1;33m,\u001b[0m \u001b[0mlabel\u001b[0m\u001b[1;33m=\u001b[0m\u001b[1;34m\"TestGB Set MAPE\"\u001b[0m\u001b[1;33m\u001b[0m\u001b[1;33m\u001b[0m\u001b[0m\n\u001b[0m\u001b[0;32m     15\u001b[0m )\n\u001b[0;32m     16\u001b[0m \u001b[0mplt\u001b[0m\u001b[1;33m.\u001b[0m\u001b[0mlegend\u001b[0m\u001b[1;33m(\u001b[0m\u001b[0mloc\u001b[0m\u001b[1;33m=\u001b[0m\u001b[1;34m\"lower right\"\u001b[0m\u001b[1;33m)\u001b[0m\u001b[1;33m\u001b[0m\u001b[1;33m\u001b[0m\u001b[0m\n",
      "\u001b[1;32m~\\anaconda3\\lib\\site-packages\\matplotlib\\pyplot.py\u001b[0m in \u001b[0;36mplot\u001b[1;34m(scalex, scaley, data, *args, **kwargs)\u001b[0m\n\u001b[0;32m   3019\u001b[0m     return gca().plot(\n\u001b[0;32m   3020\u001b[0m         \u001b[1;33m*\u001b[0m\u001b[0margs\u001b[0m\u001b[1;33m,\u001b[0m \u001b[0mscalex\u001b[0m\u001b[1;33m=\u001b[0m\u001b[0mscalex\u001b[0m\u001b[1;33m,\u001b[0m \u001b[0mscaley\u001b[0m\u001b[1;33m=\u001b[0m\u001b[0mscaley\u001b[0m\u001b[1;33m,\u001b[0m\u001b[1;33m\u001b[0m\u001b[1;33m\u001b[0m\u001b[0m\n\u001b[1;32m-> 3021\u001b[1;33m         **({\"data\": data} if data is not None else {}), **kwargs)\n\u001b[0m\u001b[0;32m   3022\u001b[0m \u001b[1;33m\u001b[0m\u001b[0m\n\u001b[0;32m   3023\u001b[0m \u001b[1;33m\u001b[0m\u001b[0m\n",
      "\u001b[1;32m~\\anaconda3\\lib\\site-packages\\matplotlib\\axes\\_axes.py\u001b[0m in \u001b[0;36mplot\u001b[1;34m(self, scalex, scaley, data, *args, **kwargs)\u001b[0m\n\u001b[0;32m   1603\u001b[0m         \"\"\"\n\u001b[0;32m   1604\u001b[0m         \u001b[0mkwargs\u001b[0m \u001b[1;33m=\u001b[0m \u001b[0mcbook\u001b[0m\u001b[1;33m.\u001b[0m\u001b[0mnormalize_kwargs\u001b[0m\u001b[1;33m(\u001b[0m\u001b[0mkwargs\u001b[0m\u001b[1;33m,\u001b[0m \u001b[0mmlines\u001b[0m\u001b[1;33m.\u001b[0m\u001b[0mLine2D\u001b[0m\u001b[1;33m)\u001b[0m\u001b[1;33m\u001b[0m\u001b[1;33m\u001b[0m\u001b[0m\n\u001b[1;32m-> 1605\u001b[1;33m         \u001b[0mlines\u001b[0m \u001b[1;33m=\u001b[0m \u001b[1;33m[\u001b[0m\u001b[1;33m*\u001b[0m\u001b[0mself\u001b[0m\u001b[1;33m.\u001b[0m\u001b[0m_get_lines\u001b[0m\u001b[1;33m(\u001b[0m\u001b[1;33m*\u001b[0m\u001b[0margs\u001b[0m\u001b[1;33m,\u001b[0m \u001b[0mdata\u001b[0m\u001b[1;33m=\u001b[0m\u001b[0mdata\u001b[0m\u001b[1;33m,\u001b[0m \u001b[1;33m**\u001b[0m\u001b[0mkwargs\u001b[0m\u001b[1;33m)\u001b[0m\u001b[1;33m]\u001b[0m\u001b[1;33m\u001b[0m\u001b[1;33m\u001b[0m\u001b[0m\n\u001b[0m\u001b[0;32m   1606\u001b[0m         \u001b[1;32mfor\u001b[0m \u001b[0mline\u001b[0m \u001b[1;32min\u001b[0m \u001b[0mlines\u001b[0m\u001b[1;33m:\u001b[0m\u001b[1;33m\u001b[0m\u001b[1;33m\u001b[0m\u001b[0m\n\u001b[0;32m   1607\u001b[0m             \u001b[0mself\u001b[0m\u001b[1;33m.\u001b[0m\u001b[0madd_line\u001b[0m\u001b[1;33m(\u001b[0m\u001b[0mline\u001b[0m\u001b[1;33m)\u001b[0m\u001b[1;33m\u001b[0m\u001b[1;33m\u001b[0m\u001b[0m\n",
      "\u001b[1;32m~\\anaconda3\\lib\\site-packages\\matplotlib\\axes\\_base.py\u001b[0m in \u001b[0;36m__call__\u001b[1;34m(self, data, *args, **kwargs)\u001b[0m\n\u001b[0;32m    313\u001b[0m                 \u001b[0mthis\u001b[0m \u001b[1;33m+=\u001b[0m \u001b[0margs\u001b[0m\u001b[1;33m[\u001b[0m\u001b[1;36m0\u001b[0m\u001b[1;33m]\u001b[0m\u001b[1;33m,\u001b[0m\u001b[1;33m\u001b[0m\u001b[1;33m\u001b[0m\u001b[0m\n\u001b[0;32m    314\u001b[0m                 \u001b[0margs\u001b[0m \u001b[1;33m=\u001b[0m \u001b[0margs\u001b[0m\u001b[1;33m[\u001b[0m\u001b[1;36m1\u001b[0m\u001b[1;33m:\u001b[0m\u001b[1;33m]\u001b[0m\u001b[1;33m\u001b[0m\u001b[1;33m\u001b[0m\u001b[0m\n\u001b[1;32m--> 315\u001b[1;33m             \u001b[1;32myield\u001b[0m \u001b[1;32mfrom\u001b[0m \u001b[0mself\u001b[0m\u001b[1;33m.\u001b[0m\u001b[0m_plot_args\u001b[0m\u001b[1;33m(\u001b[0m\u001b[0mthis\u001b[0m\u001b[1;33m,\u001b[0m \u001b[0mkwargs\u001b[0m\u001b[1;33m)\u001b[0m\u001b[1;33m\u001b[0m\u001b[1;33m\u001b[0m\u001b[0m\n\u001b[0m\u001b[0;32m    316\u001b[0m \u001b[1;33m\u001b[0m\u001b[0m\n\u001b[0;32m    317\u001b[0m     \u001b[1;32mdef\u001b[0m \u001b[0mget_next_color\u001b[0m\u001b[1;33m(\u001b[0m\u001b[0mself\u001b[0m\u001b[1;33m)\u001b[0m\u001b[1;33m:\u001b[0m\u001b[1;33m\u001b[0m\u001b[1;33m\u001b[0m\u001b[0m\n",
      "\u001b[1;32m~\\anaconda3\\lib\\site-packages\\matplotlib\\axes\\_base.py\u001b[0m in \u001b[0;36m_plot_args\u001b[1;34m(self, tup, kwargs, return_kwargs)\u001b[0m\n\u001b[0;32m    499\u001b[0m \u001b[1;33m\u001b[0m\u001b[0m\n\u001b[0;32m    500\u001b[0m         \u001b[1;32mif\u001b[0m \u001b[0mx\u001b[0m\u001b[1;33m.\u001b[0m\u001b[0mshape\u001b[0m\u001b[1;33m[\u001b[0m\u001b[1;36m0\u001b[0m\u001b[1;33m]\u001b[0m \u001b[1;33m!=\u001b[0m \u001b[0my\u001b[0m\u001b[1;33m.\u001b[0m\u001b[0mshape\u001b[0m\u001b[1;33m[\u001b[0m\u001b[1;36m0\u001b[0m\u001b[1;33m]\u001b[0m\u001b[1;33m:\u001b[0m\u001b[1;33m\u001b[0m\u001b[1;33m\u001b[0m\u001b[0m\n\u001b[1;32m--> 501\u001b[1;33m             raise ValueError(f\"x and y must have same first dimension, but \"\n\u001b[0m\u001b[0;32m    502\u001b[0m                              f\"have shapes {x.shape} and {y.shape}\")\n\u001b[0;32m    503\u001b[0m         \u001b[1;32mif\u001b[0m \u001b[0mx\u001b[0m\u001b[1;33m.\u001b[0m\u001b[0mndim\u001b[0m \u001b[1;33m>\u001b[0m \u001b[1;36m2\u001b[0m \u001b[1;32mor\u001b[0m \u001b[0my\u001b[0m\u001b[1;33m.\u001b[0m\u001b[0mndim\u001b[0m \u001b[1;33m>\u001b[0m \u001b[1;36m2\u001b[0m\u001b[1;33m:\u001b[0m\u001b[1;33m\u001b[0m\u001b[1;33m\u001b[0m\u001b[0m\n",
      "\u001b[1;31mValueError\u001b[0m: x and y must have same first dimension, but have shapes (100,) and (0,)"
     ]
    },
    {
     "data": {
      "image/png": "[encoded data removed]",
      "text/plain": [
       "<Figure size 432x432 with 1 Axes>"
      ]
     },
     "metadata": {
      "needs_background": "light"
     },
     "output_type": "display_data"
    }
   ],
   "source": [
    "test_scoreGB =[]\n",
    "for i,y_pred in enumerate(model.staged_predict(X_test)):\n",
    "    test_score.append(-mean_absolute_percentage_error(y_test, y_pred))\n",
    "fig = plt.figure(figsize=(6, 6))\n",
    "plt.subplot(1, 1, 1)\n",
    "plt.title(\"MAPE\")\n",
    "plt.plot(\n",
    "    np.arange(100) + 1,\n",
    "    model.train_score_,\n",
    "    \"b-\",\n",
    "    label=\"TrainingGB Set MAPE\",\n",
    ")\n",
    "plt.plot(\n",
    "    np.arange(100) + 1, test_scoreGB, \"r-\", label=\"TestGB Set MAPE\"\n",
    ")\n",
    "plt.legend(loc=\"lower right\")\n",
    "plt.xlabel(\"Boosting Iterations\")\n",
    "plt.ylabel(\"MAPE\")\n",
    "fig.tight_layout()\n",
    "plt.show()"
   ]
  },
  {
   "cell_type": "code",
   "execution_count": 81,
   "id": "6f63967d",
   "metadata": {},
   "outputs": [],
   "source": [
    "mae = make_scorer(mean_absolute_error, greater_is_better=False)"
   ]
  },
  {
   "cell_type": "code",
   "execution_count": null,
   "id": "01109054",
   "metadata": {},
   "outputs": [],
   "source": []
  },
  {
   "cell_type": "code",
   "execution_count": 82,
   "id": "c68aff5a",
   "metadata": {},
   "outputs": [
    {
     "data": {
      "text/plain": [
       "GradientBoostingRegressor(max_depth=15, max_features='auto',\n",
       "                          min_samples_leaf=15, min_samples_split=10,\n",
       "                          random_state=42)"
      ]
     },
     "execution_count": 82,
     "metadata": {},
     "output_type": "execute_result"
    }
   ],
   "source": [
    "#model.fit(X_train,y_train)"
   ]
  },
  {
   "cell_type": "code",
   "execution_count": 84,
   "id": "afec83b3",
   "metadata": {},
   "outputs": [
    {
     "data": {
      "image/png": "[encoded data removed]",
      "text/plain": [
       "<Figure size 432x432 with 1 Axes>"
      ]
     },
     "metadata": {
      "needs_background": "light"
     },
     "output_type": "display_data"
    }
   ],
   "source": [
    "test_score =[]\n",
    "for i,y_pred in enumerate(model.staged_predict(X_test)):\n",
    "    test_score.append(-mean_absolute_error(y_test, y_pred))\n",
    "fig = plt.figure(figsize=(6, 6))\n",
    "plt.subplot(1, 1, 1)\n",
    "plt.title(\"MAE\")\n",
    "plt.plot(\n",
    "    np.arange(100) + 1,\n",
    "    model.train_score_,\n",
    "    \"b-\",\n",
    "    label=\"Training Set MAE\",\n",
    ")\n",
    "plt.plot(\n",
    "    np.arange(100) + 1, test_score, \"r-\", label=\"Test Set MAE\"\n",
    ")\n",
    "plt.legend(loc=\"lower right\")\n",
    "plt.xlabel(\"Boosting Iterations\")\n",
    "plt.ylabel(\"MAE\")\n",
    "fig.tight_layout()\n",
    "plt.show()"
   ]
  },
  {
   "cell_type": "markdown",
   "id": "4825381d",
   "metadata": {},
   "source": [
    "## RandomForestRegressor"
   ]
  },
  {
   "cell_type": "code",
   "execution_count": 41,
   "id": "6a735de9",
   "metadata": {},
   "outputs": [],
   "source": [
    "from sklearn.ensemble import RandomForestRegressor,GradientBoostingRegressor"
   ]
  },
  {
   "cell_type": "code",
   "execution_count": 42,
   "id": "6f876493",
   "metadata": {},
   "outputs": [],
   "source": [
    "m1 = RandomForestRegressor(n_estimators=500,n_jobs=-1)"
   ]
  },
  {
   "cell_type": "code",
   "execution_count": 43,
   "id": "52f549af",
   "metadata": {},
   "outputs": [],
   "source": [
    "from sklearn.model_selection import train_test_split\n",
    "X_train, X_test, y_train, y_test = train_test_split(df.drop(columns='target'),df.target, test_size=0.2, random_state=42)"
   ]
  },
  {
   "cell_type": "code",
   "execution_count": 44,
   "id": "22b80a32",
   "metadata": {},
   "outputs": [
    {
     "data": {
      "text/plain": [
       "0.31436215218907587"
      ]
     },
     "execution_count": 44,
     "metadata": {},
     "output_type": "execute_result"
    }
   ],
   "source": [
    "m1.fit(X_train,y_train)\n",
    "\n",
    "mean_absolute_percentage_error(y_test,m1.predict(X_test))"
   ]
  },
  {
   "cell_type": "code",
   "execution_count": 45,
   "id": "e09299cb",
   "metadata": {},
   "outputs": [],
   "source": [
    "X_train, X_test, y_train, y_test = train_test_split(df.drop(columns='target'),np.log(df.target), test_size=0.2, random_state=4)"
   ]
  },
  {
   "cell_type": "code",
   "execution_count": 46,
   "id": "0069fb15",
   "metadata": {},
   "outputs": [
    {
     "data": {
      "text/plain": [
       "0.2508491220970764"
      ]
     },
     "execution_count": 46,
     "metadata": {},
     "output_type": "execute_result"
    }
   ],
   "source": [
    "m1.fit(X_train,y_train)\n",
    "\n",
    "mean_absolute_percentage_error(np.exp(y_test),np.exp(m1.predict(X_test)))"
   ]
  },
  {
   "cell_type": "code",
   "execution_count": 47,
   "id": "c75de889",
   "metadata": {},
   "outputs": [
    {
     "data": {
      "text/plain": [
       "219747.79057167866"
      ]
     },
     "execution_count": 47,
     "metadata": {},
     "output_type": "execute_result"
    }
   ],
   "source": [
    "mean_absolute_error(np.exp(y_test),np.exp(m1.predict(X_test)))"
   ]
  },
  {
   "cell_type": "code",
   "execution_count": null,
   "id": "e51ef76c",
   "metadata": {},
   "outputs": [],
   "source": []
  },
  {
   "cell_type": "code",
   "execution_count": 85,
   "id": "f41e0b61",
   "metadata": {},
   "outputs": [],
   "source": [
    "ind = np.random.randint(0, 10000, size = 50)"
   ]
  },
  {
   "cell_type": "code",
   "execution_count": 89,
   "id": "b44068a4",
   "metadata": {},
   "outputs": [
    {
     "name": "stderr",
     "output_type": "stream",
     "text": [
      "X does not have valid feature names, but HistGradientBoostingRegressor was fitted with feature names\n"
     ]
    }
   ],
   "source": [
    "explainer = shap.KernelExplainer(reg.predict, X_test.iloc[ind,])"
   ]
  },
  {
   "cell_type": "code",
   "execution_count": 90,
   "id": "9409afc8",
   "metadata": {},
   "outputs": [
    {
     "data": {
      "application/vnd.jupyter.widget-view+json": {
       "model_id": "22f79a97b4484a068225ccdd180c7f2f",
       "version_major": 2,
       "version_minor": 0
      },
      "text/plain": [
       "  0%|          | 0/50 [00:00<?, ?it/s]"
      ]
     },
     "metadata": {},
     "output_type": "display_data"
    },
    {
     "name": "stderr",
     "output_type": "stream",
     "text": [
      "X does not have valid feature names, but HistGradientBoostingRegressor was fitted with feature names\n",
      "X does not have valid feature names, but HistGradientBoostingRegressor was fitted with feature names\n",
      "The default of 'normalize' will be set to False in version 1.2 and deprecated in version 1.4.\n",
      "If you wish to scale the data, use Pipeline with a StandardScaler in a preprocessing stage. To reproduce the previous behavior:\n",
      "\n",
      "from sklearn.pipeline import make_pipeline\n",
      "\n",
      "model = make_pipeline(StandardScaler(with_mean=False), LassoLarsIC())\n",
      "\n",
      "If you wish to pass a sample_weight parameter, you need to pass it as a fit parameter to each step of the pipeline as follows:\n",
      "\n",
      "kwargs = {s[0] + '__sample_weight': sample_weight for s in model.steps}\n",
      "model.fit(X, y, **kwargs)\n",
      "\n",
      "Set parameter alpha to: original_alpha * np.sqrt(n_samples). \n",
      "X does not have valid feature names, but HistGradientBoostingRegressor was fitted with feature names\n",
      "X does not have valid feature names, but HistGradientBoostingRegressor was fitted with feature names\n",
      "The default of 'normalize' will be set to False in version 1.2 and deprecated in version 1.4.\n",
      "If you wish to scale the data, use Pipeline with a StandardScaler in a preprocessing stage. To reproduce the previous behavior:\n",
      "\n",
      "from sklearn.pipeline import make_pipeline\n",
      "\n",
      "model = make_pipeline(StandardScaler(with_mean=False), LassoLarsIC())\n",
      "\n",
      "If you wish to pass a sample_weight parameter, you need to pass it as a fit parameter to each step of the pipeline as follows:\n",
      "\n",
      "kwargs = {s[0] + '__sample_weight': sample_weight for s in model.steps}\n",
      "model.fit(X, y, **kwargs)\n",
      "\n",
      "Set parameter alpha to: original_alpha * np.sqrt(n_samples). \n",
      "X does not have valid feature names, but HistGradientBoostingRegressor was fitted with feature names\n",
      "X does not have valid feature names, but HistGradientBoostingRegressor was fitted with feature names\n",
      "The default of 'normalize' will be set to False in version 1.2 and deprecated in version 1.4.\n",
      "If you wish to scale the data, use Pipeline with a StandardScaler in a preprocessing stage. To reproduce the previous behavior:\n",
      "\n",
      "from sklearn.pipeline import make_pipeline\n",
      "\n",
      "model = make_pipeline(StandardScaler(with_mean=False), LassoLarsIC())\n",
      "\n",
      "If you wish to pass a sample_weight parameter, you need to pass it as a fit parameter to each step of the pipeline as follows:\n",
      "\n",
      "kwargs = {s[0] + '__sample_weight': sample_weight for s in model.steps}\n",
      "model.fit(X, y, **kwargs)\n",
      "\n",
      "Set parameter alpha to: original_alpha * np.sqrt(n_samples). \n",
      "X does not have valid feature names, but HistGradientBoostingRegressor was fitted with feature names\n",
      "X does not have valid feature names, but HistGradientBoostingRegressor was fitted with feature names\n",
      "The default of 'normalize' will be set to False in version 1.2 and deprecated in version 1.4.\n",
      "If you wish to scale the data, use Pipeline with a StandardScaler in a preprocessing stage. To reproduce the previous behavior:\n",
      "\n",
      "from sklearn.pipeline import make_pipeline\n",
      "\n",
      "model = make_pipeline(StandardScaler(with_mean=False), LassoLarsIC())\n",
      "\n",
      "If you wish to pass a sample_weight parameter, you need to pass it as a fit parameter to each step of the pipeline as follows:\n",
      "\n",
      "kwargs = {s[0] + '__sample_weight': sample_weight for s in model.steps}\n",
      "model.fit(X, y, **kwargs)\n",
      "\n",
      "Set parameter alpha to: original_alpha * np.sqrt(n_samples). \n",
      "X does not have valid feature names, but HistGradientBoostingRegressor was fitted with feature names\n",
      "X does not have valid feature names, but HistGradientBoostingRegressor was fitted with feature names\n",
      "The default of 'normalize' will be set to False in version 1.2 and deprecated in version 1.4.\n",
      "If you wish to scale the data, use Pipeline with a StandardScaler in a preprocessing stage. To reproduce the previous behavior:\n",
      "\n",
      "from sklearn.pipeline import make_pipeline\n",
      "\n",
      "model = make_pipeline(StandardScaler(with_mean=False), LassoLarsIC())\n",
      "\n",
      "If you wish to pass a sample_weight parameter, you need to pass it as a fit parameter to each step of the pipeline as follows:\n",
      "\n",
      "kwargs = {s[0] + '__sample_weight': sample_weight for s in model.steps}\n",
      "model.fit(X, y, **kwargs)\n",
      "\n",
      "Set parameter alpha to: original_alpha * np.sqrt(n_samples). \n",
      "X does not have valid feature names, but HistGradientBoostingRegressor was fitted with feature names\n",
      "X does not have valid feature names, but HistGradientBoostingRegressor was fitted with feature names\n",
      "The default of 'normalize' will be set to False in version 1.2 and deprecated in version 1.4.\n",
      "If you wish to scale the data, use Pipeline with a StandardScaler in a preprocessing stage. To reproduce the previous behavior:\n",
      "\n",
      "from sklearn.pipeline import make_pipeline\n",
      "\n",
      "model = make_pipeline(StandardScaler(with_mean=False), LassoLarsIC())\n",
      "\n",
      "If you wish to pass a sample_weight parameter, you need to pass it as a fit parameter to each step of the pipeline as follows:\n",
      "\n",
      "kwargs = {s[0] + '__sample_weight': sample_weight for s in model.steps}\n",
      "model.fit(X, y, **kwargs)\n",
      "\n",
      "Set parameter alpha to: original_alpha * np.sqrt(n_samples). \n",
      "X does not have valid feature names, but HistGradientBoostingRegressor was fitted with feature names\n",
      "X does not have valid feature names, but HistGradientBoostingRegressor was fitted with feature names\n",
      "The default of 'normalize' will be set to False in version 1.2 and deprecated in version 1.4.\n",
      "If you wish to scale the data, use Pipeline with a StandardScaler in a preprocessing stage. To reproduce the previous behavior:\n",
      "\n",
      "from sklearn.pipeline import make_pipeline\n",
      "\n",
      "model = make_pipeline(StandardScaler(with_mean=False), LassoLarsIC())\n",
      "\n",
      "If you wish to pass a sample_weight parameter, you need to pass it as a fit parameter to each step of the pipeline as follows:\n",
      "\n",
      "kwargs = {s[0] + '__sample_weight': sample_weight for s in model.steps}\n",
      "model.fit(X, y, **kwargs)\n",
      "\n",
      "Set parameter alpha to: original_alpha * np.sqrt(n_samples). \n",
      "X does not have valid feature names, but HistGradientBoostingRegressor was fitted with feature names\n",
      "X does not have valid feature names, but HistGradientBoostingRegressor was fitted with feature names\n",
      "The default of 'normalize' will be set to False in version 1.2 and deprecated in version 1.4.\n",
      "If you wish to scale the data, use Pipeline with a StandardScaler in a preprocessing stage. To reproduce the previous behavior:\n",
      "\n",
      "from sklearn.pipeline import make_pipeline\n",
      "\n",
      "model = make_pipeline(StandardScaler(with_mean=False), LassoLarsIC())\n",
      "\n",
      "If you wish to pass a sample_weight parameter, you need to pass it as a fit parameter to each step of the pipeline as follows:\n",
      "\n",
      "kwargs = {s[0] + '__sample_weight': sample_weight for s in model.steps}\n",
      "model.fit(X, y, **kwargs)\n",
      "\n",
      "Set parameter alpha to: original_alpha * np.sqrt(n_samples). \n",
      "X does not have valid feature names, but HistGradientBoostingRegressor was fitted with feature names\n",
      "X does not have valid feature names, but HistGradientBoostingRegressor was fitted with feature names\n",
      "The default of 'normalize' will be set to False in version 1.2 and deprecated in version 1.4.\n",
      "If you wish to scale the data, use Pipeline with a StandardScaler in a preprocessing stage. To reproduce the previous behavior:\n",
      "\n",
      "from sklearn.pipeline import make_pipeline\n",
      "\n",
      "model = make_pipeline(StandardScaler(with_mean=False), LassoLarsIC())\n",
      "\n",
      "If you wish to pass a sample_weight parameter, you need to pass it as a fit parameter to each step of the pipeline as follows:\n",
      "\n",
      "kwargs = {s[0] + '__sample_weight': sample_weight for s in model.steps}\n",
      "model.fit(X, y, **kwargs)\n",
      "\n",
      "Set parameter alpha to: original_alpha * np.sqrt(n_samples). \n",
      "X does not have valid feature names, but HistGradientBoostingRegressor was fitted with feature names\n",
      "X does not have valid feature names, but HistGradientBoostingRegressor was fitted with feature names\n",
      "The default of 'normalize' will be set to False in version 1.2 and deprecated in version 1.4.\n",
      "If you wish to scale the data, use Pipeline with a StandardScaler in a preprocessing stage. To reproduce the previous behavior:\n",
      "\n",
      "from sklearn.pipeline import make_pipeline\n",
      "\n",
      "model = make_pipeline(StandardScaler(with_mean=False), LassoLarsIC())\n",
      "\n",
      "If you wish to pass a sample_weight parameter, you need to pass it as a fit parameter to each step of the pipeline as follows:\n",
      "\n",
      "kwargs = {s[0] + '__sample_weight': sample_weight for s in model.steps}\n",
      "model.fit(X, y, **kwargs)\n",
      "\n",
      "Set parameter alpha to: original_alpha * np.sqrt(n_samples). \n",
      "X does not have valid feature names, but HistGradientBoostingRegressor was fitted with feature names\n"
     ]
    },
    {
     "name": "stderr",
     "output_type": "stream",
     "text": [
      "X does not have valid feature names, but HistGradientBoostingRegressor was fitted with feature names\n",
      "The default of 'normalize' will be set to False in version 1.2 and deprecated in version 1.4.\n",
      "If you wish to scale the data, use Pipeline with a StandardScaler in a preprocessing stage. To reproduce the previous behavior:\n",
      "\n",
      "from sklearn.pipeline import make_pipeline\n",
      "\n",
      "model = make_pipeline(StandardScaler(with_mean=False), LassoLarsIC())\n",
      "\n",
      "If you wish to pass a sample_weight parameter, you need to pass it as a fit parameter to each step of the pipeline as follows:\n",
      "\n",
      "kwargs = {s[0] + '__sample_weight': sample_weight for s in model.steps}\n",
      "model.fit(X, y, **kwargs)\n",
      "\n",
      "Set parameter alpha to: original_alpha * np.sqrt(n_samples). \n",
      "X does not have valid feature names, but HistGradientBoostingRegressor was fitted with feature names\n",
      "X does not have valid feature names, but HistGradientBoostingRegressor was fitted with feature names\n",
      "The default of 'normalize' will be set to False in version 1.2 and deprecated in version 1.4.\n",
      "If you wish to scale the data, use Pipeline with a StandardScaler in a preprocessing stage. To reproduce the previous behavior:\n",
      "\n",
      "from sklearn.pipeline import make_pipeline\n",
      "\n",
      "model = make_pipeline(StandardScaler(with_mean=False), LassoLarsIC())\n",
      "\n",
      "If you wish to pass a sample_weight parameter, you need to pass it as a fit parameter to each step of the pipeline as follows:\n",
      "\n",
      "kwargs = {s[0] + '__sample_weight': sample_weight for s in model.steps}\n",
      "model.fit(X, y, **kwargs)\n",
      "\n",
      "Set parameter alpha to: original_alpha * np.sqrt(n_samples). \n",
      "X does not have valid feature names, but HistGradientBoostingRegressor was fitted with feature names\n",
      "X does not have valid feature names, but HistGradientBoostingRegressor was fitted with feature names\n",
      "The default of 'normalize' will be set to False in version 1.2 and deprecated in version 1.4.\n",
      "If you wish to scale the data, use Pipeline with a StandardScaler in a preprocessing stage. To reproduce the previous behavior:\n",
      "\n",
      "from sklearn.pipeline import make_pipeline\n",
      "\n",
      "model = make_pipeline(StandardScaler(with_mean=False), LassoLarsIC())\n",
      "\n",
      "If you wish to pass a sample_weight parameter, you need to pass it as a fit parameter to each step of the pipeline as follows:\n",
      "\n",
      "kwargs = {s[0] + '__sample_weight': sample_weight for s in model.steps}\n",
      "model.fit(X, y, **kwargs)\n",
      "\n",
      "Set parameter alpha to: original_alpha * np.sqrt(n_samples). \n",
      "X does not have valid feature names, but HistGradientBoostingRegressor was fitted with feature names\n",
      "X does not have valid feature names, but HistGradientBoostingRegressor was fitted with feature names\n",
      "The default of 'normalize' will be set to False in version 1.2 and deprecated in version 1.4.\n",
      "If you wish to scale the data, use Pipeline with a StandardScaler in a preprocessing stage. To reproduce the previous behavior:\n",
      "\n",
      "from sklearn.pipeline import make_pipeline\n",
      "\n",
      "model = make_pipeline(StandardScaler(with_mean=False), LassoLarsIC())\n",
      "\n",
      "If you wish to pass a sample_weight parameter, you need to pass it as a fit parameter to each step of the pipeline as follows:\n",
      "\n",
      "kwargs = {s[0] + '__sample_weight': sample_weight for s in model.steps}\n",
      "model.fit(X, y, **kwargs)\n",
      "\n",
      "Set parameter alpha to: original_alpha * np.sqrt(n_samples). \n",
      "X does not have valid feature names, but HistGradientBoostingRegressor was fitted with feature names\n",
      "X does not have valid feature names, but HistGradientBoostingRegressor was fitted with feature names\n",
      "The default of 'normalize' will be set to False in version 1.2 and deprecated in version 1.4.\n",
      "If you wish to scale the data, use Pipeline with a StandardScaler in a preprocessing stage. To reproduce the previous behavior:\n",
      "\n",
      "from sklearn.pipeline import make_pipeline\n",
      "\n",
      "model = make_pipeline(StandardScaler(with_mean=False), LassoLarsIC())\n",
      "\n",
      "If you wish to pass a sample_weight parameter, you need to pass it as a fit parameter to each step of the pipeline as follows:\n",
      "\n",
      "kwargs = {s[0] + '__sample_weight': sample_weight for s in model.steps}\n",
      "model.fit(X, y, **kwargs)\n",
      "\n",
      "Set parameter alpha to: original_alpha * np.sqrt(n_samples). \n",
      "X does not have valid feature names, but HistGradientBoostingRegressor was fitted with feature names\n",
      "X does not have valid feature names, but HistGradientBoostingRegressor was fitted with feature names\n",
      "The default of 'normalize' will be set to False in version 1.2 and deprecated in version 1.4.\n",
      "If you wish to scale the data, use Pipeline with a StandardScaler in a preprocessing stage. To reproduce the previous behavior:\n",
      "\n",
      "from sklearn.pipeline import make_pipeline\n",
      "\n",
      "model = make_pipeline(StandardScaler(with_mean=False), LassoLarsIC())\n",
      "\n",
      "If you wish to pass a sample_weight parameter, you need to pass it as a fit parameter to each step of the pipeline as follows:\n",
      "\n",
      "kwargs = {s[0] + '__sample_weight': sample_weight for s in model.steps}\n",
      "model.fit(X, y, **kwargs)\n",
      "\n",
      "Set parameter alpha to: original_alpha * np.sqrt(n_samples). \n",
      "X does not have valid feature names, but HistGradientBoostingRegressor was fitted with feature names\n",
      "X does not have valid feature names, but HistGradientBoostingRegressor was fitted with feature names\n",
      "The default of 'normalize' will be set to False in version 1.2 and deprecated in version 1.4.\n",
      "If you wish to scale the data, use Pipeline with a StandardScaler in a preprocessing stage. To reproduce the previous behavior:\n",
      "\n",
      "from sklearn.pipeline import make_pipeline\n",
      "\n",
      "model = make_pipeline(StandardScaler(with_mean=False), LassoLarsIC())\n",
      "\n",
      "If you wish to pass a sample_weight parameter, you need to pass it as a fit parameter to each step of the pipeline as follows:\n",
      "\n",
      "kwargs = {s[0] + '__sample_weight': sample_weight for s in model.steps}\n",
      "model.fit(X, y, **kwargs)\n",
      "\n",
      "Set parameter alpha to: original_alpha * np.sqrt(n_samples). \n",
      "X does not have valid feature names, but HistGradientBoostingRegressor was fitted with feature names\n",
      "X does not have valid feature names, but HistGradientBoostingRegressor was fitted with feature names\n",
      "The default of 'normalize' will be set to False in version 1.2 and deprecated in version 1.4.\n",
      "If you wish to scale the data, use Pipeline with a StandardScaler in a preprocessing stage. To reproduce the previous behavior:\n",
      "\n",
      "from sklearn.pipeline import make_pipeline\n",
      "\n",
      "model = make_pipeline(StandardScaler(with_mean=False), LassoLarsIC())\n",
      "\n",
      "If you wish to pass a sample_weight parameter, you need to pass it as a fit parameter to each step of the pipeline as follows:\n",
      "\n",
      "kwargs = {s[0] + '__sample_weight': sample_weight for s in model.steps}\n",
      "model.fit(X, y, **kwargs)\n",
      "\n",
      "Set parameter alpha to: original_alpha * np.sqrt(n_samples). \n",
      "X does not have valid feature names, but HistGradientBoostingRegressor was fitted with feature names\n",
      "X does not have valid feature names, but HistGradientBoostingRegressor was fitted with feature names\n",
      "The default of 'normalize' will be set to False in version 1.2 and deprecated in version 1.4.\n",
      "If you wish to scale the data, use Pipeline with a StandardScaler in a preprocessing stage. To reproduce the previous behavior:\n",
      "\n",
      "from sklearn.pipeline import make_pipeline\n",
      "\n",
      "model = make_pipeline(StandardScaler(with_mean=False), LassoLarsIC())\n",
      "\n",
      "If you wish to pass a sample_weight parameter, you need to pass it as a fit parameter to each step of the pipeline as follows:\n",
      "\n",
      "kwargs = {s[0] + '__sample_weight': sample_weight for s in model.steps}\n",
      "model.fit(X, y, **kwargs)\n",
      "\n",
      "Set parameter alpha to: original_alpha * np.sqrt(n_samples). \n",
      "X does not have valid feature names, but HistGradientBoostingRegressor was fitted with feature names\n",
      "X does not have valid feature names, but HistGradientBoostingRegressor was fitted with feature names\n",
      "The default of 'normalize' will be set to False in version 1.2 and deprecated in version 1.4.\n",
      "If you wish to scale the data, use Pipeline with a StandardScaler in a preprocessing stage. To reproduce the previous behavior:\n",
      "\n",
      "from sklearn.pipeline import make_pipeline\n",
      "\n",
      "model = make_pipeline(StandardScaler(with_mean=False), LassoLarsIC())\n",
      "\n",
      "If you wish to pass a sample_weight parameter, you need to pass it as a fit parameter to each step of the pipeline as follows:\n",
      "\n",
      "kwargs = {s[0] + '__sample_weight': sample_weight for s in model.steps}\n",
      "model.fit(X, y, **kwargs)\n",
      "\n",
      "Set parameter alpha to: original_alpha * np.sqrt(n_samples). \n",
      "X does not have valid feature names, but HistGradientBoostingRegressor was fitted with feature names\n"
     ]
    },
    {
     "name": "stderr",
     "output_type": "stream",
     "text": [
      "X does not have valid feature names, but HistGradientBoostingRegressor was fitted with feature names\n",
      "The default of 'normalize' will be set to False in version 1.2 and deprecated in version 1.4.\n",
      "If you wish to scale the data, use Pipeline with a StandardScaler in a preprocessing stage. To reproduce the previous behavior:\n",
      "\n",
      "from sklearn.pipeline import make_pipeline\n",
      "\n",
      "model = make_pipeline(StandardScaler(with_mean=False), LassoLarsIC())\n",
      "\n",
      "If you wish to pass a sample_weight parameter, you need to pass it as a fit parameter to each step of the pipeline as follows:\n",
      "\n",
      "kwargs = {s[0] + '__sample_weight': sample_weight for s in model.steps}\n",
      "model.fit(X, y, **kwargs)\n",
      "\n",
      "Set parameter alpha to: original_alpha * np.sqrt(n_samples). \n",
      "X does not have valid feature names, but HistGradientBoostingRegressor was fitted with feature names\n",
      "X does not have valid feature names, but HistGradientBoostingRegressor was fitted with feature names\n",
      "The default of 'normalize' will be set to False in version 1.2 and deprecated in version 1.4.\n",
      "If you wish to scale the data, use Pipeline with a StandardScaler in a preprocessing stage. To reproduce the previous behavior:\n",
      "\n",
      "from sklearn.pipeline import make_pipeline\n",
      "\n",
      "model = make_pipeline(StandardScaler(with_mean=False), LassoLarsIC())\n",
      "\n",
      "If you wish to pass a sample_weight parameter, you need to pass it as a fit parameter to each step of the pipeline as follows:\n",
      "\n",
      "kwargs = {s[0] + '__sample_weight': sample_weight for s in model.steps}\n",
      "model.fit(X, y, **kwargs)\n",
      "\n",
      "Set parameter alpha to: original_alpha * np.sqrt(n_samples). \n",
      "X does not have valid feature names, but HistGradientBoostingRegressor was fitted with feature names\n",
      "X does not have valid feature names, but HistGradientBoostingRegressor was fitted with feature names\n",
      "The default of 'normalize' will be set to False in version 1.2 and deprecated in version 1.4.\n",
      "If you wish to scale the data, use Pipeline with a StandardScaler in a preprocessing stage. To reproduce the previous behavior:\n",
      "\n",
      "from sklearn.pipeline import make_pipeline\n",
      "\n",
      "model = make_pipeline(StandardScaler(with_mean=False), LassoLarsIC())\n",
      "\n",
      "If you wish to pass a sample_weight parameter, you need to pass it as a fit parameter to each step of the pipeline as follows:\n",
      "\n",
      "kwargs = {s[0] + '__sample_weight': sample_weight for s in model.steps}\n",
      "model.fit(X, y, **kwargs)\n",
      "\n",
      "Set parameter alpha to: original_alpha * np.sqrt(n_samples). \n",
      "X does not have valid feature names, but HistGradientBoostingRegressor was fitted with feature names\n",
      "X does not have valid feature names, but HistGradientBoostingRegressor was fitted with feature names\n",
      "The default of 'normalize' will be set to False in version 1.2 and deprecated in version 1.4.\n",
      "If you wish to scale the data, use Pipeline with a StandardScaler in a preprocessing stage. To reproduce the previous behavior:\n",
      "\n",
      "from sklearn.pipeline import make_pipeline\n",
      "\n",
      "model = make_pipeline(StandardScaler(with_mean=False), LassoLarsIC())\n",
      "\n",
      "If you wish to pass a sample_weight parameter, you need to pass it as a fit parameter to each step of the pipeline as follows:\n",
      "\n",
      "kwargs = {s[0] + '__sample_weight': sample_weight for s in model.steps}\n",
      "model.fit(X, y, **kwargs)\n",
      "\n",
      "Set parameter alpha to: original_alpha * np.sqrt(n_samples). \n",
      "X does not have valid feature names, but HistGradientBoostingRegressor was fitted with feature names\n",
      "X does not have valid feature names, but HistGradientBoostingRegressor was fitted with feature names\n",
      "The default of 'normalize' will be set to False in version 1.2 and deprecated in version 1.4.\n",
      "If you wish to scale the data, use Pipeline with a StandardScaler in a preprocessing stage. To reproduce the previous behavior:\n",
      "\n",
      "from sklearn.pipeline import make_pipeline\n",
      "\n",
      "model = make_pipeline(StandardScaler(with_mean=False), LassoLarsIC())\n",
      "\n",
      "If you wish to pass a sample_weight parameter, you need to pass it as a fit parameter to each step of the pipeline as follows:\n",
      "\n",
      "kwargs = {s[0] + '__sample_weight': sample_weight for s in model.steps}\n",
      "model.fit(X, y, **kwargs)\n",
      "\n",
      "Set parameter alpha to: original_alpha * np.sqrt(n_samples). \n",
      "X does not have valid feature names, but HistGradientBoostingRegressor was fitted with feature names\n",
      "X does not have valid feature names, but HistGradientBoostingRegressor was fitted with feature names\n",
      "The default of 'normalize' will be set to False in version 1.2 and deprecated in version 1.4.\n",
      "If you wish to scale the data, use Pipeline with a StandardScaler in a preprocessing stage. To reproduce the previous behavior:\n",
      "\n",
      "from sklearn.pipeline import make_pipeline\n",
      "\n",
      "model = make_pipeline(StandardScaler(with_mean=False), LassoLarsIC())\n",
      "\n",
      "If you wish to pass a sample_weight parameter, you need to pass it as a fit parameter to each step of the pipeline as follows:\n",
      "\n",
      "kwargs = {s[0] + '__sample_weight': sample_weight for s in model.steps}\n",
      "model.fit(X, y, **kwargs)\n",
      "\n",
      "Set parameter alpha to: original_alpha * np.sqrt(n_samples). \n",
      "X does not have valid feature names, but HistGradientBoostingRegressor was fitted with feature names\n",
      "X does not have valid feature names, but HistGradientBoostingRegressor was fitted with feature names\n",
      "The default of 'normalize' will be set to False in version 1.2 and deprecated in version 1.4.\n",
      "If you wish to scale the data, use Pipeline with a StandardScaler in a preprocessing stage. To reproduce the previous behavior:\n",
      "\n",
      "from sklearn.pipeline import make_pipeline\n",
      "\n",
      "model = make_pipeline(StandardScaler(with_mean=False), LassoLarsIC())\n",
      "\n",
      "If you wish to pass a sample_weight parameter, you need to pass it as a fit parameter to each step of the pipeline as follows:\n",
      "\n",
      "kwargs = {s[0] + '__sample_weight': sample_weight for s in model.steps}\n",
      "model.fit(X, y, **kwargs)\n",
      "\n",
      "Set parameter alpha to: original_alpha * np.sqrt(n_samples). \n",
      "X does not have valid feature names, but HistGradientBoostingRegressor was fitted with feature names\n",
      "X does not have valid feature names, but HistGradientBoostingRegressor was fitted with feature names\n",
      "The default of 'normalize' will be set to False in version 1.2 and deprecated in version 1.4.\n",
      "If you wish to scale the data, use Pipeline with a StandardScaler in a preprocessing stage. To reproduce the previous behavior:\n",
      "\n",
      "from sklearn.pipeline import make_pipeline\n",
      "\n",
      "model = make_pipeline(StandardScaler(with_mean=False), LassoLarsIC())\n",
      "\n",
      "If you wish to pass a sample_weight parameter, you need to pass it as a fit parameter to each step of the pipeline as follows:\n",
      "\n",
      "kwargs = {s[0] + '__sample_weight': sample_weight for s in model.steps}\n",
      "model.fit(X, y, **kwargs)\n",
      "\n",
      "Set parameter alpha to: original_alpha * np.sqrt(n_samples). \n",
      "X does not have valid feature names, but HistGradientBoostingRegressor was fitted with feature names\n",
      "X does not have valid feature names, but HistGradientBoostingRegressor was fitted with feature names\n",
      "The default of 'normalize' will be set to False in version 1.2 and deprecated in version 1.4.\n",
      "If you wish to scale the data, use Pipeline with a StandardScaler in a preprocessing stage. To reproduce the previous behavior:\n",
      "\n",
      "from sklearn.pipeline import make_pipeline\n",
      "\n",
      "model = make_pipeline(StandardScaler(with_mean=False), LassoLarsIC())\n",
      "\n",
      "If you wish to pass a sample_weight parameter, you need to pass it as a fit parameter to each step of the pipeline as follows:\n",
      "\n",
      "kwargs = {s[0] + '__sample_weight': sample_weight for s in model.steps}\n",
      "model.fit(X, y, **kwargs)\n",
      "\n",
      "Set parameter alpha to: original_alpha * np.sqrt(n_samples). \n",
      "X does not have valid feature names, but HistGradientBoostingRegressor was fitted with feature names\n",
      "X does not have valid feature names, but HistGradientBoostingRegressor was fitted with feature names\n",
      "The default of 'normalize' will be set to False in version 1.2 and deprecated in version 1.4.\n",
      "If you wish to scale the data, use Pipeline with a StandardScaler in a preprocessing stage. To reproduce the previous behavior:\n",
      "\n",
      "from sklearn.pipeline import make_pipeline\n",
      "\n",
      "model = make_pipeline(StandardScaler(with_mean=False), LassoLarsIC())\n",
      "\n",
      "If you wish to pass a sample_weight parameter, you need to pass it as a fit parameter to each step of the pipeline as follows:\n",
      "\n",
      "kwargs = {s[0] + '__sample_weight': sample_weight for s in model.steps}\n",
      "model.fit(X, y, **kwargs)\n",
      "\n",
      "Set parameter alpha to: original_alpha * np.sqrt(n_samples). \n",
      "X does not have valid feature names, but HistGradientBoostingRegressor was fitted with feature names\n"
     ]
    },
    {
     "name": "stderr",
     "output_type": "stream",
     "text": [
      "X does not have valid feature names, but HistGradientBoostingRegressor was fitted with feature names\n",
      "The default of 'normalize' will be set to False in version 1.2 and deprecated in version 1.4.\n",
      "If you wish to scale the data, use Pipeline with a StandardScaler in a preprocessing stage. To reproduce the previous behavior:\n",
      "\n",
      "from sklearn.pipeline import make_pipeline\n",
      "\n",
      "model = make_pipeline(StandardScaler(with_mean=False), LassoLarsIC())\n",
      "\n",
      "If you wish to pass a sample_weight parameter, you need to pass it as a fit parameter to each step of the pipeline as follows:\n",
      "\n",
      "kwargs = {s[0] + '__sample_weight': sample_weight for s in model.steps}\n",
      "model.fit(X, y, **kwargs)\n",
      "\n",
      "Set parameter alpha to: original_alpha * np.sqrt(n_samples). \n",
      "X does not have valid feature names, but HistGradientBoostingRegressor was fitted with feature names\n",
      "X does not have valid feature names, but HistGradientBoostingRegressor was fitted with feature names\n",
      "The default of 'normalize' will be set to False in version 1.2 and deprecated in version 1.4.\n",
      "If you wish to scale the data, use Pipeline with a StandardScaler in a preprocessing stage. To reproduce the previous behavior:\n",
      "\n",
      "from sklearn.pipeline import make_pipeline\n",
      "\n",
      "model = make_pipeline(StandardScaler(with_mean=False), LassoLarsIC())\n",
      "\n",
      "If you wish to pass a sample_weight parameter, you need to pass it as a fit parameter to each step of the pipeline as follows:\n",
      "\n",
      "kwargs = {s[0] + '__sample_weight': sample_weight for s in model.steps}\n",
      "model.fit(X, y, **kwargs)\n",
      "\n",
      "Set parameter alpha to: original_alpha * np.sqrt(n_samples). \n",
      "X does not have valid feature names, but HistGradientBoostingRegressor was fitted with feature names\n",
      "X does not have valid feature names, but HistGradientBoostingRegressor was fitted with feature names\n",
      "The default of 'normalize' will be set to False in version 1.2 and deprecated in version 1.4.\n",
      "If you wish to scale the data, use Pipeline with a StandardScaler in a preprocessing stage. To reproduce the previous behavior:\n",
      "\n",
      "from sklearn.pipeline import make_pipeline\n",
      "\n",
      "model = make_pipeline(StandardScaler(with_mean=False), LassoLarsIC())\n",
      "\n",
      "If you wish to pass a sample_weight parameter, you need to pass it as a fit parameter to each step of the pipeline as follows:\n",
      "\n",
      "kwargs = {s[0] + '__sample_weight': sample_weight for s in model.steps}\n",
      "model.fit(X, y, **kwargs)\n",
      "\n",
      "Set parameter alpha to: original_alpha * np.sqrt(n_samples). \n",
      "X does not have valid feature names, but HistGradientBoostingRegressor was fitted with feature names\n",
      "X does not have valid feature names, but HistGradientBoostingRegressor was fitted with feature names\n",
      "The default of 'normalize' will be set to False in version 1.2 and deprecated in version 1.4.\n",
      "If you wish to scale the data, use Pipeline with a StandardScaler in a preprocessing stage. To reproduce the previous behavior:\n",
      "\n",
      "from sklearn.pipeline import make_pipeline\n",
      "\n",
      "model = make_pipeline(StandardScaler(with_mean=False), LassoLarsIC())\n",
      "\n",
      "If you wish to pass a sample_weight parameter, you need to pass it as a fit parameter to each step of the pipeline as follows:\n",
      "\n",
      "kwargs = {s[0] + '__sample_weight': sample_weight for s in model.steps}\n",
      "model.fit(X, y, **kwargs)\n",
      "\n",
      "Set parameter alpha to: original_alpha * np.sqrt(n_samples). \n",
      "X does not have valid feature names, but HistGradientBoostingRegressor was fitted with feature names\n",
      "X does not have valid feature names, but HistGradientBoostingRegressor was fitted with feature names\n",
      "The default of 'normalize' will be set to False in version 1.2 and deprecated in version 1.4.\n",
      "If you wish to scale the data, use Pipeline with a StandardScaler in a preprocessing stage. To reproduce the previous behavior:\n",
      "\n",
      "from sklearn.pipeline import make_pipeline\n",
      "\n",
      "model = make_pipeline(StandardScaler(with_mean=False), LassoLarsIC())\n",
      "\n",
      "If you wish to pass a sample_weight parameter, you need to pass it as a fit parameter to each step of the pipeline as follows:\n",
      "\n",
      "kwargs = {s[0] + '__sample_weight': sample_weight for s in model.steps}\n",
      "model.fit(X, y, **kwargs)\n",
      "\n",
      "Set parameter alpha to: original_alpha * np.sqrt(n_samples). \n",
      "X does not have valid feature names, but HistGradientBoostingRegressor was fitted with feature names\n",
      "X does not have valid feature names, but HistGradientBoostingRegressor was fitted with feature names\n",
      "The default of 'normalize' will be set to False in version 1.2 and deprecated in version 1.4.\n",
      "If you wish to scale the data, use Pipeline with a StandardScaler in a preprocessing stage. To reproduce the previous behavior:\n",
      "\n",
      "from sklearn.pipeline import make_pipeline\n",
      "\n",
      "model = make_pipeline(StandardScaler(with_mean=False), LassoLarsIC())\n",
      "\n",
      "If you wish to pass a sample_weight parameter, you need to pass it as a fit parameter to each step of the pipeline as follows:\n",
      "\n",
      "kwargs = {s[0] + '__sample_weight': sample_weight for s in model.steps}\n",
      "model.fit(X, y, **kwargs)\n",
      "\n",
      "Set parameter alpha to: original_alpha * np.sqrt(n_samples). \n",
      "X does not have valid feature names, but HistGradientBoostingRegressor was fitted with feature names\n",
      "X does not have valid feature names, but HistGradientBoostingRegressor was fitted with feature names\n",
      "The default of 'normalize' will be set to False in version 1.2 and deprecated in version 1.4.\n",
      "If you wish to scale the data, use Pipeline with a StandardScaler in a preprocessing stage. To reproduce the previous behavior:\n",
      "\n",
      "from sklearn.pipeline import make_pipeline\n",
      "\n",
      "model = make_pipeline(StandardScaler(with_mean=False), LassoLarsIC())\n",
      "\n",
      "If you wish to pass a sample_weight parameter, you need to pass it as a fit parameter to each step of the pipeline as follows:\n",
      "\n",
      "kwargs = {s[0] + '__sample_weight': sample_weight for s in model.steps}\n",
      "model.fit(X, y, **kwargs)\n",
      "\n",
      "Set parameter alpha to: original_alpha * np.sqrt(n_samples). \n",
      "X does not have valid feature names, but HistGradientBoostingRegressor was fitted with feature names\n",
      "X does not have valid feature names, but HistGradientBoostingRegressor was fitted with feature names\n",
      "The default of 'normalize' will be set to False in version 1.2 and deprecated in version 1.4.\n",
      "If you wish to scale the data, use Pipeline with a StandardScaler in a preprocessing stage. To reproduce the previous behavior:\n",
      "\n",
      "from sklearn.pipeline import make_pipeline\n",
      "\n",
      "model = make_pipeline(StandardScaler(with_mean=False), LassoLarsIC())\n",
      "\n",
      "If you wish to pass a sample_weight parameter, you need to pass it as a fit parameter to each step of the pipeline as follows:\n",
      "\n",
      "kwargs = {s[0] + '__sample_weight': sample_weight for s in model.steps}\n",
      "model.fit(X, y, **kwargs)\n",
      "\n",
      "Set parameter alpha to: original_alpha * np.sqrt(n_samples). \n",
      "X does not have valid feature names, but HistGradientBoostingRegressor was fitted with feature names\n",
      "X does not have valid feature names, but HistGradientBoostingRegressor was fitted with feature names\n",
      "The default of 'normalize' will be set to False in version 1.2 and deprecated in version 1.4.\n",
      "If you wish to scale the data, use Pipeline with a StandardScaler in a preprocessing stage. To reproduce the previous behavior:\n",
      "\n",
      "from sklearn.pipeline import make_pipeline\n",
      "\n",
      "model = make_pipeline(StandardScaler(with_mean=False), LassoLarsIC())\n",
      "\n",
      "If you wish to pass a sample_weight parameter, you need to pass it as a fit parameter to each step of the pipeline as follows:\n",
      "\n",
      "kwargs = {s[0] + '__sample_weight': sample_weight for s in model.steps}\n",
      "model.fit(X, y, **kwargs)\n",
      "\n",
      "Set parameter alpha to: original_alpha * np.sqrt(n_samples). \n",
      "X does not have valid feature names, but HistGradientBoostingRegressor was fitted with feature names\n",
      "X does not have valid feature names, but HistGradientBoostingRegressor was fitted with feature names\n",
      "The default of 'normalize' will be set to False in version 1.2 and deprecated in version 1.4.\n",
      "If you wish to scale the data, use Pipeline with a StandardScaler in a preprocessing stage. To reproduce the previous behavior:\n",
      "\n",
      "from sklearn.pipeline import make_pipeline\n",
      "\n",
      "model = make_pipeline(StandardScaler(with_mean=False), LassoLarsIC())\n",
      "\n",
      "If you wish to pass a sample_weight parameter, you need to pass it as a fit parameter to each step of the pipeline as follows:\n",
      "\n",
      "kwargs = {s[0] + '__sample_weight': sample_weight for s in model.steps}\n",
      "model.fit(X, y, **kwargs)\n",
      "\n",
      "Set parameter alpha to: original_alpha * np.sqrt(n_samples). \n",
      "X does not have valid feature names, but HistGradientBoostingRegressor was fitted with feature names\n"
     ]
    },
    {
     "name": "stderr",
     "output_type": "stream",
     "text": [
      "X does not have valid feature names, but HistGradientBoostingRegressor was fitted with feature names\n",
      "The default of 'normalize' will be set to False in version 1.2 and deprecated in version 1.4.\n",
      "If you wish to scale the data, use Pipeline with a StandardScaler in a preprocessing stage. To reproduce the previous behavior:\n",
      "\n",
      "from sklearn.pipeline import make_pipeline\n",
      "\n",
      "model = make_pipeline(StandardScaler(with_mean=False), LassoLarsIC())\n",
      "\n",
      "If you wish to pass a sample_weight parameter, you need to pass it as a fit parameter to each step of the pipeline as follows:\n",
      "\n",
      "kwargs = {s[0] + '__sample_weight': sample_weight for s in model.steps}\n",
      "model.fit(X, y, **kwargs)\n",
      "\n",
      "Set parameter alpha to: original_alpha * np.sqrt(n_samples). \n",
      "X does not have valid feature names, but HistGradientBoostingRegressor was fitted with feature names\n",
      "X does not have valid feature names, but HistGradientBoostingRegressor was fitted with feature names\n",
      "The default of 'normalize' will be set to False in version 1.2 and deprecated in version 1.4.\n",
      "If you wish to scale the data, use Pipeline with a StandardScaler in a preprocessing stage. To reproduce the previous behavior:\n",
      "\n",
      "from sklearn.pipeline import make_pipeline\n",
      "\n",
      "model = make_pipeline(StandardScaler(with_mean=False), LassoLarsIC())\n",
      "\n",
      "If you wish to pass a sample_weight parameter, you need to pass it as a fit parameter to each step of the pipeline as follows:\n",
      "\n",
      "kwargs = {s[0] + '__sample_weight': sample_weight for s in model.steps}\n",
      "model.fit(X, y, **kwargs)\n",
      "\n",
      "Set parameter alpha to: original_alpha * np.sqrt(n_samples). \n",
      "X does not have valid feature names, but HistGradientBoostingRegressor was fitted with feature names\n",
      "X does not have valid feature names, but HistGradientBoostingRegressor was fitted with feature names\n",
      "The default of 'normalize' will be set to False in version 1.2 and deprecated in version 1.4.\n",
      "If you wish to scale the data, use Pipeline with a StandardScaler in a preprocessing stage. To reproduce the previous behavior:\n",
      "\n",
      "from sklearn.pipeline import make_pipeline\n",
      "\n",
      "model = make_pipeline(StandardScaler(with_mean=False), LassoLarsIC())\n",
      "\n",
      "If you wish to pass a sample_weight parameter, you need to pass it as a fit parameter to each step of the pipeline as follows:\n",
      "\n",
      "kwargs = {s[0] + '__sample_weight': sample_weight for s in model.steps}\n",
      "model.fit(X, y, **kwargs)\n",
      "\n",
      "Set parameter alpha to: original_alpha * np.sqrt(n_samples). \n",
      "X does not have valid feature names, but HistGradientBoostingRegressor was fitted with feature names\n",
      "X does not have valid feature names, but HistGradientBoostingRegressor was fitted with feature names\n",
      "The default of 'normalize' will be set to False in version 1.2 and deprecated in version 1.4.\n",
      "If you wish to scale the data, use Pipeline with a StandardScaler in a preprocessing stage. To reproduce the previous behavior:\n",
      "\n",
      "from sklearn.pipeline import make_pipeline\n",
      "\n",
      "model = make_pipeline(StandardScaler(with_mean=False), LassoLarsIC())\n",
      "\n",
      "If you wish to pass a sample_weight parameter, you need to pass it as a fit parameter to each step of the pipeline as follows:\n",
      "\n",
      "kwargs = {s[0] + '__sample_weight': sample_weight for s in model.steps}\n",
      "model.fit(X, y, **kwargs)\n",
      "\n",
      "Set parameter alpha to: original_alpha * np.sqrt(n_samples). \n",
      "X does not have valid feature names, but HistGradientBoostingRegressor was fitted with feature names\n",
      "X does not have valid feature names, but HistGradientBoostingRegressor was fitted with feature names\n",
      "The default of 'normalize' will be set to False in version 1.2 and deprecated in version 1.4.\n",
      "If you wish to scale the data, use Pipeline with a StandardScaler in a preprocessing stage. To reproduce the previous behavior:\n",
      "\n",
      "from sklearn.pipeline import make_pipeline\n",
      "\n",
      "model = make_pipeline(StandardScaler(with_mean=False), LassoLarsIC())\n",
      "\n",
      "If you wish to pass a sample_weight parameter, you need to pass it as a fit parameter to each step of the pipeline as follows:\n",
      "\n",
      "kwargs = {s[0] + '__sample_weight': sample_weight for s in model.steps}\n",
      "model.fit(X, y, **kwargs)\n",
      "\n",
      "Set parameter alpha to: original_alpha * np.sqrt(n_samples). \n",
      "X does not have valid feature names, but HistGradientBoostingRegressor was fitted with feature names\n",
      "X does not have valid feature names, but HistGradientBoostingRegressor was fitted with feature names\n",
      "The default of 'normalize' will be set to False in version 1.2 and deprecated in version 1.4.\n",
      "If you wish to scale the data, use Pipeline with a StandardScaler in a preprocessing stage. To reproduce the previous behavior:\n",
      "\n",
      "from sklearn.pipeline import make_pipeline\n",
      "\n",
      "model = make_pipeline(StandardScaler(with_mean=False), LassoLarsIC())\n",
      "\n",
      "If you wish to pass a sample_weight parameter, you need to pass it as a fit parameter to each step of the pipeline as follows:\n",
      "\n",
      "kwargs = {s[0] + '__sample_weight': sample_weight for s in model.steps}\n",
      "model.fit(X, y, **kwargs)\n",
      "\n",
      "Set parameter alpha to: original_alpha * np.sqrt(n_samples). \n",
      "X does not have valid feature names, but HistGradientBoostingRegressor was fitted with feature names\n",
      "X does not have valid feature names, but HistGradientBoostingRegressor was fitted with feature names\n",
      "The default of 'normalize' will be set to False in version 1.2 and deprecated in version 1.4.\n",
      "If you wish to scale the data, use Pipeline with a StandardScaler in a preprocessing stage. To reproduce the previous behavior:\n",
      "\n",
      "from sklearn.pipeline import make_pipeline\n",
      "\n",
      "model = make_pipeline(StandardScaler(with_mean=False), LassoLarsIC())\n",
      "\n",
      "If you wish to pass a sample_weight parameter, you need to pass it as a fit parameter to each step of the pipeline as follows:\n",
      "\n",
      "kwargs = {s[0] + '__sample_weight': sample_weight for s in model.steps}\n",
      "model.fit(X, y, **kwargs)\n",
      "\n",
      "Set parameter alpha to: original_alpha * np.sqrt(n_samples). \n",
      "X does not have valid feature names, but HistGradientBoostingRegressor was fitted with feature names\n",
      "X does not have valid feature names, but HistGradientBoostingRegressor was fitted with feature names\n",
      "The default of 'normalize' will be set to False in version 1.2 and deprecated in version 1.4.\n",
      "If you wish to scale the data, use Pipeline with a StandardScaler in a preprocessing stage. To reproduce the previous behavior:\n",
      "\n",
      "from sklearn.pipeline import make_pipeline\n",
      "\n",
      "model = make_pipeline(StandardScaler(with_mean=False), LassoLarsIC())\n",
      "\n",
      "If you wish to pass a sample_weight parameter, you need to pass it as a fit parameter to each step of the pipeline as follows:\n",
      "\n",
      "kwargs = {s[0] + '__sample_weight': sample_weight for s in model.steps}\n",
      "model.fit(X, y, **kwargs)\n",
      "\n",
      "Set parameter alpha to: original_alpha * np.sqrt(n_samples). \n",
      "X does not have valid feature names, but HistGradientBoostingRegressor was fitted with feature names\n",
      "X does not have valid feature names, but HistGradientBoostingRegressor was fitted with feature names\n",
      "The default of 'normalize' will be set to False in version 1.2 and deprecated in version 1.4.\n",
      "If you wish to scale the data, use Pipeline with a StandardScaler in a preprocessing stage. To reproduce the previous behavior:\n",
      "\n",
      "from sklearn.pipeline import make_pipeline\n",
      "\n",
      "model = make_pipeline(StandardScaler(with_mean=False), LassoLarsIC())\n",
      "\n",
      "If you wish to pass a sample_weight parameter, you need to pass it as a fit parameter to each step of the pipeline as follows:\n",
      "\n",
      "kwargs = {s[0] + '__sample_weight': sample_weight for s in model.steps}\n",
      "model.fit(X, y, **kwargs)\n",
      "\n",
      "Set parameter alpha to: original_alpha * np.sqrt(n_samples). \n",
      "X does not have valid feature names, but HistGradientBoostingRegressor was fitted with feature names\n",
      "X does not have valid feature names, but HistGradientBoostingRegressor was fitted with feature names\n",
      "The default of 'normalize' will be set to False in version 1.2 and deprecated in version 1.4.\n",
      "If you wish to scale the data, use Pipeline with a StandardScaler in a preprocessing stage. To reproduce the previous behavior:\n",
      "\n",
      "from sklearn.pipeline import make_pipeline\n",
      "\n",
      "model = make_pipeline(StandardScaler(with_mean=False), LassoLarsIC())\n",
      "\n",
      "If you wish to pass a sample_weight parameter, you need to pass it as a fit parameter to each step of the pipeline as follows:\n",
      "\n",
      "kwargs = {s[0] + '__sample_weight': sample_weight for s in model.steps}\n",
      "model.fit(X, y, **kwargs)\n",
      "\n",
      "Set parameter alpha to: original_alpha * np.sqrt(n_samples). \n"
     ]
    }
   ],
   "source": [
    "sh_val= explainer.shap_values(X_test.iloc[ind,])"
   ]
  },
  {
   "cell_type": "code",
   "execution_count": 91,
   "id": "cc4e293c",
   "metadata": {},
   "outputs": [
    {
     "data": {
      "image/png": "[encoded data removed]",
      "text/plain": [
       "<Figure size 576x684 with 2 Axes>"
      ]
     },
     "metadata": {
      "needs_background": "light"
     },
     "output_type": "display_data"
    }
   ],
   "source": [
    "shap.summary_plot(sh_val, X_test.iloc[ind,])"
   ]
  },
  {
   "cell_type": "code",
   "execution_count": 96,
   "id": "e9fb42ff",
   "metadata": {},
   "outputs": [
    {
     "data": {
      "image/png": "[encoded data removed]",
      "text/plain": [
       "<Figure size 576x1044 with 3 Axes>"
      ]
     },
     "metadata": {},
     "output_type": "display_data"
    }
   ],
   "source": [
    "shap.plots._waterfall.waterfall_legacy(explainer.expected_value, sh_val[8], max_display = 100, feature_names = features)"
   ]
  },
  {
   "cell_type": "code",
   "execution_count": 94,
   "id": "121a4899",
   "metadata": {},
   "outputs": [
    {
     "data": {
      "text/plain": [
       "fireplace          0.000000e+00\n",
       "stories            1.000000e+00\n",
       "pool               1.000000e+00\n",
       "heating_bool       1.000000e+00\n",
       "parking_bool       1.000000e+00\n",
       "cooling_bool       1.000000e+00\n",
       "is_expensive       0.000000e+00\n",
       "pop_1m+            0.000000e+00\n",
       "pop_5kk+           0.000000e+00\n",
       "pop_1kk+           0.000000e+00\n",
       "Rank_2021          3.000000e+00\n",
       "Rank_2010          4.000000e+00\n",
       "baths              2.000000e+00\n",
       "sqft               1.670000e+03\n",
       "beds               3.000000e+00\n",
       "raiting_school     4.333333e+00\n",
       "distance_school    3.883333e+00\n",
       "year_built         2.003000e+03\n",
       "remodeled_year     2.006000e+03\n",
       "lotsize            6.098000e+03\n",
       "heating_count      1.000000e+00\n",
       "cooling_count      1.000000e+00\n",
       "parking_count      1.000000e+00\n",
       "population2010     1.880131e+07\n",
       "population2021     2.178113e+07\n",
       "changes            1.585000e+01\n",
       "Name: 90001, dtype: float64"
      ]
     },
     "execution_count": 94,
     "metadata": {},
     "output_type": "execute_result"
    }
   ],
   "source": [
    "X_test.iloc[ind[0],]"
   ]
  },
  {
   "cell_type": "code",
   "execution_count": null,
   "id": "e6917e70",
   "metadata": {},
   "outputs": [],
   "source": []
  }
 ],
 "metadata": {
  "kernelspec": {
   "display_name": "Python 3 (ipykernel)",
   "language": "python",
   "name": "python3"
  },
  "language_info": {
   "codemirror_mode": {
    "name": "ipython",
    "version": 3
   },
   "file_extension": ".py",
   "mimetype": "text/x-python",
   "name": "python",
   "nbconvert_exporter": "python",
   "pygments_lexer": "ipython3",
   "version": "3.7.6"
  }
 },
 "nbformat": 4,
 "nbformat_minor": 5
}

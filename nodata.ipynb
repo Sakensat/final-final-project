{
 "cells": [
  {
   "cell_type": "code",
   "execution_count": 61,
   "metadata": {},
   "outputs": [],
   "source": [
    "import pandas as pd\n",
    "import numpy as np\n"
   ]
  },
  {
   "cell_type": "code",
   "execution_count": 62,
   "metadata": {},
   "outputs": [],
   "source": [
    "df = pd.read_csv(\"data.csv\")"
   ]
  },
  {
   "cell_type": "code",
   "execution_count": 63,
   "metadata": {},
   "outputs": [
    {
     "name": "stdout",
     "output_type": "stream",
     "text": [
      "<class 'pandas.core.frame.DataFrame'>\n",
      "RangeIndex: 377185 entries, 0 to 377184\n",
      "Data columns (total 18 columns):\n",
      " #   Column        Non-Null Count   Dtype \n",
      "---  ------        --------------   ----- \n",
      " 0   status        337267 non-null  object\n",
      " 1   private pool  4181 non-null    object\n",
      " 2   propertyType  342452 non-null  object\n",
      " 3   street        377183 non-null  object\n",
      " 4   baths         270847 non-null  object\n",
      " 5   homeFacts     377185 non-null  object\n",
      " 6   fireplace     103115 non-null  object\n",
      " 7   city          377151 non-null  object\n",
      " 8   schools       377185 non-null  object\n",
      " 9   sqft          336608 non-null  object\n",
      " 10  zipcode       377185 non-null  object\n",
      " 11  beds          285903 non-null  object\n",
      " 12  state         377185 non-null  object\n",
      " 13  stories       226470 non-null  object\n",
      " 14  mls-id        24942 non-null   object\n",
      " 15  PrivatePool   40311 non-null   object\n",
      " 16  MlsId         310305 non-null  object\n",
      " 17  target        374704 non-null  object\n",
      "dtypes: object(18)\n",
      "memory usage: 51.8+ MB\n"
     ]
    }
   ],
   "source": [
    "df.info()"
   ]
  },
  {
   "cell_type": "code",
   "execution_count": 64,
   "metadata": {},
   "outputs": [],
   "source": [
    "df.drop(columns=[\"status\",\"MlsId\",\"street\",\"mls-id\"],inplace=True)\n",
    "\n"
   ]
  },
  {
   "cell_type": "code",
   "execution_count": 65,
   "metadata": {},
   "outputs": [
    {
     "name": "stderr",
     "output_type": "stream",
     "text": [
      "C:\\Users\\Sony\\anaconda3\\lib\\site-packages\\ipykernel_launcher.py:1: FutureWarning: The default value of regex will change from True to False in a future version. In addition, single character regular expressions will *not* be treated as literal strings when regex=True.\n",
      "  \"\"\"Entry point for launching an IPython kernel.\n",
      "C:\\Users\\Sony\\anaconda3\\lib\\site-packages\\ipykernel_launcher.py:4: FutureWarning: The default value of regex will change from True to False in a future version. In addition, single character regular expressions will *not* be treated as literal strings when regex=True.\n",
      "  after removing the cwd from sys.path.\n"
     ]
    }
   ],
   "source": [
    "df.target=df.target.str.replace(\"$\",\"\")\n",
    "df.target=df.target.str.replace(\",\",\"\")\n",
    "\n",
    "df.target=df.target.str.replace(\"+\",\"\")"
   ]
  },
  {
   "cell_type": "code",
   "execution_count": 66,
   "metadata": {},
   "outputs": [
    {
     "name": "stdout",
     "output_type": "stream",
     "text": [
      "<class 'pandas.core.frame.DataFrame'>\n",
      "RangeIndex: 377185 entries, 0 to 377184\n",
      "Data columns (total 14 columns):\n",
      " #   Column        Non-Null Count   Dtype \n",
      "---  ------        --------------   ----- \n",
      " 0   private pool  4181 non-null    object\n",
      " 1   propertyType  342452 non-null  object\n",
      " 2   baths         270847 non-null  object\n",
      " 3   homeFacts     377185 non-null  object\n",
      " 4   fireplace     103115 non-null  object\n",
      " 5   city          377151 non-null  object\n",
      " 6   schools       377185 non-null  object\n",
      " 7   sqft          336608 non-null  object\n",
      " 8   zipcode       377185 non-null  object\n",
      " 9   beds          285903 non-null  object\n",
      " 10  state         377185 non-null  object\n",
      " 11  stories       226470 non-null  object\n",
      " 12  PrivatePool   40311 non-null   object\n",
      " 13  target        374704 non-null  object\n",
      "dtypes: object(14)\n",
      "memory usage: 40.3+ MB\n"
     ]
    }
   ],
   "source": [
    "df.info()"
   ]
  },
  {
   "cell_type": "code",
   "execution_count": 67,
   "metadata": {},
   "outputs": [],
   "source": [
    "df.PrivatePool.fillna(False,inplace=True)\n",
    "df['private pool'].fillna(False,inplace=True)"
   ]
  },
  {
   "cell_type": "code",
   "execution_count": 68,
   "metadata": {},
   "outputs": [
    {
     "name": "stdout",
     "output_type": "stream",
     "text": [
      "<class 'pandas.core.frame.DataFrame'>\n",
      "RangeIndex: 377185 entries, 0 to 377184\n",
      "Data columns (total 14 columns):\n",
      " #   Column        Non-Null Count   Dtype \n",
      "---  ------        --------------   ----- \n",
      " 0   private pool  377185 non-null  object\n",
      " 1   propertyType  342452 non-null  object\n",
      " 2   baths         270847 non-null  object\n",
      " 3   homeFacts     377185 non-null  object\n",
      " 4   fireplace     103115 non-null  object\n",
      " 5   city          377151 non-null  object\n",
      " 6   schools       377185 non-null  object\n",
      " 7   sqft          336608 non-null  object\n",
      " 8   zipcode       377185 non-null  object\n",
      " 9   beds          285903 non-null  object\n",
      " 10  state         377185 non-null  object\n",
      " 11  stories       226470 non-null  object\n",
      " 12  PrivatePool   377185 non-null  object\n",
      " 13  target        374704 non-null  object\n",
      "dtypes: object(14)\n",
      "memory usage: 40.3+ MB\n"
     ]
    }
   ],
   "source": [
    "df.info()"
   ]
  },
  {
   "cell_type": "code",
   "execution_count": 69,
   "metadata": {},
   "outputs": [],
   "source": [
    "df.PrivatePool=df.PrivatePool.apply(lambda x: True if type(x) is str else False)\n",
    "df['private pool']=df['private pool'].apply(lambda x: True if type(x) is str else False)"
   ]
  },
  {
   "cell_type": "code",
   "execution_count": 70,
   "metadata": {},
   "outputs": [],
   "source": [
    "df['pool']=df.PrivatePool | df['private pool']"
   ]
  },
  {
   "cell_type": "code",
   "execution_count": 71,
   "metadata": {},
   "outputs": [],
   "source": [
    "df.drop(columns=['PrivatePool','private pool'],inplace=True)"
   ]
  },
  {
   "cell_type": "code",
   "execution_count": 72,
   "metadata": {},
   "outputs": [],
   "source": [
    "df.fireplace=df.fireplace.apply(lambda x: True if type(x) is str else False)"
   ]
  },
  {
   "cell_type": "code",
   "execution_count": 73,
   "metadata": {},
   "outputs": [],
   "source": [
    "df.dropna(inplace=True)"
   ]
  },
  {
   "cell_type": "code",
   "execution_count": 74,
   "metadata": {},
   "outputs": [],
   "source": [
    "df.drop(columns='propertyType',inplace=True)"
   ]
  },
  {
   "cell_type": "code",
   "execution_count": 75,
   "metadata": {},
   "outputs": [
    {
     "name": "stderr",
     "output_type": "stream",
     "text": [
      "C:\\Users\\Sony\\anaconda3\\lib\\site-packages\\ipykernel_launcher.py:7: FutureWarning: The default value of regex will change from True to False in a future version.\n",
      "  import sys\n",
      "C:\\Users\\Sony\\anaconda3\\lib\\site-packages\\ipykernel_launcher.py:9: FutureWarning: The default value of regex will change from True to False in a future version. In addition, single character regular expressions will *not* be treated as literal strings when regex=True.\n",
      "  if __name__ == '__main__':\n",
      "C:\\Users\\Sony\\anaconda3\\lib\\site-packages\\ipykernel_launcher.py:15: FutureWarning: The default value of regex will change from True to False in a future version.\n",
      "  from ipykernel import kernelapp as app\n"
     ]
    }
   ],
   "source": [
    "df['baths'] = df['baths'].str.replace('Baths', '')\n",
    "df['baths'] = df['baths'].str.replace('Bath', '')\n",
    "df['baths'] = df['baths'].str.replace('rooms:', '')\n",
    "df['baths'] = df['baths'].str.replace(',', '.')\n",
    "df['baths'] = df['baths'].str.replace('ba', '.')\n",
    "df['baths'] = df['baths'].str.replace('ba', '')\n",
    "df['baths'] = df['baths'].str.replace(' .', '')\n",
    "df['baths'] = df['baths'].str.replace('~', '')\n",
    "df['baths'] = df['baths'].str.replace('+', '')\n",
    "df['baths'] = df['baths'].str.replace('—', '0')\n",
    "df['baths'] = df['baths'].str.replace('ths', '')\n",
    "df['baths'] = df['baths'].str.replace('emiMod', '0')\n",
    "df['baths'] = df['baths'].str.replace('--', '')\n",
    "df['baths'] = df['baths'].str.replace('1-0-0', '')\n",
    "df['baths'] = df['baths'].str.replace('Sq.t. ', '')\n",
    "df['baths'] = df['baths'].str.replace('3-1-2', '')\n",
    "df['baths'] = df['baths'].str.replace('2-1-1-1-1', '')"
   ]
  },
  {
   "cell_type": "code",
   "execution_count": 76,
   "metadata": {},
   "outputs": [],
   "source": [
    "ba = df[df.baths==  ''].index\n",
    "df.loc[ba, 'baths'] = np.nan"
   ]
  },
  {
   "cell_type": "code",
   "execution_count": 77,
   "metadata": {},
   "outputs": [],
   "source": [
    "df.baths =df.baths.apply(float)"
   ]
  },
  {
   "cell_type": "code",
   "execution_count": 78,
   "metadata": {},
   "outputs": [
    {
     "name": "stdout",
     "output_type": "stream",
     "text": [
      "<class 'pandas.core.frame.DataFrame'>\n",
      "Int64Index: 189344 entries, 1 to 377184\n",
      "Data columns (total 12 columns):\n",
      " #   Column     Non-Null Count   Dtype  \n",
      "---  ------     --------------   -----  \n",
      " 0   baths      167840 non-null  float64\n",
      " 1   homeFacts  189344 non-null  object \n",
      " 2   fireplace  189344 non-null  bool   \n",
      " 3   city       189344 non-null  object \n",
      " 4   schools    189344 non-null  object \n",
      " 5   sqft       189344 non-null  object \n",
      " 6   zipcode    189344 non-null  object \n",
      " 7   beds       189344 non-null  object \n",
      " 8   state      189344 non-null  object \n",
      " 9   stories    189344 non-null  object \n",
      " 10  target     189344 non-null  object \n",
      " 11  pool       189344 non-null  bool   \n",
      "dtypes: bool(2), float64(1), object(9)\n",
      "memory usage: 20.3+ MB\n"
     ]
    }
   ],
   "source": [
    "df.info()"
   ]
  },
  {
   "cell_type": "code",
   "execution_count": 79,
   "metadata": {},
   "outputs": [],
   "source": [
    "df.beds = df.beds.str.replace('Beds','') # заменим Beds на пустое значение\n",
    "\n",
    "df.beds = df.beds.str.replace('bd','') # заменим bd на пустое значение\n",
    "df.beds = df.beds.str.replace('Baths','')\n",
    "df.beds = df.beds.str.replace('-- ','')\n",
    "df.beds = df.beds.str.replace(' ','')\n",
    "df.beds = df.beds.str.replace('Bath','')"
   ]
  },
  {
   "cell_type": "code",
   "execution_count": 80,
   "metadata": {},
   "outputs": [],
   "source": [
    "ba = df[df.beds==  ''].index\n",
    "df.loc[ba, 'beds'] = np.nan\n",
    "df.beds =df.beds.apply(float)"
   ]
  },
  {
   "cell_type": "code",
   "execution_count": 81,
   "metadata": {},
   "outputs": [
    {
     "data": {
      "text/html": [
       "<div>\n",
       "<style scoped>\n",
       "    .dataframe tbody tr th:only-of-type {\n",
       "        vertical-align: middle;\n",
       "    }\n",
       "\n",
       "    .dataframe tbody tr th {\n",
       "        vertical-align: top;\n",
       "    }\n",
       "\n",
       "    .dataframe thead th {\n",
       "        text-align: right;\n",
       "    }\n",
       "</style>\n",
       "<table border=\"1\" class=\"dataframe\">\n",
       "  <thead>\n",
       "    <tr style=\"text-align: right;\">\n",
       "      <th></th>\n",
       "      <th>baths</th>\n",
       "      <th>homeFacts</th>\n",
       "      <th>fireplace</th>\n",
       "      <th>city</th>\n",
       "      <th>schools</th>\n",
       "      <th>sqft</th>\n",
       "      <th>zipcode</th>\n",
       "      <th>beds</th>\n",
       "      <th>state</th>\n",
       "      <th>stories</th>\n",
       "      <th>target</th>\n",
       "      <th>pool</th>\n",
       "    </tr>\n",
       "  </thead>\n",
       "  <tbody>\n",
       "    <tr>\n",
       "      <th>1</th>\n",
       "      <td>3.0</td>\n",
       "      <td>{'atAGlanceFacts': [{'factValue': '2019', 'fac...</td>\n",
       "      <td>False</td>\n",
       "      <td>Spokane Valley</td>\n",
       "      <td>[{'rating': ['4/10', 'None/10', '4/10'], 'data...</td>\n",
       "      <td>1,947 sqft</td>\n",
       "      <td>99216</td>\n",
       "      <td>3.0</td>\n",
       "      <td>WA</td>\n",
       "      <td>2.0</td>\n",
       "      <td>310000</td>\n",
       "      <td>False</td>\n",
       "    </tr>\n",
       "    <tr>\n",
       "      <th>2</th>\n",
       "      <td>2.0</td>\n",
       "      <td>{'atAGlanceFacts': [{'factValue': '1961', 'fac...</td>\n",
       "      <td>True</td>\n",
       "      <td>Los Angeles</td>\n",
       "      <td>[{'rating': ['8/10', '4/10', '8/10'], 'data': ...</td>\n",
       "      <td>3,000 sqft</td>\n",
       "      <td>90049</td>\n",
       "      <td>3.0</td>\n",
       "      <td>CA</td>\n",
       "      <td>1.0</td>\n",
       "      <td>2895000</td>\n",
       "      <td>True</td>\n",
       "    </tr>\n",
       "    <tr>\n",
       "      <th>3</th>\n",
       "      <td>8.0</td>\n",
       "      <td>{'atAGlanceFacts': [{'factValue': '2006', 'fac...</td>\n",
       "      <td>True</td>\n",
       "      <td>Dallas</td>\n",
       "      <td>[{'rating': ['9/10', '9/10', '10/10', '9/10'],...</td>\n",
       "      <td>6,457 sqft</td>\n",
       "      <td>75205</td>\n",
       "      <td>5.0</td>\n",
       "      <td>TX</td>\n",
       "      <td>3.0</td>\n",
       "      <td>2395000</td>\n",
       "      <td>False</td>\n",
       "    </tr>\n",
       "    <tr>\n",
       "      <th>9</th>\n",
       "      <td>3.0</td>\n",
       "      <td>{'atAGlanceFacts': [{'factValue': '2019', 'fac...</td>\n",
       "      <td>False</td>\n",
       "      <td>Houston</td>\n",
       "      <td>[{'rating': ['4/10', '3/10', '2/10'], 'data': ...</td>\n",
       "      <td>1,930</td>\n",
       "      <td>77080</td>\n",
       "      <td>3.0</td>\n",
       "      <td>TX</td>\n",
       "      <td>2.0</td>\n",
       "      <td>311995</td>\n",
       "      <td>False</td>\n",
       "    </tr>\n",
       "    <tr>\n",
       "      <th>12</th>\n",
       "      <td>3.0</td>\n",
       "      <td>{'atAGlanceFacts': [{'factValue': '1996', 'fac...</td>\n",
       "      <td>False</td>\n",
       "      <td>Pembroke Pines</td>\n",
       "      <td>[{'rating': ['8/10', '7/10', '7/10'], 'data': ...</td>\n",
       "      <td>2,839 sqft</td>\n",
       "      <td>33028</td>\n",
       "      <td>4.0</td>\n",
       "      <td>FL</td>\n",
       "      <td>1.0</td>\n",
       "      <td>525000</td>\n",
       "      <td>True</td>\n",
       "    </tr>\n",
       "    <tr>\n",
       "      <th>...</th>\n",
       "      <td>...</td>\n",
       "      <td>...</td>\n",
       "      <td>...</td>\n",
       "      <td>...</td>\n",
       "      <td>...</td>\n",
       "      <td>...</td>\n",
       "      <td>...</td>\n",
       "      <td>...</td>\n",
       "      <td>...</td>\n",
       "      <td>...</td>\n",
       "      <td>...</td>\n",
       "      <td>...</td>\n",
       "    </tr>\n",
       "    <tr>\n",
       "      <th>377179</th>\n",
       "      <td>3.0</td>\n",
       "      <td>{'atAGlanceFacts': [{'factValue': '2010', 'fac...</td>\n",
       "      <td>False</td>\n",
       "      <td>Washington</td>\n",
       "      <td>[{'rating': ['3/10', '3/10'], 'data': {'Distan...</td>\n",
       "      <td>1,417</td>\n",
       "      <td>20001</td>\n",
       "      <td>2.0</td>\n",
       "      <td>DC</td>\n",
       "      <td>3.0</td>\n",
       "      <td>799000</td>\n",
       "      <td>False</td>\n",
       "    </tr>\n",
       "    <tr>\n",
       "      <th>377180</th>\n",
       "      <td>6.0</td>\n",
       "      <td>{'atAGlanceFacts': [{'factValue': '1990', 'fac...</td>\n",
       "      <td>False</td>\n",
       "      <td>Miami</td>\n",
       "      <td>[{'rating': ['10/10', '5/10'], 'data': {'Dista...</td>\n",
       "      <td>4,017</td>\n",
       "      <td>33180</td>\n",
       "      <td>5.0</td>\n",
       "      <td>FL</td>\n",
       "      <td>0.0</td>\n",
       "      <td>1249000</td>\n",
       "      <td>True</td>\n",
       "    </tr>\n",
       "    <tr>\n",
       "      <th>377181</th>\n",
       "      <td>3.0</td>\n",
       "      <td>{'atAGlanceFacts': [{'factValue': '1924', 'fac...</td>\n",
       "      <td>False</td>\n",
       "      <td>Chicago</td>\n",
       "      <td>[{'rating': ['1/10', '5/10', '7/10'], 'data': ...</td>\n",
       "      <td>2,000 sqft</td>\n",
       "      <td>60657</td>\n",
       "      <td>3.0</td>\n",
       "      <td>IL</td>\n",
       "      <td>9.0</td>\n",
       "      <td>674999</td>\n",
       "      <td>False</td>\n",
       "    </tr>\n",
       "    <tr>\n",
       "      <th>377182</th>\n",
       "      <td>3.0</td>\n",
       "      <td>{'atAGlanceFacts': [{'factValue': '1950', 'fac...</td>\n",
       "      <td>False</td>\n",
       "      <td>Jamaica</td>\n",
       "      <td>[{'rating': ['5/10', '4/10'], 'data': {'Distan...</td>\n",
       "      <td>1,152 sqft</td>\n",
       "      <td>11434</td>\n",
       "      <td>3.0</td>\n",
       "      <td>NY</td>\n",
       "      <td>2</td>\n",
       "      <td>528000</td>\n",
       "      <td>False</td>\n",
       "    </tr>\n",
       "    <tr>\n",
       "      <th>377184</th>\n",
       "      <td>2.0</td>\n",
       "      <td>{'atAGlanceFacts': [{'factValue': '2019', 'fac...</td>\n",
       "      <td>True</td>\n",
       "      <td>San Antonio</td>\n",
       "      <td>[{'rating': ['5/10', '4/10', '3/10'], 'data': ...</td>\n",
       "      <td>1,462</td>\n",
       "      <td>78218</td>\n",
       "      <td>3.0</td>\n",
       "      <td>TX</td>\n",
       "      <td>1.0</td>\n",
       "      <td>204900</td>\n",
       "      <td>False</td>\n",
       "    </tr>\n",
       "  </tbody>\n",
       "</table>\n",
       "<p>189344 rows × 12 columns</p>\n",
       "</div>"
      ],
      "text/plain": [
       "        baths                                          homeFacts  fireplace  \\\n",
       "1         3.0  {'atAGlanceFacts': [{'factValue': '2019', 'fac...      False   \n",
       "2         2.0  {'atAGlanceFacts': [{'factValue': '1961', 'fac...       True   \n",
       "3         8.0  {'atAGlanceFacts': [{'factValue': '2006', 'fac...       True   \n",
       "9         3.0  {'atAGlanceFacts': [{'factValue': '2019', 'fac...      False   \n",
       "12        3.0  {'atAGlanceFacts': [{'factValue': '1996', 'fac...      False   \n",
       "...       ...                                                ...        ...   \n",
       "377179    3.0  {'atAGlanceFacts': [{'factValue': '2010', 'fac...      False   \n",
       "377180    6.0  {'atAGlanceFacts': [{'factValue': '1990', 'fac...      False   \n",
       "377181    3.0  {'atAGlanceFacts': [{'factValue': '1924', 'fac...      False   \n",
       "377182    3.0  {'atAGlanceFacts': [{'factValue': '1950', 'fac...      False   \n",
       "377184    2.0  {'atAGlanceFacts': [{'factValue': '2019', 'fac...       True   \n",
       "\n",
       "                  city                                            schools  \\\n",
       "1       Spokane Valley  [{'rating': ['4/10', 'None/10', '4/10'], 'data...   \n",
       "2          Los Angeles  [{'rating': ['8/10', '4/10', '8/10'], 'data': ...   \n",
       "3               Dallas  [{'rating': ['9/10', '9/10', '10/10', '9/10'],...   \n",
       "9              Houston  [{'rating': ['4/10', '3/10', '2/10'], 'data': ...   \n",
       "12      Pembroke Pines  [{'rating': ['8/10', '7/10', '7/10'], 'data': ...   \n",
       "...                ...                                                ...   \n",
       "377179      Washington  [{'rating': ['3/10', '3/10'], 'data': {'Distan...   \n",
       "377180           Miami  [{'rating': ['10/10', '5/10'], 'data': {'Dista...   \n",
       "377181         Chicago  [{'rating': ['1/10', '5/10', '7/10'], 'data': ...   \n",
       "377182         Jamaica  [{'rating': ['5/10', '4/10'], 'data': {'Distan...   \n",
       "377184     San Antonio  [{'rating': ['5/10', '4/10', '3/10'], 'data': ...   \n",
       "\n",
       "              sqft zipcode  beds state stories   target   pool  \n",
       "1       1,947 sqft   99216   3.0    WA     2.0   310000  False  \n",
       "2       3,000 sqft   90049   3.0    CA     1.0  2895000   True  \n",
       "3       6,457 sqft   75205   5.0    TX     3.0  2395000  False  \n",
       "9            1,930   77080   3.0    TX     2.0   311995  False  \n",
       "12      2,839 sqft   33028   4.0    FL     1.0   525000   True  \n",
       "...            ...     ...   ...   ...     ...      ...    ...  \n",
       "377179       1,417   20001   2.0    DC     3.0   799000  False  \n",
       "377180       4,017   33180   5.0    FL     0.0  1249000   True  \n",
       "377181  2,000 sqft   60657   3.0    IL     9.0   674999  False  \n",
       "377182  1,152 sqft   11434   3.0    NY       2   528000  False  \n",
       "377184       1,462   78218   3.0    TX     1.0   204900  False  \n",
       "\n",
       "[189344 rows x 12 columns]"
      ]
     },
     "execution_count": 81,
     "metadata": {},
     "output_type": "execute_result"
    }
   ],
   "source": [
    "df"
   ]
  },
  {
   "cell_type": "code",
   "execution_count": 82,
   "metadata": {},
   "outputs": [],
   "source": [
    "df.sqft = df.sqft.str.replace(',','')\n",
    "df.sqft = df.sqft.str.replace(' sqft','')\n",
    "\n",
    "df.sqft = df.sqft.str.replace('Total interior livable area: ','')\n",
    "\n",
    "\n",
    "df.sqft = df.sqft.str.replace('--','')\n",
    "\n",
    "\n",
    "df.sqft = df.sqft.str.replace('610-840','')"
   ]
  },
  {
   "cell_type": "code",
   "execution_count": 83,
   "metadata": {},
   "outputs": [],
   "source": [
    "ba = df[df.sqft==  ''].index\n",
    "df.loc[ba, 'sqft'] = np.nan\n",
    "df.sqft=df.sqft.apply(float)"
   ]
  },
  {
   "cell_type": "code",
   "execution_count": 84,
   "metadata": {},
   "outputs": [],
   "source": [
    "def school_rating (rait1, rait2):\n",
    "    sum = 0\n",
    "    if len(rait1)!=0:\n",
    "        n= len(rait1)\n",
    "        for i in rait1:\n",
    "            sum+= int(i)\n",
    "    elif len(rait2)!=0:\n",
    "        n= len(rait2)\n",
    "        for i in rait2:\n",
    "            sum+= int(i)\n",
    "    else:\n",
    "        return 0\n",
    "    return sum/n"
   ]
  },
  {
   "cell_type": "code",
   "execution_count": 85,
   "metadata": {},
   "outputs": [],
   "source": [
    "rait1 = df.schools.str.findall(\"'(\\d+)\\/10'\")\n",
    "\n",
    "rait2 = df.schools.str.findall(\"'(\\d+)'\")\n",
    "\n",
    "rait = pd.DataFrame([rait1, rait2])\n",
    "df['raiting_school'] = [school_rating(rait1[i], rait2[i]) for i in rait1.index]"
   ]
  },
  {
   "cell_type": "code",
   "execution_count": 86,
   "metadata": {},
   "outputs": [],
   "source": [
    "dist_school = df.schools.str.findall(\"'(\\d+\\.\\d+)\")\n",
    "distance = []\n",
    "for i in dist_school:\n",
    "    i = [float(n) for n in i]\n",
    "    if len(i) >0:\n",
    "        avg = sum(i)/ len(i)\n",
    "        distance.append(avg)\n",
    "    else:\n",
    "        distance.append(0)\n",
    "df['distance_school'] = distance"
   ]
  },
  {
   "cell_type": "code",
   "execution_count": 87,
   "metadata": {},
   "outputs": [],
   "source": [
    "df.homeFacts = df.homeFacts.str.replace(\"'\", '\"')\n",
    "df.homeFacts = df.homeFacts.str.replace(\"/\", ' ')\n",
    "df['homeFacts'] = df['homeFacts'].str.replace('None', '\"\"')\n",
    "df.homeFacts = df.homeFacts.str.replace('\"\"\"\"', '\"\"')\n",
    "df.homeFacts = df.homeFacts.str.replace('\"\"\"', '\"')\n",
    "df.homeFacts = df.homeFacts.str.replace('\"closet\"', 'closet')\n",
    "df.homeFacts = df.homeFacts.str.replace('Carport, \"\", Attached Garage', 'Carport, Attached Garage')\n",
    "df.homeFacts = df.homeFacts.str.replace(\"Attch\\\"d\", '')\n",
    "df.homeFacts = df.homeFacts.str.replace(\"Req\\\"d\", '')\n",
    "df.homeFacts = df.homeFacts.str.replace(\"Addtn\\\"l\", '')\n"
   ]
  },
  {
   "cell_type": "code",
   "execution_count": 88,
   "metadata": {
    "scrolled": true
   },
   "outputs": [
    {
     "name": "stderr",
     "output_type": "stream",
     "text": [
      "C:\\Users\\Sony\\anaconda3\\lib\\site-packages\\ipykernel_launcher.py:1: UserWarning: This pattern has match groups. To actually get the groups, use str.extract.\n",
      "  \"\"\"Entry point for launching an IPython kernel.\n"
     ]
    }
   ],
   "source": [
    "v = df[df.homeFacts.str.contains(\"[a-z](')[a-z]\")].index\n",
    "df.drop(v, inplace = True)"
   ]
  },
  {
   "cell_type": "code",
   "execution_count": 89,
   "metadata": {},
   "outputs": [],
   "source": [
    "import json\n",
    "def get_Year_built (homefacts):\n",
    "    try:\n",
    "        homefacts = json.loads(homefacts) # превращает json строку в json объект \n",
    "        year = homefacts [\"atAGlanceFacts\"][0][\"factValue\"]\n",
    "        return year\n",
    "    except Exception as e:\n",
    "        print (e)\n",
    "        print (homefacts)\n",
    "        return np.nan\n",
    "df['year_built'] = df.homeFacts.apply(get_Year_built)"
   ]
  },
  {
   "cell_type": "code",
   "execution_count": 90,
   "metadata": {},
   "outputs": [],
   "source": [
    "def remodeled (homefacts ):\n",
    "    homefacts = json.loads(homefacts) # превращает json строку в json объект \n",
    "    chek = homefacts [\"atAGlanceFacts\"][1][\"factValue\"]\n",
    "    if chek != '':\n",
    "        return chek\n",
    "    else:\n",
    "        return 'no'\n",
    "\n",
    "df['remodeled_year'] = df.homeFacts.apply(remodeled)"
   ]
  },
  {
   "cell_type": "code",
   "execution_count": 91,
   "metadata": {},
   "outputs": [],
   "source": [
    "r = df[df.remodeled_year == 'no'].index\n",
    "df.loc[r, 'remodeled_year'] = df.loc[r, 'year_built']"
   ]
  },
  {
   "cell_type": "code",
   "execution_count": 92,
   "metadata": {},
   "outputs": [],
   "source": [
    "def get_lotsize (homefacts):\n",
    "    try:\n",
    "        homefacts = json.loads(homefacts) # превращает json строку в json объект \n",
    "        asd = homefacts [\"atAGlanceFacts\"][5][\"factValue\"].replace(',', '')\n",
    "        return asd\n",
    "    except Exception as e:\n",
    "        print (e)\n",
    "        print (homefacts)\n",
    "        return np.nan\n",
    "df['lotsize'] = df.homeFacts.apply(get_lotsize)"
   ]
  },
  {
   "cell_type": "code",
   "execution_count": 93,
   "metadata": {},
   "outputs": [],
   "source": [
    "def get_Heating (homefacts):\n",
    "    try:\n",
    "        homefacts = json.loads(homefacts) # превращает json строку в json объект \n",
    "        heat = homefacts [\"atAGlanceFacts\"][2][\"factValue\"]\n",
    "        return heat\n",
    "    except Exception as e:\n",
    "        print (e)\n",
    "        print (homefacts)\n",
    "        return np.nan\n",
    "df['heating'] = df.homeFacts.apply(get_Heating)"
   ]
  },
  {
   "cell_type": "code",
   "execution_count": 94,
   "metadata": {},
   "outputs": [],
   "source": [
    "def get_cooling (homefacts):\n",
    "    try:\n",
    "        homefacts = json.loads(homefacts) # превращает json строку в json объект \n",
    "        cool = homefacts [\"atAGlanceFacts\"][3][\"factValue\"]\n",
    "        return cool\n",
    "    except Exception as e:\n",
    "        print (e)\n",
    "        print (homefacts)\n",
    "        return np.nan\n",
    "df['cooling'] = df.homeFacts.apply(get_cooling)"
   ]
  },
  {
   "cell_type": "code",
   "execution_count": 95,
   "metadata": {},
   "outputs": [],
   "source": [
    "def get_parking (homefacts):\n",
    "    try:\n",
    "        homefacts = json.loads(homefacts) # превращает json строку в json объект \n",
    "        parking = homefacts [\"atAGlanceFacts\"][4][\"factValue\"]\n",
    "        return parking\n",
    "    except Exception as e:\n",
    "        print (e)\n",
    "        print (homefacts)\n",
    "        return np.nan\n",
    "df['parking'] = df.homeFacts.apply(get_parking)"
   ]
  },
  {
   "cell_type": "code",
   "execution_count": 96,
   "metadata": {},
   "outputs": [],
   "source": [
    "df.drop('homeFacts', axis = 1, inplace = True)"
   ]
  },
  {
   "cell_type": "code",
   "execution_count": 97,
   "metadata": {},
   "outputs": [],
   "source": [
    "df.drop('schools', axis = 1, inplace = True)"
   ]
  },
  {
   "cell_type": "code",
   "execution_count": 98,
   "metadata": {},
   "outputs": [
    {
     "name": "stderr",
     "output_type": "stream",
     "text": [
      "C:\\Users\\Sony\\anaconda3\\lib\\site-packages\\ipykernel_launcher.py:4: FutureWarning: The default value of regex will change from True to False in a future version.\n",
      "  after removing the cwd from sys.path.\n",
      "C:\\Users\\Sony\\anaconda3\\lib\\site-packages\\ipykernel_launcher.py:5: FutureWarning: The default value of regex will change from True to False in a future version.\n",
      "  \"\"\"\n"
     ]
    }
   ],
   "source": [
    "df.stories= df.stories.str.replace('Multi/Split',\"\")\n",
    "df.stories= df.stories.str.replace('One Level',\"1\")\n",
    "df.stories= df.stories.str.replace('1 Story',\"1\")\n",
    "df.stories= df.stories.str.replace(\"3+ \",\"3\")\n",
    "df.stories= df.stories.str.replace(\"3+\",\"3\")\n",
    "\n",
    "\n",
    "ba = df[df.stories==  ''].index\n",
    "df.loc[ba, 'stories'] = np.nan"
   ]
  },
  {
   "cell_type": "code",
   "execution_count": 99,
   "metadata": {},
   "outputs": [
    {
     "data": {
      "text/plain": [
       "array(['2.0', '1.0', '3.0', nan, '4.0', '0.0', '0', '1', '9.0', '2',\n",
       "       'One', '3', 'One Story', '3.00', '1.00', '3+', '5.0', 'Two',\n",
       "       '2 Story', 'Ranch/1', 'Condominium', 'Stories/Levels', '15',\n",
       "       '2.00', '6.0', '1.0000', '3Story', 'Three Or More', '1 Level',\n",
       "       'Two Story or More', '54.0', '23', 'Farm House', '8.0', '16.0',\n",
       "       '1.50', '7.0', '9', '8', '12.0', 'Split Level w/ Sub', '4',\n",
       "       '1.5 Stories', '7', '11', '22.0', 'Townhouse', '12', '21.0',\n",
       "       '1.5 Story/Basement', '28.0', 'Traditional', '2.5 Story', '2.0000',\n",
       "       '63.0', 'Ground Level, One', '2 Stories', '14.0', '6', '19.0',\n",
       "       '2.50', '1.30', '2 Story/Basement', 'Split Level', '1.5 Story',\n",
       "       '2 Or More Stories', '15.0', '1.5000', '4.00', '1 Basement',\n",
       "       'Multi-Level', '5', '17.0', 'Other Multi-unit', 'Ranch',\n",
       "       'Tri-Level', '1/Ranch', '51.0', '1.5', '18.0', '31', 'High-Rise',\n",
       "       'Mid-Rise', 'Split Foyer', 'Detached', '3Stories', '4 Story', '22',\n",
       "       '2.5', 'One and One Half', ', 2', '1 1/2 Levels', '11.0', '70',\n",
       "       '1/F.R.O.G.', '25.0', '16', '3+ Story', '1.000', '10', 'Fourplex',\n",
       "       '95.0', '90.0', 'Manufactured Doublewide', '6+ Stories', '91',\n",
       "       '35.0', '13', '2 Levels', '31.0', 'Mobile', 'Cabin/Cottage',\n",
       "       'Three Or More Levels', '24', 'Victorian', '1.75', '38',\n",
       "       'One, Two', 'Contemporary', '20.0', 'Garden', '20', 'Cape Cod',\n",
       "       '26.0', 'Dwelling Stories', '36.0', 'Modular Home', 'Bi-Level',\n",
       "       '26', '42', 'One, Two, ', '14', '21', '27.0', '19', '3- 5 Stories',\n",
       "       'Multi Level', ', 1', '55.0', '78.0', '56',\n",
       "       'Split Entry (Bi-Level)', '47.0', '10.0', '47', '29', '30', '40.0',\n",
       "       '1, Townhouse', '43.0', '80.0', '23.0', '24.0',\n",
       "       'Total Floors in Bldg', '25', '3Story, Multi Level', '13.0',\n",
       "       'Multi Level, Three or More', 'Raised Ranch', '5.00', '32', '57',\n",
       "       '3.0000', '41.0', '46.0', '1.7000', 'Bungalow', '48', '1.5, 2',\n",
       "       '2 Story, Tri Level', 'Two, ', '3Story, Tri Level', '57.0', '41',\n",
       "       '40', '18', '3Levels', '32.0', '45', '58.0', '52.0', 'Multi-Story',\n",
       "       '17', '42.0', '37.0', '1, Split Level', '30.0', '30.00', '44',\n",
       "       '48.0', '16.00', 'Tri Level', 'Tri/Multi Level',\n",
       "       '2 Story, Split Level', 'Co-op', 'Manufactured Singlewide',\n",
       "       '3Story/Basement', '34', '68.0', '46', 'T3-Townhouse 3+ Stories',\n",
       "       '77.0', '29.0', '1 1/2 Story', '1 Leveland + Loft', '1.70',\n",
       "       '2.5000', 'Duplex', '2.5 Story/Basement', '36', '70.0', '28',\n",
       "       'Ground Level', '78', '56.0', '1.500', '34.0',\n",
       "       'Bedroom - Split Plan', '60.0', '1.2', 'One, Three Or More',\n",
       "       '4.0000', '64', 'Multi-Level, New Englander', '38.0',\n",
       "       'Townhouse-2 Story, T3-Townhouse 3+ Stories', '2.000', '35',\n",
       "       '2 Story or 2 Level', '66.0', '62.0', '6.00', 'Quad Level',\n",
       "       'Triplex', '58', 'A Frame', '15.00', 'Tudor',\n",
       "       '2 Story, Multi Level', '45.0', 'Colonial', '75', ', 3',\n",
       "       'Hillside', 'Live/Work', 'Apartments', '39', '95', 'Log Home',\n",
       "       '4 Stories', '49.0', '1120.0', '1, 1', '1, 2 Story', 'Loft', '43',\n",
       "       '52', '3.000', '39.0', '66', '2.20', 'Multi Level, Tri Level',\n",
       "       '11.00', '1.3000', 'Craftsman', '2 Stories, Tear Down', 'Log',\n",
       "       '3.5', '60', '1002.0', '7.00', '1, Hillside',\n",
       "       '2 Stories, Townhouse', '96.0', 'Ground Level, Two', 'Chalet',\n",
       "       '80', 'Ground Level, Split Level, Two', '37', '1, Multi Level',\n",
       "       'One and One Half, Three Or More', 'Double Wide', 'Patio Home',\n",
       "       '50.0', '65.0'], dtype=object)"
      ]
     },
     "execution_count": 99,
     "metadata": {},
     "output_type": "execute_result"
    }
   ],
   "source": [
    "df.stories.unique()"
   ]
  },
  {
   "cell_type": "code",
   "execution_count": 100,
   "metadata": {},
   "outputs": [],
   "source": [
    "df.stories=df.stories.str.extract(\"(\\d+)\")"
   ]
  },
  {
   "cell_type": "code",
   "execution_count": 101,
   "metadata": {},
   "outputs": [],
   "source": [
    "df.drop(df[df.stories=='1120'].index,inplace=True)\n",
    "df.drop(df[df.stories=='1002'].index,inplace=True)"
   ]
  },
  {
   "cell_type": "code",
   "execution_count": 102,
   "metadata": {},
   "outputs": [],
   "source": [
    "df.stories=df.stories.apply(float)"
   ]
  },
  {
   "cell_type": "code",
   "execution_count": 103,
   "metadata": {},
   "outputs": [],
   "source": [
    "b= df[df.lotsize.str.contains('acre', regex = False, na = False)].index\n",
    "df.loc[b, 'lotsize'] = df.loc[b, 'lotsize']. apply(lambda x: str(int(43560*float(x.split()[0]))))\n",
    "b= df[df.lotsize.str.contains('Acre', regex = False, na = False)].index\n",
    "df.loc[b, 'lotsize'] = df.loc[b, 'lotsize']. apply(lambda x: str(int(43560*float(x.split()[0]))))"
   ]
  },
  {
   "cell_type": "code",
   "execution_count": 104,
   "metadata": {},
   "outputs": [
    {
     "name": "stderr",
     "output_type": "stream",
     "text": [
      "C:\\Users\\Sony\\anaconda3\\lib\\site-packages\\ipykernel_launcher.py:3: FutureWarning: The default value of regex will change from True to False in a future version.\n",
      "  This is separate from the ipykernel package so we can avoid doing imports until\n"
     ]
    }
   ],
   "source": [
    "df.lotsize = df.lotsize.str.replace(\" sqft\",\"\")\n",
    "df.lotsize = df.lotsize.str.replace(\" lot\",\"\")\n",
    "df.lotsize = df.lotsize.str.replace(\" Sq. Ft.\",\"\")\n",
    "df.lotsize = df.lotsize.str.replace(\"—\",\"\")\n",
    "df.lotsize = df.lotsize.str.replace('No Data',\"\")\n",
    "df.lotsize = df.lotsize.str.replace('--',\"\")\n",
    "\n",
    "ba = df[df.lotsize==  ''].index\n",
    "df.loc[ba, 'lotsize'] = np.nan"
   ]
  },
  {
   "cell_type": "code",
   "execution_count": 105,
   "metadata": {},
   "outputs": [],
   "source": [
    "df.lotsize=df.lotsize.apply(float)"
   ]
  },
  {
   "cell_type": "code",
   "execution_count": 106,
   "metadata": {},
   "outputs": [
    {
     "data": {
      "text/plain": [
       "array(['', 'Forced Air', 'Gas', ...,\n",
       "       'Central, Heat Pump, Natural Gas, Zoned',\n",
       "       'Floor Furnace, Wall Electric, Wall Gas',\n",
       "       'Baseboard, Hot Water, Programmable Thermostat, Radiant Floor'],\n",
       "      dtype=object)"
      ]
     },
     "execution_count": 106,
     "metadata": {},
     "output_type": "execute_result"
    }
   ],
   "source": [
    "df.heating.unique()"
   ]
  },
  {
   "cell_type": "code",
   "execution_count": 107,
   "metadata": {},
   "outputs": [],
   "source": [
    "def identifier(column):\n",
    "    if len (column) == 0:\n",
    "        return  0\n",
    "    else:\n",
    "        return  1  "
   ]
  },
  {
   "cell_type": "code",
   "execution_count": 108,
   "metadata": {},
   "outputs": [],
   "source": [
    "df.heating=df.heating.apply(identifier)\n",
    "\n",
    "df.parking=df.parking.apply(identifier)\n",
    "\n",
    "df.cooling=df.cooling.apply(identifier)"
   ]
  },
  {
   "cell_type": "code",
   "execution_count": 109,
   "metadata": {},
   "outputs": [],
   "source": [
    "df.year_built=df.year_built.str.replace(\"No Data\",'')\n",
    "df.remodeled_year=df.remodeled_year.str.replace(\"No Data\",'')\n",
    "ba = df[df.year_built==  ''].index\n",
    "df.loc[ba, 'year_built'] = np.nan\n",
    "ba = df[df.remodeled_year==  ''].index\n",
    "df.loc[ba, 'remodeled_year'] = np.nan"
   ]
  },
  {
   "cell_type": "code",
   "execution_count": 110,
   "metadata": {},
   "outputs": [],
   "source": [
    "df.year_built=df.year_built.apply(float)\n",
    "df.remodeled_year=df.remodeled_year.apply(float)"
   ]
  },
  {
   "cell_type": "code",
   "execution_count": 111,
   "metadata": {},
   "outputs": [],
   "source": [
    "df.target=df.target.apply(float)\n",
    "\n",
    "df.fireplace=df.fireplace.apply(float)\n",
    "\n",
    "df.pool=df.pool.apply(float)\n",
    "\n"
   ]
  },
  {
   "cell_type": "code",
   "execution_count": 112,
   "metadata": {},
   "outputs": [],
   "source": [
    "#nomi = pgeocode.Nominatim('US')\n",
    "#coord = df['zipcode']. apply(nomi.query_postal_code)\n",
    "#coord.to_csv('coord.csv', encoding='utf-8', index=False)"
   ]
  },
  {
   "cell_type": "code",
   "execution_count": 113,
   "metadata": {},
   "outputs": [
    {
     "name": "stderr",
     "output_type": "stream",
     "text": [
      "C:\\Users\\Sony\\anaconda3\\lib\\site-packages\\IPython\\core\\interactiveshell.py:3441: FutureWarning: The error_bad_lines argument has been deprecated and will be removed in a future version.\n",
      "\n",
      "\n",
      "  exec(code_obj, self.user_global_ns, self.user_ns)\n"
     ]
    }
   ],
   "source": [
    "coord = pd.read_csv('coord.csv', sep =',', error_bad_lines=False)"
   ]
  },
  {
   "cell_type": "code",
   "execution_count": 114,
   "metadata": {},
   "outputs": [],
   "source": [
    "df['latitude'] = coord['latitude']\n",
    "df['longitude'] = coord['longitude']"
   ]
  },
  {
   "cell_type": "code",
   "execution_count": 115,
   "metadata": {},
   "outputs": [],
   "source": [
    "df.drop(columns=\"zipcode\",inplace=True)"
   ]
  },
  {
   "cell_type": "code",
   "execution_count": 116,
   "metadata": {},
   "outputs": [],
   "source": [
    "df.dropna(inplace=True)"
   ]
  },
  {
   "cell_type": "code",
   "execution_count": 117,
   "metadata": {},
   "outputs": [],
   "source": [
    "df.to_csv(\"no_na_data1805.csv\")"
   ]
  },
  {
   "cell_type": "code",
   "execution_count": 118,
   "metadata": {},
   "outputs": [],
   "source": [
    "#dum=pd.get_dummies(df[[\"city\",\"state\"]])\n",
    "\n",
    "#df = pd.concat([df,dum], axis=1)\n",
    "\n",
    "df.drop(columns=['city','state'],inplace=True)"
   ]
  },
  {
   "cell_type": "code",
   "execution_count": 119,
   "metadata": {},
   "outputs": [
    {
     "name": "stdout",
     "output_type": "stream",
     "text": [
      "<class 'pandas.core.frame.DataFrame'>\n",
      "Int64Index: 126377 entries, 1 to 373050\n",
      "Data columns (total 17 columns):\n",
      " #   Column           Non-Null Count   Dtype  \n",
      "---  ------           --------------   -----  \n",
      " 0   baths            126377 non-null  float64\n",
      " 1   fireplace        126377 non-null  float64\n",
      " 2   sqft             126377 non-null  float64\n",
      " 3   beds             126377 non-null  float64\n",
      " 4   stories          126377 non-null  float64\n",
      " 5   target           126377 non-null  float64\n",
      " 6   pool             126377 non-null  float64\n",
      " 7   raiting_school   126377 non-null  float64\n",
      " 8   distance_school  126377 non-null  float64\n",
      " 9   year_built       126377 non-null  float64\n",
      " 10  remodeled_year   126377 non-null  float64\n",
      " 11  lotsize          126377 non-null  float64\n",
      " 12  heating          126377 non-null  int64  \n",
      " 13  cooling          126377 non-null  int64  \n",
      " 14  parking          126377 non-null  int64  \n",
      " 15  latitude         126377 non-null  float64\n",
      " 16  longitude        126377 non-null  float64\n",
      "dtypes: float64(14), int64(3)\n",
      "memory usage: 17.4 MB\n"
     ]
    }
   ],
   "source": [
    "df.info()"
   ]
  },
  {
   "cell_type": "code",
   "execution_count": 120,
   "metadata": {
    "scrolled": true
   },
   "outputs": [
    {
     "data": {
      "text/html": [
       "<div>\n",
       "<style scoped>\n",
       "    .dataframe tbody tr th:only-of-type {\n",
       "        vertical-align: middle;\n",
       "    }\n",
       "\n",
       "    .dataframe tbody tr th {\n",
       "        vertical-align: top;\n",
       "    }\n",
       "\n",
       "    .dataframe thead th {\n",
       "        text-align: right;\n",
       "    }\n",
       "</style>\n",
       "<table border=\"1\" class=\"dataframe\">\n",
       "  <thead>\n",
       "    <tr style=\"text-align: right;\">\n",
       "      <th></th>\n",
       "      <th>baths</th>\n",
       "      <th>fireplace</th>\n",
       "      <th>sqft</th>\n",
       "      <th>beds</th>\n",
       "      <th>stories</th>\n",
       "      <th>target</th>\n",
       "      <th>pool</th>\n",
       "      <th>raiting_school</th>\n",
       "      <th>distance_school</th>\n",
       "      <th>year_built</th>\n",
       "      <th>remodeled_year</th>\n",
       "      <th>lotsize</th>\n",
       "      <th>heating</th>\n",
       "      <th>cooling</th>\n",
       "      <th>parking</th>\n",
       "      <th>latitude</th>\n",
       "      <th>longitude</th>\n",
       "    </tr>\n",
       "  </thead>\n",
       "  <tbody>\n",
       "    <tr>\n",
       "      <th>1</th>\n",
       "      <td>3.0</td>\n",
       "      <td>0.0</td>\n",
       "      <td>1947.0</td>\n",
       "      <td>3.0</td>\n",
       "      <td>2.0</td>\n",
       "      <td>310000.0</td>\n",
       "      <td>0.0</td>\n",
       "      <td>4.000000</td>\n",
       "      <td>1.326667</td>\n",
       "      <td>2019.0</td>\n",
       "      <td>2019.0</td>\n",
       "      <td>5828.0</td>\n",
       "      <td>0</td>\n",
       "      <td>0</td>\n",
       "      <td>0</td>\n",
       "      <td>47.6634</td>\n",
       "      <td>-117.2193</td>\n",
       "    </tr>\n",
       "    <tr>\n",
       "      <th>2</th>\n",
       "      <td>2.0</td>\n",
       "      <td>1.0</td>\n",
       "      <td>3000.0</td>\n",
       "      <td>3.0</td>\n",
       "      <td>1.0</td>\n",
       "      <td>2895000.0</td>\n",
       "      <td>1.0</td>\n",
       "      <td>6.666667</td>\n",
       "      <td>1.960000</td>\n",
       "      <td>1961.0</td>\n",
       "      <td>1967.0</td>\n",
       "      <td>8626.0</td>\n",
       "      <td>1</td>\n",
       "      <td>1</td>\n",
       "      <td>1</td>\n",
       "      <td>34.0660</td>\n",
       "      <td>-118.4740</td>\n",
       "    </tr>\n",
       "    <tr>\n",
       "      <th>3</th>\n",
       "      <td>8.0</td>\n",
       "      <td>1.0</td>\n",
       "      <td>6457.0</td>\n",
       "      <td>5.0</td>\n",
       "      <td>3.0</td>\n",
       "      <td>2395000.0</td>\n",
       "      <td>0.0</td>\n",
       "      <td>9.250000</td>\n",
       "      <td>0.752500</td>\n",
       "      <td>2006.0</td>\n",
       "      <td>2006.0</td>\n",
       "      <td>8220.0</td>\n",
       "      <td>1</td>\n",
       "      <td>1</td>\n",
       "      <td>1</td>\n",
       "      <td>32.8260</td>\n",
       "      <td>-96.7843</td>\n",
       "    </tr>\n",
       "    <tr>\n",
       "      <th>9</th>\n",
       "      <td>3.0</td>\n",
       "      <td>0.0</td>\n",
       "      <td>1930.0</td>\n",
       "      <td>3.0</td>\n",
       "      <td>2.0</td>\n",
       "      <td>311995.0</td>\n",
       "      <td>0.0</td>\n",
       "      <td>3.000000</td>\n",
       "      <td>1.066667</td>\n",
       "      <td>2019.0</td>\n",
       "      <td>2019.0</td>\n",
       "      <td>2056.0</td>\n",
       "      <td>1</td>\n",
       "      <td>1</td>\n",
       "      <td>1</td>\n",
       "      <td>29.8159</td>\n",
       "      <td>-95.5230</td>\n",
       "    </tr>\n",
       "    <tr>\n",
       "      <th>12</th>\n",
       "      <td>3.0</td>\n",
       "      <td>0.0</td>\n",
       "      <td>2839.0</td>\n",
       "      <td>4.0</td>\n",
       "      <td>1.0</td>\n",
       "      <td>525000.0</td>\n",
       "      <td>1.0</td>\n",
       "      <td>7.333333</td>\n",
       "      <td>2.040000</td>\n",
       "      <td>1996.0</td>\n",
       "      <td>1997.0</td>\n",
       "      <td>10270.0</td>\n",
       "      <td>1</td>\n",
       "      <td>1</td>\n",
       "      <td>1</td>\n",
       "      <td>26.0185</td>\n",
       "      <td>-80.3449</td>\n",
       "    </tr>\n",
       "    <tr>\n",
       "      <th>...</th>\n",
       "      <td>...</td>\n",
       "      <td>...</td>\n",
       "      <td>...</td>\n",
       "      <td>...</td>\n",
       "      <td>...</td>\n",
       "      <td>...</td>\n",
       "      <td>...</td>\n",
       "      <td>...</td>\n",
       "      <td>...</td>\n",
       "      <td>...</td>\n",
       "      <td>...</td>\n",
       "      <td>...</td>\n",
       "      <td>...</td>\n",
       "      <td>...</td>\n",
       "      <td>...</td>\n",
       "      <td>...</td>\n",
       "      <td>...</td>\n",
       "    </tr>\n",
       "    <tr>\n",
       "      <th>373045</th>\n",
       "      <td>2.0</td>\n",
       "      <td>0.0</td>\n",
       "      <td>1273.0</td>\n",
       "      <td>2.0</td>\n",
       "      <td>1.0</td>\n",
       "      <td>339900.0</td>\n",
       "      <td>0.0</td>\n",
       "      <td>7.500000</td>\n",
       "      <td>2.560000</td>\n",
       "      <td>2002.0</td>\n",
       "      <td>2002.0</td>\n",
       "      <td>5227.0</td>\n",
       "      <td>1</td>\n",
       "      <td>1</td>\n",
       "      <td>1</td>\n",
       "      <td>38.9122</td>\n",
       "      <td>-77.0177</td>\n",
       "    </tr>\n",
       "    <tr>\n",
       "      <th>373046</th>\n",
       "      <td>3.0</td>\n",
       "      <td>0.0</td>\n",
       "      <td>1401.0</td>\n",
       "      <td>2.0</td>\n",
       "      <td>2.0</td>\n",
       "      <td>239900.0</td>\n",
       "      <td>0.0</td>\n",
       "      <td>4.666667</td>\n",
       "      <td>2.600000</td>\n",
       "      <td>2018.0</td>\n",
       "      <td>2018.0</td>\n",
       "      <td>5227.0</td>\n",
       "      <td>1</td>\n",
       "      <td>1</td>\n",
       "      <td>1</td>\n",
       "      <td>25.9597</td>\n",
       "      <td>-80.1403</td>\n",
       "    </tr>\n",
       "    <tr>\n",
       "      <th>373047</th>\n",
       "      <td>2.0</td>\n",
       "      <td>0.0</td>\n",
       "      <td>2283.0</td>\n",
       "      <td>3.0</td>\n",
       "      <td>1.0</td>\n",
       "      <td>361300.0</td>\n",
       "      <td>1.0</td>\n",
       "      <td>5.500000</td>\n",
       "      <td>6.990833</td>\n",
       "      <td>1994.0</td>\n",
       "      <td>1995.0</td>\n",
       "      <td>10000.0</td>\n",
       "      <td>1</td>\n",
       "      <td>1</td>\n",
       "      <td>1</td>\n",
       "      <td>41.9399</td>\n",
       "      <td>-87.6528</td>\n",
       "    </tr>\n",
       "    <tr>\n",
       "      <th>373048</th>\n",
       "      <td>3.0</td>\n",
       "      <td>1.0</td>\n",
       "      <td>1120.0</td>\n",
       "      <td>3.0</td>\n",
       "      <td>2.0</td>\n",
       "      <td>199900.0</td>\n",
       "      <td>0.0</td>\n",
       "      <td>2.000000</td>\n",
       "      <td>0.960000</td>\n",
       "      <td>1995.0</td>\n",
       "      <td>1995.0</td>\n",
       "      <td>11761.0</td>\n",
       "      <td>1</td>\n",
       "      <td>1</td>\n",
       "      <td>1</td>\n",
       "      <td>40.6775</td>\n",
       "      <td>-73.7758</td>\n",
       "    </tr>\n",
       "    <tr>\n",
       "      <th>373050</th>\n",
       "      <td>3.0</td>\n",
       "      <td>0.0</td>\n",
       "      <td>3069.0</td>\n",
       "      <td>4.0</td>\n",
       "      <td>1.0</td>\n",
       "      <td>315000.0</td>\n",
       "      <td>0.0</td>\n",
       "      <td>6.000000</td>\n",
       "      <td>1.833333</td>\n",
       "      <td>2018.0</td>\n",
       "      <td>2018.0</td>\n",
       "      <td>7501.0</td>\n",
       "      <td>1</td>\n",
       "      <td>1</td>\n",
       "      <td>1</td>\n",
       "      <td>29.4969</td>\n",
       "      <td>-98.4032</td>\n",
       "    </tr>\n",
       "  </tbody>\n",
       "</table>\n",
       "<p>126377 rows × 17 columns</p>\n",
       "</div>"
      ],
      "text/plain": [
       "        baths  fireplace    sqft  beds  stories     target  pool  \\\n",
       "1         3.0        0.0  1947.0   3.0      2.0   310000.0   0.0   \n",
       "2         2.0        1.0  3000.0   3.0      1.0  2895000.0   1.0   \n",
       "3         8.0        1.0  6457.0   5.0      3.0  2395000.0   0.0   \n",
       "9         3.0        0.0  1930.0   3.0      2.0   311995.0   0.0   \n",
       "12        3.0        0.0  2839.0   4.0      1.0   525000.0   1.0   \n",
       "...       ...        ...     ...   ...      ...        ...   ...   \n",
       "373045    2.0        0.0  1273.0   2.0      1.0   339900.0   0.0   \n",
       "373046    3.0        0.0  1401.0   2.0      2.0   239900.0   0.0   \n",
       "373047    2.0        0.0  2283.0   3.0      1.0   361300.0   1.0   \n",
       "373048    3.0        1.0  1120.0   3.0      2.0   199900.0   0.0   \n",
       "373050    3.0        0.0  3069.0   4.0      1.0   315000.0   0.0   \n",
       "\n",
       "        raiting_school  distance_school  year_built  remodeled_year  lotsize  \\\n",
       "1             4.000000         1.326667      2019.0          2019.0   5828.0   \n",
       "2             6.666667         1.960000      1961.0          1967.0   8626.0   \n",
       "3             9.250000         0.752500      2006.0          2006.0   8220.0   \n",
       "9             3.000000         1.066667      2019.0          2019.0   2056.0   \n",
       "12            7.333333         2.040000      1996.0          1997.0  10270.0   \n",
       "...                ...              ...         ...             ...      ...   \n",
       "373045        7.500000         2.560000      2002.0          2002.0   5227.0   \n",
       "373046        4.666667         2.600000      2018.0          2018.0   5227.0   \n",
       "373047        5.500000         6.990833      1994.0          1995.0  10000.0   \n",
       "373048        2.000000         0.960000      1995.0          1995.0  11761.0   \n",
       "373050        6.000000         1.833333      2018.0          2018.0   7501.0   \n",
       "\n",
       "        heating  cooling  parking  latitude  longitude  \n",
       "1             0        0        0   47.6634  -117.2193  \n",
       "2             1        1        1   34.0660  -118.4740  \n",
       "3             1        1        1   32.8260   -96.7843  \n",
       "9             1        1        1   29.8159   -95.5230  \n",
       "12            1        1        1   26.0185   -80.3449  \n",
       "...         ...      ...      ...       ...        ...  \n",
       "373045        1        1        1   38.9122   -77.0177  \n",
       "373046        1        1        1   25.9597   -80.1403  \n",
       "373047        1        1        1   41.9399   -87.6528  \n",
       "373048        1        1        1   40.6775   -73.7758  \n",
       "373050        1        1        1   29.4969   -98.4032  \n",
       "\n",
       "[126377 rows x 17 columns]"
      ]
     },
     "execution_count": 120,
     "metadata": {},
     "output_type": "execute_result"
    }
   ],
   "source": [
    "df"
   ]
  },
  {
   "cell_type": "code",
   "execution_count": null,
   "metadata": {},
   "outputs": [],
   "source": []
  },
  {
   "cell_type": "code",
   "execution_count": null,
   "metadata": {},
   "outputs": [],
   "source": []
  }
 ],
 "metadata": {
  "kernelspec": {
   "display_name": "Python 3 (ipykernel)",
   "language": "python",
   "name": "python3"
  },
  "language_info": {
   "codemirror_mode": {
    "name": "ipython",
    "version": 3
   },
   "file_extension": ".py",
   "mimetype": "text/x-python",
   "name": "python",
   "nbconvert_exporter": "python",
   "pygments_lexer": "ipython3",
   "version": "3.7.6"
  }
 },
 "nbformat": 4,
 "nbformat_minor": 4
}
